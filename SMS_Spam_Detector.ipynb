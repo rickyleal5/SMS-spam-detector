{
  "nbformat": 4,
  "nbformat_minor": 0,
  "metadata": {
    "colab": {
      "name": "SMS_Spam_Detector.ipynb",
      "provenance": []
    },
    "kernelspec": {
      "name": "python3",
      "display_name": "Python 3"
    }
  },
  "cells": [
    {
      "cell_type": "markdown",
      "metadata": {
        "id": "Af3PvonsKYXW"
      },
      "source": [
        "#### Project: SMS Spam Detector\n",
        "\n",
        "#### Programmer: Ricardo A. Leal\n",
        "\n",
        "#### Date: 09/26/2020\n",
        "\n",
        "#### Data collected from Kaggle: SMS Spam Collection Dataset, https://www.kaggle.com/uciml/sms-spam-collection-dataset\n",
        "\n",
        "#### Skills practiced in this project: Natural language processing, text pre-processing, Embedding, LSTM, GlobalMaxPooling,.\n",
        "\n",
        "\n",
        "##### Note: \n",
        "Some of my features are processed in a similar way to what I have learn on different machine learning courses, books and websites. This is a basic project to get familiar with machine learning techniques.\n"
      ]
    },
    {
      "cell_type": "code",
      "metadata": {
        "id": "Blx5dedDTcuY"
      },
      "source": [
        "import tensorflow as tf\n",
        "import pandas as pd\n",
        "import matplotlib.pyplot as plt\n",
        "import seaborn as sns\n",
        "import string\n",
        "from sklearn.model_selection import train_test_split\n",
        "from sklearn.metrics import confusion_matrix, classification_report, f1_score\n",
        "\n",
        "from tensorflow.keras.preprocessing.text import Tokenizer\n",
        "from tensorflow.keras.preprocessing.sequence import pad_sequences\n",
        "from tensorflow.keras.layers import Input, Embedding, LSTM, GlobalMaxPooling1D, Dense, Dropout\n",
        "from tensorflow.keras.models import Model\n",
        "\n",
        "#Extensions\n",
        "%matplotlib inline\n",
        "\n",
        "#Set seed to reproduce results\n",
        "tf.random.set_seed(99)\n"
      ],
      "execution_count": null,
      "outputs": []
    },
    {
      "cell_type": "markdown",
      "metadata": {
        "id": "h_eJywt4wtDk"
      },
      "source": [
        "## Get data"
      ]
    },
    {
      "cell_type": "code",
      "metadata": {
        "id": "JX5XjzQgTvq-"
      },
      "source": [
        "spam_df = pd.read_csv('spam.csv', encoding = 'ISO-8859-1')"
      ],
      "execution_count": null,
      "outputs": []
    },
    {
      "cell_type": "markdown",
      "metadata": {
        "id": "Wyx-Q7CVwuvD"
      },
      "source": [
        "## EDA"
      ]
    },
    {
      "cell_type": "code",
      "metadata": {
        "id": "9qlQ0MQlU2T0",
        "outputId": "78c20404-70f2-43e4-d4d9-41e80d19dd73",
        "colab": {
          "base_uri": "https://localhost:8080/",
          "height": 225
        }
      },
      "source": [
        "spam_df.info()"
      ],
      "execution_count": null,
      "outputs": [
        {
          "output_type": "stream",
          "text": [
            "<class 'pandas.core.frame.DataFrame'>\n",
            "RangeIndex: 5572 entries, 0 to 5571\n",
            "Data columns (total 5 columns):\n",
            " #   Column      Non-Null Count  Dtype \n",
            "---  ------      --------------  ----- \n",
            " 0   v1          5572 non-null   object\n",
            " 1   v2          5572 non-null   object\n",
            " 2   Unnamed: 2  50 non-null     object\n",
            " 3   Unnamed: 3  12 non-null     object\n",
            " 4   Unnamed: 4  6 non-null      object\n",
            "dtypes: object(5)\n",
            "memory usage: 217.8+ KB\n"
          ],
          "name": "stdout"
        }
      ]
    },
    {
      "cell_type": "code",
      "metadata": {
        "id": "HNa5DXqbWSCS"
      },
      "source": [
        "spam_df.drop(columns = ['Unnamed: 2', 'Unnamed: 3', 'Unnamed: 4'], inplace = True)"
      ],
      "execution_count": null,
      "outputs": []
    },
    {
      "cell_type": "code",
      "metadata": {
        "id": "-HCoLQ1fXAR9"
      },
      "source": [
        "spam_df.columns = ['Target', 'Message']"
      ],
      "execution_count": null,
      "outputs": []
    },
    {
      "cell_type": "code",
      "metadata": {
        "id": "n6wHiBaTLV8m",
        "outputId": "ba145e8d-6654-430a-8d22-42ec56d90b8b",
        "colab": {
          "base_uri": "https://localhost:8080/",
          "height": 175
        }
      },
      "source": [
        "spam_df.groupby('Target').describe()"
      ],
      "execution_count": null,
      "outputs": [
        {
          "output_type": "execute_result",
          "data": {
            "text/html": [
              "<div>\n",
              "<style scoped>\n",
              "    .dataframe tbody tr th:only-of-type {\n",
              "        vertical-align: middle;\n",
              "    }\n",
              "\n",
              "    .dataframe tbody tr th {\n",
              "        vertical-align: top;\n",
              "    }\n",
              "\n",
              "    .dataframe thead tr th {\n",
              "        text-align: left;\n",
              "    }\n",
              "\n",
              "    .dataframe thead tr:last-of-type th {\n",
              "        text-align: right;\n",
              "    }\n",
              "</style>\n",
              "<table border=\"1\" class=\"dataframe\">\n",
              "  <thead>\n",
              "    <tr>\n",
              "      <th></th>\n",
              "      <th colspan=\"4\" halign=\"left\">Message</th>\n",
              "    </tr>\n",
              "    <tr>\n",
              "      <th></th>\n",
              "      <th>count</th>\n",
              "      <th>unique</th>\n",
              "      <th>top</th>\n",
              "      <th>freq</th>\n",
              "    </tr>\n",
              "    <tr>\n",
              "      <th>Target</th>\n",
              "      <th></th>\n",
              "      <th></th>\n",
              "      <th></th>\n",
              "      <th></th>\n",
              "    </tr>\n",
              "  </thead>\n",
              "  <tbody>\n",
              "    <tr>\n",
              "      <th>ham</th>\n",
              "      <td>4825</td>\n",
              "      <td>4516</td>\n",
              "      <td>Sorry, I'll call later</td>\n",
              "      <td>30</td>\n",
              "    </tr>\n",
              "    <tr>\n",
              "      <th>spam</th>\n",
              "      <td>747</td>\n",
              "      <td>653</td>\n",
              "      <td>Please call our customer service representativ...</td>\n",
              "      <td>4</td>\n",
              "    </tr>\n",
              "  </tbody>\n",
              "</table>\n",
              "</div>"
            ],
            "text/plain": [
              "       Message                                                               \n",
              "         count unique                                                top freq\n",
              "Target                                                                       \n",
              "ham       4825   4516                             Sorry, I'll call later   30\n",
              "spam       747    653  Please call our customer service representativ...    4"
            ]
          },
          "metadata": {
            "tags": []
          },
          "execution_count": 6
        }
      ]
    },
    {
      "cell_type": "code",
      "metadata": {
        "id": "fdLZmhFAbLrb",
        "outputId": "027d58fd-e4ab-471c-a1af-1b3ec0fc0814",
        "colab": {
          "base_uri": "https://localhost:8080/",
          "height": 206
        }
      },
      "source": [
        "spam_df.head()"
      ],
      "execution_count": null,
      "outputs": [
        {
          "output_type": "execute_result",
          "data": {
            "text/html": [
              "<div>\n",
              "<style scoped>\n",
              "    .dataframe tbody tr th:only-of-type {\n",
              "        vertical-align: middle;\n",
              "    }\n",
              "\n",
              "    .dataframe tbody tr th {\n",
              "        vertical-align: top;\n",
              "    }\n",
              "\n",
              "    .dataframe thead th {\n",
              "        text-align: right;\n",
              "    }\n",
              "</style>\n",
              "<table border=\"1\" class=\"dataframe\">\n",
              "  <thead>\n",
              "    <tr style=\"text-align: right;\">\n",
              "      <th></th>\n",
              "      <th>Target</th>\n",
              "      <th>Message</th>\n",
              "    </tr>\n",
              "  </thead>\n",
              "  <tbody>\n",
              "    <tr>\n",
              "      <th>0</th>\n",
              "      <td>ham</td>\n",
              "      <td>Go until jurong point, crazy.. Available only ...</td>\n",
              "    </tr>\n",
              "    <tr>\n",
              "      <th>1</th>\n",
              "      <td>ham</td>\n",
              "      <td>Ok lar... Joking wif u oni...</td>\n",
              "    </tr>\n",
              "    <tr>\n",
              "      <th>2</th>\n",
              "      <td>spam</td>\n",
              "      <td>Free entry in 2 a wkly comp to win FA Cup fina...</td>\n",
              "    </tr>\n",
              "    <tr>\n",
              "      <th>3</th>\n",
              "      <td>ham</td>\n",
              "      <td>U dun say so early hor... U c already then say...</td>\n",
              "    </tr>\n",
              "    <tr>\n",
              "      <th>4</th>\n",
              "      <td>ham</td>\n",
              "      <td>Nah I don't think he goes to usf, he lives aro...</td>\n",
              "    </tr>\n",
              "  </tbody>\n",
              "</table>\n",
              "</div>"
            ],
            "text/plain": [
              "  Target                                            Message\n",
              "0    ham  Go until jurong point, crazy.. Available only ...\n",
              "1    ham                      Ok lar... Joking wif u oni...\n",
              "2   spam  Free entry in 2 a wkly comp to win FA Cup fina...\n",
              "3    ham  U dun say so early hor... U c already then say...\n",
              "4    ham  Nah I don't think he goes to usf, he lives aro..."
            ]
          },
          "metadata": {
            "tags": []
          },
          "execution_count": 7
        }
      ]
    },
    {
      "cell_type": "markdown",
      "metadata": {
        "id": "dlGd6-9_xAtw"
      },
      "source": [
        "## Data cleaning"
      ]
    },
    {
      "cell_type": "code",
      "metadata": {
        "id": "C6VpFNOrXCJQ"
      },
      "source": [
        "#Encode categorical labels into numerical labels\n",
        "spam_df['Target'].replace(to_replace = {'ham': 0, 'spam': 1}, inplace = True)"
      ],
      "execution_count": null,
      "outputs": []
    },
    {
      "cell_type": "code",
      "metadata": {
        "id": "AH_msLZgbR5m",
        "outputId": "03655bfc-8bcd-4dde-cd0a-4609592d2666",
        "colab": {
          "base_uri": "https://localhost:8080/",
          "height": 206
        }
      },
      "source": [
        "spam_df.head()"
      ],
      "execution_count": null,
      "outputs": [
        {
          "output_type": "execute_result",
          "data": {
            "text/html": [
              "<div>\n",
              "<style scoped>\n",
              "    .dataframe tbody tr th:only-of-type {\n",
              "        vertical-align: middle;\n",
              "    }\n",
              "\n",
              "    .dataframe tbody tr th {\n",
              "        vertical-align: top;\n",
              "    }\n",
              "\n",
              "    .dataframe thead th {\n",
              "        text-align: right;\n",
              "    }\n",
              "</style>\n",
              "<table border=\"1\" class=\"dataframe\">\n",
              "  <thead>\n",
              "    <tr style=\"text-align: right;\">\n",
              "      <th></th>\n",
              "      <th>Target</th>\n",
              "      <th>Message</th>\n",
              "    </tr>\n",
              "  </thead>\n",
              "  <tbody>\n",
              "    <tr>\n",
              "      <th>0</th>\n",
              "      <td>0</td>\n",
              "      <td>Go until jurong point, crazy.. Available only ...</td>\n",
              "    </tr>\n",
              "    <tr>\n",
              "      <th>1</th>\n",
              "      <td>0</td>\n",
              "      <td>Ok lar... Joking wif u oni...</td>\n",
              "    </tr>\n",
              "    <tr>\n",
              "      <th>2</th>\n",
              "      <td>1</td>\n",
              "      <td>Free entry in 2 a wkly comp to win FA Cup fina...</td>\n",
              "    </tr>\n",
              "    <tr>\n",
              "      <th>3</th>\n",
              "      <td>0</td>\n",
              "      <td>U dun say so early hor... U c already then say...</td>\n",
              "    </tr>\n",
              "    <tr>\n",
              "      <th>4</th>\n",
              "      <td>0</td>\n",
              "      <td>Nah I don't think he goes to usf, he lives aro...</td>\n",
              "    </tr>\n",
              "  </tbody>\n",
              "</table>\n",
              "</div>"
            ],
            "text/plain": [
              "   Target                                            Message\n",
              "0       0  Go until jurong point, crazy.. Available only ...\n",
              "1       0                      Ok lar... Joking wif u oni...\n",
              "2       1  Free entry in 2 a wkly comp to win FA Cup fina...\n",
              "3       0  U dun say so early hor... U c already then say...\n",
              "4       0  Nah I don't think he goes to usf, he lives aro..."
            ]
          },
          "metadata": {
            "tags": []
          },
          "execution_count": 9
        }
      ]
    },
    {
      "cell_type": "code",
      "metadata": {
        "id": "6DjTLQ4_Xgfn",
        "outputId": "f0205ffa-fa78-40c1-9255-9c77c307df7a",
        "colab": {
          "base_uri": "https://localhost:8080/",
          "height": 173
        }
      },
      "source": [
        "spam_df.info()"
      ],
      "execution_count": null,
      "outputs": [
        {
          "output_type": "stream",
          "text": [
            "<class 'pandas.core.frame.DataFrame'>\n",
            "RangeIndex: 5572 entries, 0 to 5571\n",
            "Data columns (total 2 columns):\n",
            " #   Column   Non-Null Count  Dtype \n",
            "---  ------   --------------  ----- \n",
            " 0   Target   5572 non-null   int64 \n",
            " 1   Message  5572 non-null   object\n",
            "dtypes: int64(1), object(1)\n",
            "memory usage: 87.2+ KB\n"
          ],
          "name": "stdout"
        }
      ]
    },
    {
      "cell_type": "code",
      "metadata": {
        "id": "WLvaKOypX8P2"
      },
      "source": [
        "#Split data\n",
        "X = spam_df['Message'].copy()\n",
        "y = spam_df['Target'].copy()"
      ],
      "execution_count": null,
      "outputs": []
    },
    {
      "cell_type": "code",
      "metadata": {
        "id": "mtyKlRR0c3m1"
      },
      "source": [
        "#Convert all characters to lowercase\n",
        "spam_df['Message'] = spam_df['Message'].str.lower()"
      ],
      "execution_count": null,
      "outputs": []
    },
    {
      "cell_type": "markdown",
      "metadata": {
        "id": "7xNs07xpepn3"
      },
      "source": [
        "##### Remove punctuation:\n",
        "\n",
        "I will replace all punctuation characters with whitespaces instead of an empty character to avoid creating new words.  \n",
        "\n",
        "The reason: If I replace punctuation with an empty character, the sentence \"Hello,world\" would be changed to \"Helloworld\" instead of \"Hello world\" "
      ]
    },
    {
      "cell_type": "code",
      "metadata": {
        "id": "Ec1EURescpuM"
      },
      "source": [
        "'''\n",
        "Function 'replace_message_punctuation': replaces punctuation characters with whitespaces\n",
        "'''\n",
        "def replace_message_punctuation(message):\n",
        "    for punctuation in string.punctuation:\n",
        "        message = message.replace(punctuation, ' ')\n",
        "    return message"
      ],
      "execution_count": null,
      "outputs": []
    },
    {
      "cell_type": "code",
      "metadata": {
        "id": "0Kbe18Dkc-cf"
      },
      "source": [
        "#Replace punctuation\n",
        "spam_df['Message'] = spam_df['Message'].apply(replace_message_punctuation)"
      ],
      "execution_count": null,
      "outputs": []
    },
    {
      "cell_type": "code",
      "metadata": {
        "id": "bBNqL_gUYjMG"
      },
      "source": [
        "#Create train and test sets\n",
        "X_train, X_test, y_train, y_test = train_test_split(X, y, test_size = 0.2, random_state = 555, stratify = y)"
      ],
      "execution_count": null,
      "outputs": []
    },
    {
      "cell_type": "code",
      "metadata": {
        "id": "DCsLjt0iZtMB"
      },
      "source": [
        "#Tokenize messages\n",
        "max_num_words = 15000\n",
        "oov_token = '<UNK>'\n",
        "\n",
        "#Create tokenizer\n",
        "tokenizer = Tokenizer(num_words = max_num_words, oov_token = oov_token)\n",
        "#Fit the train messages\n",
        "tokenizer.fit_on_texts(X_train)\n",
        "\n",
        "#Transform both train and test messages\n",
        "X_train = tokenizer.texts_to_sequences(X_train)\n",
        "X_test = tokenizer.texts_to_sequences(X_test)"
      ],
      "execution_count": null,
      "outputs": []
    },
    {
      "cell_type": "code",
      "metadata": {
        "id": "Y8OqxsbSeliI",
        "outputId": "b6c077af-5025-4946-fcdb-a487300b774e",
        "colab": {
          "base_uri": "https://localhost:8080/",
          "height": 72
        }
      },
      "source": [
        "#Explore tokens\n",
        "vocabulary_size = len(tokenizer.word_index)\n",
        "print(\"Number of tokens:\", vocabulary_size)\n",
        "print(\"Word index:\", tokenizer.word_index)"
      ],
      "execution_count": null,
      "outputs": [
        {
          "output_type": "stream",
          "text": [
            "Number of tokens: 8039\n",
            "Word index: {'<UNK>': 1, 'i': 2, 'to': 3, 'you': 4, 'a': 5, 'the': 6, 'u': 7, 'and': 8, 'in': 9, 'is': 10, 'me': 11, 'my': 12, 'for': 13, 'your': 14, 'it': 15, 'of': 16, 'call': 17, 'have': 18, 'on': 19, 'that': 20, '2': 21, 'now': 22, 'are': 23, 'so': 24, 'but': 25, 'not': 26, 'can': 27, 'do': 28, 'or': 29, 'at': 30, 'ur': 31, \"i'm\": 32, 'get': 33, 'be': 34, 'will': 35, 'with': 36, 'if': 37, 'just': 38, 'no': 39, 'we': 40, 'this': 41, 'gt': 42, 'lt': 43, '4': 44, 'go': 45, 'when': 46, 'up': 47, 'all': 48, 'from': 49, 'ok': 50, 'how': 51, 'what': 52, 'know': 53, 'free': 54, 'out': 55, 'good': 56, 'then': 57, 'like': 58, 'got': 59, 'come': 60, 'was': 61, 'its': 62, 'love': 63, 'day': 64, 'time': 65, 'am': 66, 'only': 67, 'want': 68, 'there': 69, 'send': 70, 'text': 71, 'txt': 72, 'he': 73, 'home': 74, 'as': 75, 'one': 76, 'going': 77, 'r': 78, 'see': 79, 'by': 80, 'need': 81, \"i'll\": 82, 'about': 83, 'reply': 84, 'lor': 85, 'n': 86, 'stop': 87, 'sorry': 88, 'da': 89, 'mobile': 90, 'back': 91, 'our': 92, 'k': 93, 'still': 94, 'dont': 95, 'hi': 96, 'today': 97, 'pls': 98, 'she': 99, 'her': 100, \"don't\": 101, 'take': 102, 'new': 103, 'tell': 104, 'some': 105, 'any': 106, 'please': 107, 'phone': 108, 'think': 109, 'here': 110, 'been': 111, 'later': 112, 'did': 113, '1': 114, 'dear': 115, 'night': 116, 'much': 117, 'week': 118, 'they': 119, 'ì': 120, 'well': 121, 'claim': 122, 'him': 123, 'too': 124, 'an': 125, 'happy': 126, 'd': 127, 'great': 128, 'has': 129, 'hey': 130, 'hope': 131, 'had': 132, 'msg': 133, 'where': 134, 'more': 135, 'oh': 136, 'who': 137, 'yes': 138, 'www': 139, 'say': 140, 'should': 141, 'work': 142, 'c': 143, 'way': 144, 'e': 145, 'give': 146, 'message': 147, 'make': 148, 'number': 149, 'tomorrow': 150, '3': 151, 'wat': 152, 'doing': 153, 'right': 154, 'ask': 155, 'already': 156, 'prize': 157, 'cash': 158, 'amp': 159, 'im': 160, 'after': 161, 'why': 162, 'said': 163, 'yeah': 164, 'babe': 165, \"it's\": 166, 'them': 167, 'miss': 168, 'morning': 169, 'thanks': 170, 'last': 171, 'meet': 172, 'very': 173, 'lol': 174, 'really': 175, 'pick': 176, 'life': 177, 'find': 178, 'sent': 179, 'would': 180, 'let': 181, 'win': 182, 'also': 183, 'keep': 184, 'cos': 185, 'com': 186, 'urgent': 187, 'b': 188, 'uk': 189, 'every': 190, 't': 191, 'min': 192, 'sure': 193, 'first': 194, \"i've\": 195, 'buy': 196, 'someone': 197, 'before': 198, '5': 199, '150p': 200, 'wait': 201, 'us': 202, 'nokia': 203, 'ya': 204, 'contact': 205, 'cant': 206, 'over': 207, 'went': 208, 'anything': 209, 'nice': 210, 'next': 211, 'again': 212, 'were': 213, '50': 214, 'something': 215, 'friends': 216, 'care': 217, 'leave': 218, 'money': 219, 'place': 220, 'tone': 221, 'sleep': 222, 'thing': 223, 'around': 224, 'soon': 225, 'feel': 226, 'chat': 227, 'won': 228, 'service': 229, 'tonight': 230, 'could': 231, 'always': 232, 'down': 233, 'co': 234, 's': 235, 'customer': 236, 'which': 237, 'even': 238, 'late': 239, 'done': 240, 'dun': 241, 'per': 242, 'gonna': 243, 'other': 244, \"you're\": 245, 'v': 246, 'hello': 247, 'off': 248, 'many': 249, 'live': 250, 'wish': 251, 'gud': 252, 'his': 253, 'waiting': 254, 'same': 255, 'name': 256, \"can't\": 257, 'things': 258, \"that's\": 259, 'told': 260, 'x': 261, 'wan': 262, 'guaranteed': 263, '16': 264, '7': 265, 'thk': 266, 'may': 267, 'try': 268, 'help': 269, 'getting': 270, 'fine': 271, 'use': 272, 'coming': 273, 'yet': 274, \"didn't\": 275, 'people': 276, 'heart': 277, 'mins': 278, 'ìï': 279, 'special': 280, '6': 281, 'year': 282, 'holiday': 283, 'y': 284, 'line': 285, 'sms': 286, 'ready': 287, 'ill': 288, 'talk': 289, 'job': 290, 'lunch': 291, 'friend': 292, 'being': 293, 'thought': 294, 'man': 295, 'smile': 296, 'meeting': 297, 'class': 298, 'long': 299, 'cs': 300, 'bit': 301, 'å£1': 302, 'half': 303, 'mind': 304, 'stuff': 305, 'days': 306, 'best': 307, 'play': 308, 'lot': 309, '18': 310, 'latest': 311, 'another': 312, 'yo': 313, 'few': 314, 'account': 315, 'shit': 316, 'haha': 317, 'cool': 318, 'enjoy': 319, 'nothing': 320, 'yup': 321, 'sir': 322, 'never': 323, 'video': 324, 'girl': 325, 'house': 326, 'god': 327, 'person': 328, 'awarded': 329, 'draw': 330, 'having': 331, 'luv': 332, 'check': 333, 'chance': 334, 'lar': 335, 'than': 336, 'liao': 337, 'big': 338, 'dat': 339, 'camera': 340, 'problem': 341, 'end': 342, 'ah': 343, 'guys': 344, 'dinner': 345, 'trying': 346, 'real': 347, 'car': 348, 'guess': 349, 'into': 350, 'word': 351, 'wk': 352, 'wanna': 353, 'better': 354, 'shows': 355, 'bed': 356, 'den': 357, 'finish': 358, 'thanx': 359, 'offer': 360, '1st': 361, 'shopping': 362, 'watch': 363, 'thats': 364, 'birthday': 365, 'eat': 366, 'receive': 367, 'å£1000': 368, 'hear': 369, 'watching': 370, 'jus': 371, 'cost': 372, 'put': 373, 'maybe': 374, 'boy': 375, 'because': 376, 'ever': 377, 'code': 378, 'box': 379, 'probably': 380, 'world': 381, 'princess': 382, 'pa': 383, 'weekend': 384, 'ringtone': 385, 'sweet': 386, 'everything': 387, 'tv': 388, 'start': 389, 'office': 390, 'dis': 391, 'month': 392, 'might': 393, 'does': 394, 'aight': 395, 'network': 396, 'bt': 397, 'look': 398, 'plan': 399, 'called': 400, 'minutes': 401, 'baby': 402, 'apply': 403, 'without': 404, 'tmr': 405, 'award': 406, 'remember': 407, 'po': 408, 'rate': 409, \"he's\": 410, 'xxx': 411, 'collect': 412, '10': 413, 'reach': 414, 'details': 415, 'll': 416, 'fun': 417, 'quite': 418, 'orange': 419, 'landline': 420, '150ppm': 421, 'wife': 422, '9': 423, 'room': 424, 'kiss': 425, 'selected': 426, 'abt': 427, '8': 428, 'hav': 429, 'while': 430, 'evening': 431, 'two': 432, 'once': 433, 'update': 434, 'away': 435, 'enough': 436, 'missing': 437, 'most': 438, 'easy': 439, 'must': 440, 'pay': 441, 'between': 442, 'anyway': 443, 'little': 444, 'though': 445, 'didnt': 446, 'join': 447, 'actually': 448, 'dunno': 449, '000': 450, 'left': 451, 'times': 452, 'wont': 453, 'sat': 454, 'speak': 455, 'm': 456, 'sexy': 457, 'wot': 458, 'texts': 459, 'valid': 460, 'bad': 461, 'since': 462, 'bus': 463, 'goes': 464, 'tones': 465, 'early': 466, 'price': 467, 'working': 468, 'shop': 469, 'shall': 470, 'g': 471, 'made': 472, 'those': 473, 'food': 474, 'til': 475, 'xmas': 476, 'okay': 477, 'missed': 478, 'bored': 479, \"''\": 480, 'attempt': 481, 'hour': 482, 'wif': 483, 'looking': 484, 'came': 485, 'leh': 486, 'oso': 487, '2nd': 488, 'forgot': 489, \"there's\": 490, 'says': 491, 'collection': 492, 'part': 493, 'able': 494, \"how's\": 495, 'music': 496, 'de': 497, 'fuck': 498, 'thank': 499, 'making': 500, 'mail': 501, 'afternoon': 502, 'town': 503, 'friendship': 504, 'change': 505, 'gift': 506, 'else': 507, 'pain': 508, 'yours': 509, 'juz': 510, 'plus': 511, 'until': 512, 'wid': 513, 'messages': 514, 'yesterday': 515, 'online': 516, 'colour': 517, 'school': 518, 'national': 519, 'means': 520, 'face': 521, 'movie': 522, 'trip': 523, \"we're\": 524, \"haven't\": 525, 'lei': 526, 'delivery': 527, 're': 528, 'calls': 529, 'hair': 530, 'wanted': 531, 'asked': 532, 'id': 533, \"what's\": 534, 'top': 535, 'these': 536, 'wen': 537, 'mob': 538, 'family': 539, 'hurt': 540, '500': 541, 'game': 542, 'true': 543, 'run': 544, 'together': 545, 'å£2000': 546, 'beautiful': 547, 'saw': 548, 'havent': 549, 'drive': 550, '10p': 551, 'important': 552, 'news': 553, 'plz': 554, 'driving': 555, 'happen': 556, 'hours': 557, 'net': 558, 'games': 559, 'http': 560, 'wake': 561, 'leaving': 562, 'words': 563, 'order': 564, 'bonus': 565, 'points': 566, 'goin': 567, 'tot': 568, 'show': 569, 'dad': 570, 'post': 571, 'smiling': 572, 'hot': 573, 'weekly': 574, 'pounds': 575, 'stay': 576, 'sad': 577, 'feeling': 578, 'coz': 579, 'head': 580, 'gd': 581, 'date': 582, 'makes': 583, 'book': 584, 'worry': 585, 'comes': 586, 'haf': 587, 'sae': 588, \"she's\": 589, 'smoke': 590, 'wants': 591, 'decimal': 592, 'guy': 593, \"won't\": 594, 'alright': 595, 'todays': 596, 'mean': 597, 'ard': 598, 'believe': 599, 'both': 600, 'simple': 601, '11': 602, 'å£500': 603, 'å£100': 604, 'dude': 605, 'answer': 606, 'calling': 607, 'question': 608, 'tried': 609, 'girls': 610, '750': 611, 'anytime': 612, 'entry': 613, 'email': 614, 'finished': 615, 'nite': 616, 'dreams': 617, 'huh': 618, 'club': 619, 'pm': 620, 'await': 621, 'bring': 622, 'double': 623, 'final': 624, 'till': 625, 'either': 626, 'land': 627, 'expires': 628, 'okie': 629, '8007': 630, 'lets': 631, '12hrs': 632, 'years': 633, 'poly': 634, 'private': 635, 'statement': 636, 'chikku': 637, 'card': 638, 'saying': 639, 'address': 640, 'everyone': 641, 'charge': 642, \"c's\": 643, 'opt': 644, 'yourself': 645, 'choose': 646, 'alone': 647, 'vouchers': 648, 'tel': 649, 'walk': 650, '100': 651, 'thinking': 652, 'hand': 653, 'sleeping': 654, 'cause': 655, 'gr8': 656, 'rite': 657, 'tho': 658, 'awesome': 659, 'identifier': 660, 'congrats': 661, 'taking': 662, 'neva': 663, 'lucky': 664, 'set': 665, 'services': 666, 'reason': 667, 'worth': 668, 'saturday': 669, 'college': 670, 'gone': 671, 'anyone': 672, 'info': 673, '08000930705': 674, 'loving': 675, 'angry': 676, 'sis': 677, 'drink': 678, 'quiz': 679, 'freemsg': 680, 'company': 681, 'search': 682, '\\x89û': 683, 'forget': 684, 'unsubscribe': 685, 'wit': 686, 'å£5000': 687, 'old': 688, 'open': 689, 'test': 690, 'full': 691, 'ring': 692, 'noe': 693, 'aft': 694, 'frm': 695, 'voucher': 696, 'busy': 697, 'nt': 698, 'light': 699, 'needs': 700, '86688': 701, 'operator': 702, 'msgs': 703, 'pub': 704, 'lots': 705, 'winner': 706, 'lose': 707, 'party': 708, 'far': 709, 'available': 710, 'father': 711, 'content': 712, 'camcorder': 713, '30': 714, 'player': 715, 'o': 716, 'offers': 717, 'dating': 718, 'happened': 719, 'pic': 720, 'sch': 721, 'friday': 722, \"we'll\": 723, 'march': 724, 'story': 725, 'frnds': 726, 'break': 727, 'weeks': 728, \"doesn't\": 729, 'fast': 730, 'smth': 731, 'mates': 732, 'minute': 733, 'tomo': 734, 'earlier': 735, 'lesson': 736, 'frnd': 737, 'snow': 738, 'found': 739, 'outside': 740, 'hit': 741, 'whatever': 742, 'row': 743, 'mayb': 744, 'treat': 745, 'telling': 746, 'mum': 747, 'brother': 748, 'ltd': 749, 'enter': 750, 'boytoy': 751, 'sun': 752, 'started': 753, 'case': 754, 'xx': 755, 'etc': 756, 'wrong': 757, 'fri': 758, 'drop': 759, 'bout': 760, 'via': 761, 'rental': 762, 'prob': 763, 'savamob': 764, 'å£3': 765, 'lovely': 766, 'wkly': 767, 'nope': 768, 'ten': 769, 'knw': 770, 'unlimited': 771, 'invited': 772, 'read': 773, 'tc': 774, 'yr': 775, 'eve': 776, 'caller': 777, 'auction': 778, 'hmm': 779, 'hard': 780, 'w': 781, 'congratulations': 782, 'second': 783, 'gym': 784, 'download': 785, 'hmmm': 786, 'took': 787, 'currently': 788, 'christmas': 789, 'blue': 790, 'wil': 791, \"wasn't\": 792, 'course': 793, 'close': 794, 'log': 795, 'th': 796, 'mate': 797, 'each': 798, 'don': 799, 'ha': 800, 'crazy': 801, '2003': 802, '800': 803, 'un': 804, 'fucking': 805, 'seen': 806, 'visit': 807, 'takes': 808, 'bath': 809, 'wana': 810, 'type': 811, 'john': 812, 'å£250': 813, 'mine': 814, 'charged': 815, 'pretty': 816, 'sex': 817, 'parents': 818, 'secret': 819, 'ni8': 820, '20': 821, 'touch': 822, 'india': 823, \"you'll\": 824, 'ends': 825, 'fancy': 826, 'kind': 827, 'felt': 828, \"you've\": 829, 'press': 830, 'wonder': 831, 'mobiles': 832, 'mobileupd8': 833, '03': 834, 'sending': 835, 'pobox': 836, 'red': 837, 'hungry': 838, 'age': 839, 'reward': 840, 'ago': 841, 'used': 842, 'å£2': 843, 'balance': 844, 'ass': 845, 'couple': 846, 'truth': 847, 'valued': 848, 'crave': 849, 'goodmorning': 850, 'eh': 851, 'grins': 852, 'their': 853, 'seeing': 854, 'darlin': 855, 'sounds': 856, 'understand': 857, 'mr': 858, 'decided': 859, 'rs': 860, 'sea': 861, 'listen': 862, 'redeemed': 863, '04': 864, 'stupid': 865, 'sister': 866, 'gal': 867, 'feels': 868, 'store': 869, 'park': 870, 'finally': 871, 'motorola': 872, 'bank': 873, 'point': 874, 'mah': 875, 'usual': 876, 'asking': 877, 'side': 878, 'gas': 879, 'askd': 880, 'monday': 881, 'yep': 882, 'remove': 883, 'ugh': 884, 'gotta': 885, 'thinks': 886, 'bcoz': 887, 'cheap': 888, 'wine': 889, 'numbers': 890, 'somebody': 891, 'tonite': 892, 'loved': 893, 'slow': 894, 'pics': 895, '08000839402': 896, 'small': 897, 'oredi': 898, 'mom': 899, 'within': 900, 'hold': 901, 'bslvyl': 902, 'whats': 903, 'eg': 904, 'welcome': 905, 'immediately': 906, 'support': 907, 'surprise': 908, 'b4': 909, 'correct': 910, 'complimentary': 911, 'least': 912, 'meant': 913, 'mu': 914, 'å£350': 915, 'dnt': 916, 'exam': 917, 'talking': 918, 'muz': 919, 'credit': 920, 'txts': 921, 'wonderful': 922, 'ringtones': 923, 'hows': 924, 'sound': 925, 'asap': 926, 'area': 927, 'pass': 928, 'phones': 929, 'f': 930, 'moment': 931, 'laptop': 932, 'police': 933, 'project': 934, '87066': 935, 'ts': 936, 'safe': 937, 'reading': 938, 'none': 939, 'against': 940, 'loads': 941, 'hoping': 942, 'laugh': 943, 'supposed': 944, 'die': 945, 'fr': 946, 'wap': 947, 'difficult': 948, 'excellent': 949, 'woke': 950, 'ipod': 951, 'custcare': 952, 'hospital': 953, 'starts': 954, 'own': 955, 'carlos': 956, 'discount': 957, 'sub': 958, 'st': 959, 'knew': 960, 'sony': 961, 'match': 962, 'fone': 963, 'convey': 964, 'near': 965, 'tired': 966, 'empty': 967, 'luck': 968, 'del': 969, 'call2optout': 970, 'urself': 971, 'fantastic': 972, 'energy': 973, 'valentines': 974, 'nah': 975, 'dead': 976, 'gets': 977, 'il': 978, 'wishing': 979, 'abiola': 980, 'sell': 981, 'usf': 982, 'ive': 983, 'shower': 984, 'poor': 985, \"'\": 986, 'semester': 987, 'doin': 988, 'oops': 989, 'cut': 990, 'rates': 991, 'less': 992, 'access': 993, 'heard': 994, 'almost': 995, 'picking': 996, 'film': 997, 'water': 998, 'jay': 999, 'suite342': 1000, '2lands': 1001, 'glad': 1002, 'wow': 1003, 'merry': 1004, 'extra': 1005, 'information': 1006, 'song': 1007, 'brings': 1008, 'å£200': 1009, 'knows': 1010, 'summer': 1011, 'met': 1012, 'charity': 1013, 'situation': 1014, 'street': 1015, '12': 1016, 'sunday': 1017, 'gn': 1018, 'orchard': 1019, 'move': 1020, 'questions': 1021, 'cum': 1022, 'å£10': 1023, \"isn't\": 1024, '20p': 1025, 'dream': 1026, 'doesnt': 1027, 'bak': 1028, 'worried': 1029, \"joy's\": 1030, 'ans': 1031, 'nobody': 1032, 'bathe': 1033, 'warm': 1034, 'sunshine': 1035, 'through': 1036, 'cake': 1037, 'forwarded': 1038, 'comp': 1039, 'whole': 1040, 'din': 1041, 'starting': 1042, 'style': 1043, 'spent': 1044, 'sp': 1045, 'kinda': 1046, 'disturb': 1047, 'noon': 1048, 'ar': 1049, 'entered': 1050, \"b'day\": 1051, 'boss': 1052, '25p': 1053, 'ldn': 1054, 'rply': 1055, 'somewhere': 1056, 'reaching': 1057, 'credits': 1058, 'happiness': 1059, 'kick': 1060, 'weed': 1061, 'myself': 1062, 'yar': 1063, 'write': 1064, 'especially': 1065, 'sofa': 1066, 'spend': 1067, 'opinion': 1068, 'ave': 1069, 'computer': 1070, '0800': 1071, 'staying': 1072, 'others': 1073, 'ex': 1074, 'blood': 1075, 'bedroom': 1076, 'mood': 1077, 'train': 1078, 'realy': 1079, 'studying': 1080, 'mrt': 1081, 'voice': 1082, 'terms': 1083, 'slowly': 1084, 'txting': 1085, 'getzed': 1086, 'darren': 1087, 'lovable': 1088, 'seriously': 1089, 'deep': 1090, 'different': 1091, '3030': 1092, 'link': 1093, 'forever': 1094, 'age16': 1095, 'months': 1096, 'confirm': 1097, 'sick': 1098, 'clean': 1099, 'leaves': 1100, 'mrng': 1101, 'std': 1102, 'across': 1103, 'rakhesh': 1104, 'mode': 1105, '11mths': 1106, 'future': 1107, 'nyt': 1108, 'paper': 1109, \"where's\": 1110, 'power': 1111, 'plans': 1112, 'decide': 1113, 'pray': 1114, 'uncle': 1115, 'wondering': 1116, 'trouble': 1117, 'complete': 1118, 'specially': 1119, 'loves': 1120, 'ntt': 1121, '0870': 1122, 'ldew': 1123, 'south': 1124, 'recently': 1125, 'yijue': 1126, 'hai': 1127, '2nite': 1128, 'wednesday': 1129, 'space': 1130, 'gettin': 1131, 'picked': 1132, 'al': 1133, 'sim': 1134, 'chennai': 1135, 'imma': 1136, \"t's\": 1137, 'return': 1138, 'mp3': 1139, 'lemme': 1140, 'å£150': 1141, 'member': 1142, '00': 1143, 'reveal': 1144, 'dvd': 1145, '82277': 1146, 'daddy': 1147, 'na': 1148, 'wishes': 1149, 'fingers': 1150, 'eyes': 1151, 'movies': 1152, 'wiv': 1153, 'sometimes': 1154, 'spree': 1155, 'ones': 1156, 'itself': 1157, 'vl': 1158, 'fat': 1159, 'anymore': 1160, 'pizza': 1161, 'page': 1162, 'rock': 1163, 'cancel': 1164, 'short': 1165, 'tampa': 1166, 'tickets': 1167, 'booked': 1168, 'road': 1169, 'sitting': 1170, 'figure': 1171, 'trust': 1172, 'promise': 1173, 'pc': 1174, 'training': 1175, 'kate': 1176, 'j': 1177, 'longer': 1178, '87077': 1179, 'black': 1180, '3g': 1181, 'goodnight': 1182, 'p': 1183, 'user': 1184, 'hw': 1185, 'fact': 1186, 'lmao': 1187, 'including': 1188, 'hiya': 1189, 'å£800': 1190, 'funny': 1191, 'entitled': 1192, 'pleasure': 1193, '150': 1194, 'bill': 1195, 'flirt': 1196, 'advance': 1197, '2004': 1198, 'hurry': 1199, 'ending': 1200, 'single': 1201, 'ip4': 1202, '5we': 1203, 'em': 1204, 'lessons': 1205, 'model': 1206, 'paid': 1207, 'arrive': 1208, 'checking': 1209, 'w1j6hl': 1210, 'unless': 1211, 'liked': 1212, 'rest': 1213, 'maid': 1214, 'murderer': 1215, 'murdered': 1216, 'january': 1217, 'otherwise': 1218, 'mm': 1219, 'facebook': 1220, 'awaiting': 1221, 'iam': 1222, 'honey': 1223, '50p': 1224, 'children': 1225, 'planning': 1226, 'ge': 1227, 'vikky': 1228, 'england': 1229, 'menu': 1230, 'medical': 1231, 'tenerife': 1232, 'library': 1233, 'comin': 1234, 'buzz': 1235, '4u': 1236, 'dogging': 1237, 'direct': 1238, 'ac': 1239, \"who's\": 1240, 'marriage': 1241, 'silent': 1242, 'goto': 1243, 'comuk': 1244, 'mo': 1245, 'seems': 1246, 'weekends': 1247, 'å£900': 1248, 'o2': 1249, 'hell': 1250, 'inc': 1251, 'slave': 1252, 'gay': 1253, 'battery': 1254, 'happens': 1255, 'ho': 1256, 'hmv': 1257, 'pete': 1258, 'reached': 1259, \"you'd\": 1260, 'unsub': 1261, 'cover': 1262, 'king': 1263, 'normal': 1264, 'quick': 1265, 'loyalty': 1266, 'team': 1267, 'meh': 1268, 'frens': 1269, 'bid': 1270, 'naughty': 1271, 'rain': 1272, 'swing': 1273, 'daily': 1274, '1327': 1275, 'croydon': 1276, 'cr9': 1277, '5wb': 1278, 'omg': 1279, 'lost': 1280, 'num': 1281, 'kano': 1282, 'version': 1283, 'ice': 1284, 'hr': 1285, '7pm': 1286, 'bucks': 1287, 'bother': 1288, 'door': 1289, 'fyi': 1290, \"they're\": 1291, 'hrs': 1292, 'coffee': 1293, 'nature': 1294, 'wats': 1295, '8th': 1296, 'polys': 1297, 'worse': 1298, 'depends': 1299, '85023': 1300, 'gee': 1301, 'slept': 1302, 'la': 1303, '4th': 1304, 'admirer': 1305, 'hl': 1306, 'country': 1307, 'mid': 1308, 'jst': 1309, 'station': 1310, 'lazy': 1311, 'cinema': 1312, 'created': 1313, 'gap': 1314, 'bag': 1315, 'mark': 1316, 'theatre': 1317, 'checked': 1318, 'alex': 1319, \"uk's\": 1320, 'costa': 1321, 'sol': 1322, 'sk38xh': 1323, 'cute': 1324, 'bluetooth': 1325, 'deal': 1326, 'valentine': 1327, 'turns': 1328, 'thnk': 1329, 'bold': 1330, 'catch': 1331, 'interested': 1332, 'fixed': 1333, 'shd': 1334, 'showing': 1335, 'using': 1336, 'sign': 1337, 'freephone': 1338, 'digital': 1339, 'representative': 1340, 'gave': 1341, \"u've\": 1342, 'five': 1343, 'kids': 1344, 'rent': 1345, 'due': 1346, 'completely': 1347, 'rose': 1348, 'marry': 1349, 'lover': 1350, 'personal': 1351, 'some1': 1352, 'paying': 1353, 'colleagues': 1354, 'sed': 1355, 'yoga': 1356, 'keeping': 1357, 'joined': 1358, 'registered': 1359, 'replying': 1360, 'save': 1361, 'cup': 1362, 'bx420': 1363, 'whenever': 1364, 'kb': 1365, \"wat's\": 1366, 'tht': 1367, 'simply': 1368, 'yahoo': 1369, 'midnight': 1370, 'died': 1371, 'handset': 1372, 'bugis': 1373, 'yrs': 1374, '02': 1375, 'xy': 1376, 'drugs': 1377, 'rcvd': 1378, 'miracle': 1379, 'however': 1380, 'feb': 1381, 'wherever': 1382, 'onto': 1383, 'closed': 1384, 'earth': 1385, 'stand': 1386, 'heavy': 1387, 'alrite': 1388, 'sort': 1389, 'biz': 1390, 'txtauction': 1391, 'fullonsms': 1392, 'reference': 1393, 'instead': 1394, 'giving': 1395, 'aathi': 1396, 'contract': 1397, 'thinkin': 1398, 'worries': 1399, 'matches': 1400, 'putting': 1401, 'flag': 1402, 'study': 1403, 'cal': 1404, 'teasing': 1405, 'cheers': 1406, 'tea': 1407, 'meaning': 1408, 'tour': 1409, '25': 1410, 'aiyah': 1411, 'system': 1412, 'character': 1413, 'kept': 1414, 'pound': 1415, 'doctor': 1416, \"u'll\": 1417, 'changed': 1418, 'lift': 1419, 'happening': 1420, 'internet': 1421, 'arcade': 1422, 'towards': 1423, 'moral': 1424, '08712460324': 1425, '06': 1426, \"god's\": 1427, 'holder': 1428, 'looks': 1429, 'works': 1430, 'eating': 1431, 'rather': 1432, 'spoke': 1433, 'weight': 1434, 'super': 1435, 'sky': 1436, 'men': 1437, 'callertune': 1438, 'copy': 1439, 'lady': 1440, 'report': 1441, 'round': 1442, '08718720201': 1443, 'torch': 1444, 'surely': 1445, 'insurance': 1446, \"i'd\": 1447, 'maximize': 1448, '08707509020': 1449, 'cds': 1450, 'choice': 1451, 'lonely': 1452, 'problems': 1453, 'usually': 1454, 'body': 1455, 'tough': 1456, 'indian': 1457, 'kerala': 1458, 'moan': 1459, 'fault': 1460, 'relation': 1461, 'tis': 1462, 'boo': 1463, 'umma': 1464, 'straight': 1465, 'announcement': 1466, 'unable': 1467, 'definitely': 1468, 'standard': 1469, 'activate': 1470, 'pobox84': 1471, 'themob': 1472, 'selection': 1473, 'babes': 1474, 'sport': 1475, 'ride': 1476, 'guide': 1477, 'informed': 1478, 'wed': 1479, 'pple': 1480, 'nights': 1481, 'cuz': 1482, '40gb': 1483, 'screaming': 1484, 'wnt': 1485, 'vry': 1486, 'searching': 1487, '83355': 1488, 'forward': 1489, 'lookin': 1490, 'ish': 1491, 'cold': 1492, 'posted': 1493, 'workin': 1494, 'yest': 1495, '3rd': 1496, 'tells': 1497, 'under': 1498, 'swt': 1499, 'beer': 1500, 'cheaper': 1501, 'chinese': 1502, 'q': 1503, 'airport': 1504, 'fetch': 1505, 'directly': 1506, 'tat': 1507, 'nimya': 1508, 'hotel': 1509, '2day': 1510, 'holding': 1511, '1x150p': 1512, 'cabin': 1513, 'apartment': 1514, 'request': 1515, 'rooms': 1516, '09050090044': 1517, 'toclaim': 1518, 'pobox334': 1519, 'stockport': 1520, 'costå£1': 1521, 'max10mins': 1522, 'linerental': 1523, 'review': 1524, 'boost': 1525, 'imagine': 1526, 'brand': 1527, 'pin': 1528, 'arrested': 1529, 'fall': 1530, 'joking': 1531, 'white': 1532, 'places': 1533, 'password': 1534, 'pussy': 1535, 'l8r': 1536, 'scream': 1537, 'nxt': 1538, 'cell': 1539, 'opportunity': 1540, 'present': 1541, 'asleep': 1542, 'regards': 1543, 'waste': 1544, 'ad': 1545, 'å£400': 1546, 'budget': 1547, 'ahead': 1548, 'awake': 1549, 'aha': 1550, 'tear': 1551, 'loan': 1552, 'acc': 1553, \"''ok''\": 1554, 'minuts': 1555, 'latr': 1556, 'naked': 1557, 'qatar': 1558, 'learn': 1559, 'role': 1560, 'official': 1561, 'records': 1562, 'izzit': 1563, 'air': 1564, 'discuss': 1565, 'wear': 1566, '08712300220': 1567, 'app': 1568, 'high': 1569, 'videophones': 1570, 'videochat': 1571, 'java': 1572, 'dload': 1573, 'noline': 1574, 'rentl': 1575, 'expensive': 1576, 'holla': 1577, 'mon': 1578, 'yogasana': 1579, 'except': 1580, 'ym': 1581, 'green': 1582, 'surfing': 1583, 'current': 1584, 'no1': 1585, '36504': 1586, 'xchat': 1587, 'childish': 1588, '3510i': 1589, 'share': 1590, 'amount': 1591, 'track': 1592, 'urawinner': 1593, 'sit': 1594, 'married': 1595, 'woman': 1596, '2optout': 1597, 'sing': 1598, 'added': 1599, 'list': 1600, 'totally': 1601, 'village': 1602, 'nigeria': 1603, 'pictures': 1604, 'dollars': 1605, 'zed': 1606, 'shuhui': 1607, 'weather': 1608, 'sunny': 1609, 'gentle': 1610, 'inside': 1611, 'original': 1612, 'walking': 1613, 'tncs': 1614, 'joke': 1615, 'ate': 1616, 'plenty': 1617, 'google': 1618, 'amazing': 1619, 'april': 1620, 'serious': 1621, 'idea': 1622, 'deliver': 1623, 'hostel': 1624, 'yun': 1625, 'birds': 1626, 'fantasy': 1627, 'pix': 1628, 'stylish': 1629, 'quality': 1630, 'wins': 1631, 'login': 1632, \"today's\": 1633, 'horny': 1634, 'hurts': 1635, 'don\\x89û÷t': 1636, 'sight': 1637, 'ta': 1638, 'flower': 1639, 'random': 1640, 'ttyl': 1641, 'running': 1642, 'replied': 1643, 'cartoon': 1644, 'listening': 1645, 'thts': 1646, 'damn': 1647, 'sale': 1648, 'dropped': 1649, 'expecting': 1650, 'planned': 1651, 'photo': 1652, 'following': 1653, 'advice': 1654, 'add': 1655, 'smiles': 1656, 'hee': 1657, 'mad': 1658, 'lik': 1659, 'eatin': 1660, 'gives': 1661, 'results': 1662, 'flights': 1663, 'yay': 1664, 'during': 1665, 'euro2004': 1666, 'experience': 1667, 'darling': 1668, 'ignore': 1669, 'polyphonic': 1670, 'cine': 1671, 'cd': 1672, 'boston': 1673, 'players': 1674, 'somethin': 1675, 'self': 1676, 'city': 1677, 'brilliant': 1678, 'social': 1679, 'partner': 1680, 'donåõt': 1681, 'hop': 1682, 'excuse': 1683, 'mistake': 1684, 'murder': 1685, 'cc': 1686, 'hg': 1687, 'sucks': 1688, 'dey': 1689, '\\x89ûò': 1690, 'centre': 1691, 'fantasies': 1692, 'schedule': 1693, 'doc': 1694, 'celebrate': 1695, 'attend': 1696, 'iz': 1697, 'asks': 1698, 'iq': 1699, 'timing': 1700, 'nyc': 1701, 'ref': 1702, 'upto': 1703, 'remind': 1704, 'moji': 1705, 'saved': 1706, 'fever': 1707, 'grand': 1708, 'geeee': 1709, 'eng': 1710, 'weak': 1711, 'flat': 1712, 'kisses': 1713, 'inclusive': 1714, 'hv': 1715, 'lacs': 1716, 'amt': 1717, 'wearing': 1718, 'mtmsgrcvd18': 1719, \"he'll\": 1720, 'subscription': 1721, 'å£4': 1722, 'revealed': 1723, '05': 1724, 'wonders': 1725, '7th': 1726, '6th': 1727, '5th': 1728, 'personality': 1729, 'aftr': 1730, 'career': 1731, 'bin': 1732, 'six': 1733, '87575': 1734, 'played': 1735, 'ansr': 1736, 'tyrone': 1737, 'cam': 1738, 'moby': 1739, 'i\\x89û÷m': 1740, 'pongal': 1741, 'sec': 1742, 'jesus': 1743, 'fills': 1744, 'gaps': 1745, 'exams': 1746, 'oz': 1747, '08715705022': 1748, 'campus': 1749, 'package': 1750, 'photos': 1751, \"shouldn't\": 1752, 'relax': 1753, 'giv': 1754, 'texting': 1755, \"couldn't\": 1756, 'basically': 1757, 'meds': 1758, 'med': 1759, 'throw': 1760, 'raining': 1761, 'decision': 1762, 'malaria': 1763, 'respond': 1764, 'profit': 1765, 'iåõm': 1766, '60p': 1767, 'boring': 1768, 'season': 1769, 'become': 1770, 'yuo': 1771, 'tihs': 1772, 'sipix': 1773, 'shirt': 1774, '9am': 1775, 'raise': 1776, 'frndship': 1777, 'careful': 1778, 'afraid': 1779, 'befor': 1780, '28': 1781, 'inches': 1782, 'contacted': 1783, 'click': 1784, 'receipt': 1785, '80062': 1786, '786': 1787, 'unredeemed': 1788, 'bye': 1789, 'bud': 1790, 'voda': 1791, 'quoting': 1792, 'fighting': 1793, 'broke': 1794, 'italian': 1795, 'teach': 1796, 'strong': 1797, 'arms': 1798, 'moon': 1799, 'vomit': 1800, 'released': 1801, 'lead': 1802, 'yetunde': 1803, 'w45wq': 1804, 'norm150p': 1805, 'tuition': 1806, '80488': 1807, 'december': 1808, 'shortly': 1809, 'issues': 1810, 'fix': 1811, 'english': 1812, '2mrw': 1813, 'msgrcvdhg': 1814, 'interview': 1815, 'bahamas': 1816, '300': 1817, 'optout': 1818, 'embarassed': 1819, 'group': 1820, 'willing': 1821, 'accept': 1822, 'fren': 1823, 'delivered': 1824, 'cbe': 1825, 'public': 1826, 'govt': 1827, 'instituitions': 1828, 'armand': 1829, 'ache': 1830, 'fill': 1831, 'preferably': 1832, 'sense': 1833, 'evng': 1834, 'yan': 1835, 'jiu': 1836, 'skype': 1837, 'receiving': 1838, 'charges': 1839, 'tt': 1840, 'prepare': 1841, '83600': 1842, 'three': 1843, 'wun': 1844, 'ahmad': 1845, 'pissed': 1846, 'nw': 1847, 'ended': 1848, 'rays': 1849, 'cancer': 1850, '3gbp': 1851, \"'t\": 1852, 'happend': 1853, 'dint': 1854, 'cross': 1855, 'turn': 1856, 'drinks': 1857, 'website': 1858, '150pm': 1859, 'research': 1860, 'urn': 1861, 'notice': 1862, 'mths': 1863, '08001950382': 1864, 'looked': 1865, 'thru': 1866, 'uni': 1867, 'pleased': 1868, 'vip': 1869, 'arrange': 1870, '1000s': 1871, 'twice': 1872, 'bloody': 1873, 'ran': 1874, 'btw': 1875, 'allah': 1876, 'thatåõs': 1877, 'obviously': 1878, '88039': 1879, 'skilgme': 1880, 'inviting': 1881, '62468': 1882, 'sura': 1883, \"we've\": 1884, 'diet': 1885, '5000': 1886, 'tcs': 1887, 'cw25wx': 1888, 'ticket': 1889, 'jada': 1890, 'kusruthi': 1891, 'spl': 1892, 'matured': 1893, 'moms': 1894, 'dog': 1895, 'eerie': 1896, 'title': 1897, 'pobox36504w45wq': 1898, 'files': 1899, 'drug': 1900, 'mother': 1901, 'hate': 1902, 'begin': 1903, 'letter': 1904, 'settings': 1905, '0': 1906, 'key': 1907, 'wrc': 1908, 'rally': 1909, 'lucozade': 1910, 'apparently': 1911, 'hill': 1912, 'gravity': 1913, 'carefully': 1914, 'local': 1915, 'paris': 1916, 'aint': 1917, 'dirty': 1918, 'teaches': 1919, 'taunton': 1920, 'living': 1921, 'uncles': 1922, 'pilates': 1923, 'w1': 1924, 'throat': 1925, 'addicted': 1926, \"u're\": 1927, 'fight': 1928, 'derek': 1929, 'sometime': 1930, 'freefone': 1931, 'coins': 1932, 'purchase': 1933, 'becoz': 1934, 'dictionary': 1935, 'gently': 1936, 'interesting': 1937, 'spending': 1938, 'law': 1939, 'greet': 1940, 'playing': 1941, 'bishan': 1942, 'grl': 1943, 'seem': 1944, 'bet': 1945, 'wet': 1946, '85': 1947, '81151': 1948, '4t': 1949, 'escape': 1950, 'si': 1951, 'argument': 1952, 'texted': 1953, \"mom's\": 1954, 'bathing': 1955, 'jess': 1956, 'atlanta': 1957, 'bloomberg': 1958, 'basic': 1959, 'intro': 1960, 'buns': 1961, 'possible': 1962, 'fool': 1963, 'logo': 1964, 'gm': 1965, 'fml': 1966, 'inform': 1967, 'tuesday': 1968, 'askin': 1969, 'hols': 1970, 'envelope': 1971, 'quote': 1972, 'london': 1973, 'blank': 1974, 'argue': 1975, 'txtin': 1976, '4info': 1977, 'spk': 1978, 'bday': 1979, 'vijay': 1980, \"we'd\": 1981, 'cry': 1982, 'bright': 1983, 'passionate': 1984, 'singles': 1985, 'spoken': 1986, 'cafe': 1987, 'barely': 1988, \"she'll\": 1989, \"did't\": 1990, 'result': 1991, 'loverboy': 1992, 'sighs': 1993, 'returns': 1994, '6hrs': 1995, 'intelligent': 1996, 'whom': 1997, '3mins': 1998, 'pie': 1999, 'fb': 2000, 'solve': 2001, 'cook': 2002, 'cooking': 2003, 'atm': 2004, 'anybody': 2005, 'perfect': 2006, 'pg': 2007, 'sept': 2008, 'upset': 2009, \"wouldn't\": 2010, 'losing': 2011, 'favour': 2012, 'supply': 2013, 'sen': 2014, 'se': 2015, 'strike': 2016, 'isnt': 2017, 'university': 2018, 'california': 2019, 'assume': 2020, 'dearly': 2021, '10am': 2022, 'travel': 2023, 'itz': 2024, 'roger': 2025, 'software': 2026, 'ths': 2027, 'accidentally': 2028, 'haiz': 2029, 'normally': 2030, \"aren't\": 2031, 'bringing': 2032, 'm26': 2033, '3uz': 2034, 'gossip': 2035, 'germany': 2036, 'female': 2037, 'lives': 2038, 'smoking': 2039, 'upload': 2040, 'songs': 2041, 'hella': 2042, '81303': 2043, 'infernal': 2044, 'affairs': 2045, 'staff': 2046, 'science': 2047, 'downloads': 2048, 'successful': 2049, 'ibhltd': 2050, 'ldnw15h': 2051, 'mummy': 2052, 'finishing': 2053, 'term': 2054, 'dresser': 2055, 'collecting': 2056, '08717898035': 2057, 'appreciate': 2058, 'whos': 2059, 'butt': 2060, 'sore': 2061, 'avent': 2062, 'loss': 2063, 'petrol': 2064, 'sentence': 2065, 'concentrate': 2066, 'anti': 2067, 'tom': 2068, 'walmart': 2069, 'liverpool': 2070, 'lie': 2071, '82242': 2072, 'alert': 2073, 'calicut': 2074, 'booty': 2075, 'callså£1': 2076, 'minmobsmorelkpobox177hp51fl': 2077, 'warner': 2078, 'xavier': 2079, 'wisdom': 2080, 'alwys': 2081, 'ladies': 2082, 'male': 2083, 'wrk': 2084, 'meetin': 2085, '80878': 2086, '530': 2087, 'outstanding': 2088, 'truly': 2089, '121': 2090, 'wc1n3xx': 2091, 'salary': 2092, 'exciting': 2093, 'eight': 2094, 'slap': 2095, '86021': 2096, 'url': 2097, 'taken': 2098, 'stops': 2099, 'di': 2100, 'greetings': 2101, 'morphine': 2102, 'force': 2103, 'headache': 2104, 'monthly': 2105, 'shld': 2106, 'nvm': 2107, 'jazz': 2108, 'elsewhere': 2109, 'process': 2110, 'mini': 2111, 'prefer': 2112, 'pack': 2113, '9ja': 2114, 'express': 2115, 'fell': 2116, 'knackered': 2117, 'twelve': 2118, 'connect': 2119, 'biggest': 2120, 'stock': 2121, 'dubsack': 2122, 'randomly': 2123, '542': 2124, 'album': 2125, 'we\\x89û÷re': 2126, 'rem': 2127, 'ese': 2128, 'legal': 2129, 'abi': 2130, '0808': 2131, '145': 2132, '4742': 2133, '11pm': 2134, 'touched': 2135, 'fear': 2136, 'cheer': 2137, 'fran': 2138, 'praying': 2139, \"did'nt\": 2140, 'kidz': 2141, 'activities': 2142, 'buying': 2143, 'accident': 2144, 'flash': 2145, 'jealous': 2146, \"let's\": 2147, 'apologise': 2148, 'prabha': 2149, 'soryda': 2150, 'sory': 2151, 'stress': 2152, 'subscriber': 2153, '07xxxxxxxxx': 2154, '26': 2155, 'xuhui': 2156, 'parked': 2157, 'answers': 2158, '09063458130': 2159, 'polyph': 2160, 'dress': 2161, 'gary': 2162, 'freak': 2163, 'quit': 2164, 'goodnite': 2165, 'prolly': 2166, 'conditions': 2167, 'competition': 2168, 'scotland': 2169, 'incident': 2170, 'adult': 2171, 'answering': 2172, 'flaked': 2173, '87121': 2174, 'nap': 2175, 'july': 2176, '09066612661': 2177, 'ppm': 2178, 'james': 2179, 'hopefully': 2180, 'ppl': 2181, 'ic': 2182, 'closer': 2183, 'tyler': 2184, '31': 2185, 'jane': 2186, 'shirts': 2187, 'horrible': 2188, 'bf': 2189, 'shoot': 2190, '09': 2191, '0871': 2192, 'box95qu': 2193, 'cruise': 2194, 'bcums': 2195, 'affection': 2196, 'kettoda': 2197, 'manda': 2198, 'ikea': 2199, 'deliveredtomorrow': 2200, \"'til\": 2201, 'norm': 2202, 'husband': 2203, 'realized': 2204, 'collected': 2205, 'toa': 2206, 'payoh': 2207, '200': 2208, 'bought': 2209, 'it\\x89û÷s': 2210, 'vote': 2211, 'pink': 2212, 'wa': 2213, 'smokes': 2214, 'weird': 2215, 'file': 2216, '2000': 2217, 'sonyericsson': 2218, 'possession': 2219, 'captain': 2220, 'wylie': 2221, 'reminder': 2222, '89545': 2223, '087187262701': 2224, '50gbp': 2225, 'mtmsg18': 2226, 'citizen': 2227, 'smart': 2228, 'business': 2229, 'vary': 2230, 'purity': 2231, 'tessy': 2232, 'favor': 2233, 'shijas': 2234, 'wah': 2235, 'queen': 2236, 'sooner': 2237, 'beyond': 2238, \"mum's\": 2239, 'wedding': 2240, 'clock': 2241, 'evn': 2242, 'seconds': 2243, 'arun': 2244, 'alfie': 2245, \"moon's\": 2246, 'm8s': 2247, 'nokias': 2248, '08701417012': 2249, 'spell': 2250, 'outta': 2251, 'vodafone': 2252, 'lick': 2253, 'pig': 2254, 'farm': 2255, 'reasons': 2256, 'distance': 2257, 'callin': 2258, 'bay': 2259, 'yer': 2260, '84199': 2261, 'box39822': 2262, 'w111wx': 2263, 'chechi': 2264, 'mono': 2265, 'responce': 2266, 'dare': 2267, 'sorting': 2268, 'doors': 2269, 'lines': 2270, 'tirupur': 2271, 'popped': 2272, 'everybody': 2273, 'returned': 2274, 'gang': 2275, '2moro': 2276, 'transaction': 2277, 'chicken': 2278, 'prey': 2279, 'likely': 2280, 'stuck': 2281, 'speechless': 2282, 'ntwk': 2283, 'yor': 2284, 'middle': 2285, 'concert': 2286, 'messenger': 2287, 'sha': 2288, 'costs': 2289, 'cock': 2290, 'handle': 2291, \"when's\": 2292, '09061790121': 2293, 'auto': 2294, 'dry': 2295, 'handed': 2296, '08002986906': 2297, 'catching': 2298, 'along': 2299, 'fifteen': 2300, 'laid': 2301, 'ec2a': 2302, 'proof': 2303, 'talent': 2304, 'carry': 2305, 'miles': 2306, 'reality': 2307, 'bottom': 2308, 'dave': 2309, 'wkend': 2310, 'ideas': 2311, 'quickly': 2312, 'expect': 2313, 'hun': 2314, 'waitin': 2315, 'morn': 2316, 'rule': 2317, '21': 2318, 'postcode': 2319, 'hunny': 2320, 'certainly': 2321, 'hug': 2322, 'remain': 2323, 'titles': 2324, 'low': 2325, 'skip': 2326, 'egg': 2327, 'membership': 2328, 'stopped': 2329, 'swimming': 2330, 'wn': 2331, 'cn': 2332, 'shouted': 2333, 'drinking': 2334, 'temple': 2335, 'church': 2336, 'violence': 2337, 'ru': 2338, 'buzy': 2339, 'mnth': 2340, 'erm': 2341, 'value': 2342, 'connection': 2343, 'le': 2344, '5p': 2345, '09066362231': 2346, 'ma': 2347, 'faster': 2348, 'behind': 2349, 'tlp': 2350, '250': 2351, '2morow': 2352, 'nichols': 2353, 'natural': 2354, 'that\\x89û÷s': 2355, 'letters': 2356, 'laughing': 2357, 'winning': 2358, 'anythin': 2359, 'spanish': 2360, 'picture': 2361, 'bigger': 2362, 'brothas': 2363, 'height': 2364, 'falls': 2365, 'flight': 2366, 'diff': 2367, 'abta': 2368, 'goal': 2369, '3qxj9': 2370, '08702840625': 2371, '220': 2372, 'cm2': 2373, '9ae': 2374, 'aiyo': 2375, 'lab': 2376, 'mas': 2377, 'understanding': 2378, 'ages': 2379, 'stranger': 2380, 'sum1': 2381, 'hardcore': 2382, 'ben': 2383, 'cornwall': 2384, 'cha': 2385, 'wales': 2386, 'screen': 2387, 'exhausted': 2388, 'ringtoneking': 2389, 'confidence': 2390, 'bite': 2391, 'meanwhile': 2392, 'football': 2393, 'promises': 2394, 'clear': 2395, 'chain': 2396, 'action': 2397, 'fish': 2398, 'kallis': 2399, 'sry': 2400, 'porn': 2401, 'recd': 2402, 'tariffs': 2403, 'callback': 2404, 'lotr': 2405, 'networks': 2406, 'potential': 2407, '45239': 2408, 'pence': 2409, 'lect': 2410, 'tomarrow': 2411, 'register': 2412, 'comedy': 2413, '434': 2414, '83222': 2415, 'american': 2416, 'aiyar': 2417, 'upgrade': 2418, 'teacher': 2419, 'frying': 2420, 'february': 2421, 'enuff': 2422, 'cream': 2423, 'previous': 2424, 'failed': 2425, 'masters': 2426, '08718727870': 2427, 'hanging': 2428, 'center': 2429, 'gorgeous': 2430, 'thanksgiving': 2431, 'com1win150ppmx3age16': 2432, '4mths': 2433, 'mobilesdirect': 2434, '08000938767': 2435, 'or2stoptxt': 2436, 'yummy': 2437, 'blah': 2438, 'easier': 2439, 'jokes': 2440, 'usc': 2441, 'mix': 2442, 'verify': 2443, 'tkts': 2444, 'rich': 2445, 'chatting': 2446, 'regret': 2447, 'sheets': 2448, 'mite': 2449, 'subscribed': 2450, 'booking': 2451, 'total': 2452, 'dem': 2453, 'callers': 2454, 'exact': 2455, 'enjoyed': 2456, 'impossible': 2457, 'docs': 2458, 'further': 2459, 'tscs087147403231winawk': 2460, '50perwksub': 2461, 'gals': 2462, 'issue': 2463, 'generally': 2464, 'maneesha': 2465, 'satisfied': 2466, 'toll': 2467, 'lifetime': 2468, 'romantic': 2469, 'contents': 2470, 'spook': 2471, 'cud': 2472, 'mt': 2473, 'vodka': 2474, 'passed': 2475, 'addie': 2476, \"dsn't\": 2477, 'appointment': 2478, 'belly': 2479, 'shame': 2480, 'constantly': 2481, 'knowing': 2482, 'ptbo': 2483, 'freezing': 2484, '18yrs': 2485, 'unsold': 2486, 'walls': 2487, 'prospects': 2488, 'period': 2489, 'sender': 2490, \"hasn't\": 2491, 'four': 2492, 'ubi': 2493, 'theory': 2494, 'loses': 2495, 'magical': 2496, 'settled': 2497, 'credited': 2498, 'changes': 2499, 'chill': 2500, 'jamster': 2501, 'missin': 2502, 'chasing': 2503, 'questioned': 2504, 'gardener': 2505, 'vegetables': 2506, 'neighbour': 2507, 'fave': 2508, '114': 2509, '14': 2510, 'tcr': 2511, 'matter': 2512, 'er': 2513, 'bb': 2514, 'sugar': 2515, 'i\\x89û÷ll': 2516, 'cramps': 2517, 'received': 2518, 'cardiff': 2519, 'exactly': 2520, 'indians': 2521, 'followed': 2522, 'maga': 2523, 'august': 2524, 'gautham': 2525, '80082': 2526, '24': 2527, '2morrow': 2528, 'include': 2529, 'instructions': 2530, 'roads': 2531, 'sn': 2532, 'gram': 2533, 'cleaning': 2534, 'm263uz': 2535, 'dates': 2536, 'appt': 2537, 'executive': 2538, 'roommate': 2539, 'rofl': 2540, 'wtf': 2541, 'often': 2542, 'transfer': 2543, 'bowl': 2544, 'teeth': 2545, 'milk': 2546, 'settle': 2547, 'arsenal': 2548, 'regarding': 2549, 'subs': 2550, 'seat': 2551, 'challenge': 2552, 'crab': 2553, 'cleared': 2554, 'footprints': 2555, 'omw': 2556, 'anyways': 2557, 'birla': 2558, 'soft': 2559, '4get': 2560, 'l': 2561, 'understood': 2562, 'students': 2563, 'wer': 2564, 'plane': 2565, 'wise': 2566, '87021': 2567, 'shesil': 2568, 'bloo': 2569, 'meets': 2570, 'subs16': 2571, '1win150ppmx3': 2572, 'lk': 2573, 'woot': 2574, 'continue': 2575, 'nahi': 2576, 'zindgi': 2577, 'wo': 2578, 'jo': 2579, 'improve': 2580, 'nan': 2581, 'japanese': 2582, 'proverb': 2583, 'andros': 2584, 'karaoke': 2585, 'audition': 2586, 'yellow': 2587, 'blow': 2588, 'vth': 2589, 'books': 2590, 'eveb': 2591, 'poker': 2592, \"parents'\": 2593, 'remains': 2594, 'roommates': 2595, 'note': 2596, 'disconnect': 2597, \"'terrorist'\": 2598, 'confirmd': 2599, 'verified': 2600, 'cnn': 2601, 'ibn': 2602, 'divorce': 2603, 'ias': 2604, 'mag': 2605, 'deleted': 2606, 'suppose': 2607, 'vava': 2608, 'size': 2609, 'irritating': 2610, 'flip': 2611, 'responding': 2612, 'breath': 2613, \"guy's\": 2614, 'newest': 2615, 'fit': 2616, 'funky': 2617, '82468': 2618, 'soul': 2619, 'loose': 2620, '2p': 2621, 'deciding': 2622, 'postcard': 2623, 'reverse': 2624, 'cheating': 2625, 'mathematics': 2626, 'location': 2627, '88877': 2628, 'textcomp': 2629, 'adventure': 2630, 'galileo': 2631, 'talks': 2632, 'cuddling': 2633, 'arm': 2634, 'shot': 2635, 'textpod': 2636, '08712405020': 2637, 'nus': 2638, 'edu': 2639, 'teaching': 2640, 'thesis': 2641, '08002888812': 2642, 'bmw': 2643, 'urgently': 2644, 'shortage': 2645, 'source': 2646, 'arng': 2647, 'practice': 2648, 'denis': 2649, 'manage': 2650, 'silently': 2651, 'woulda': 2652, 'individual': 2653, 'seven': 2654, 'hundred': 2655, 'shy': 2656, 'tms': 2657, 'widelive': 2658, 'index': 2659, 'wml': 2660, 'thgt': 2661, '447801259231': 2662, '09058094597': 2663, 'chocolate': 2664, 'melt': 2665, 'sunlight': 2666, 'drms': 2667, 'educational': 2668, 'medicine': 2669, 'xxxx': 2670, 'chances': 2671, 'csh11': 2672, '6days': 2673, 'tsandcs': 2674, 'bar': 2675, 'lib': 2676, 'feelin': 2677, 'msg150p': 2678, '2rcv': 2679, 'hlp': 2680, '08712317606': 2681, 'oooh': 2682, 'ey': 2683, 'vid': 2684, 'jordan': 2685, 'visionsms': 2686, 'block': 2687, 'howard': 2688, 'switch': 2689, 'raji': 2690, 'lucy': 2691, 'hubby': 2692, 'shorter': 2693, 'fringe': 2694, 'distract': 2695, 'iouri': 2696, 'belive': 2697, 'tmrw': 2698, 'fastest': 2699, 'growing': 2700, '2stop': 2701, 'mila': 2702, 'age23': 2703, 'blonde': 2704, 'mtalk': 2705, '69866': 2706, '30pp': 2707, '5free': 2708, 'increments': 2709, 'help08718728876': 2710, 'actor': 2711, 'shitload': 2712, 'eaten': 2713, 'lies': 2714, 'useful': 2715, 'tests': 2716, 'ovulation': 2717, 'web': 2718, 'wrote': 2719, 'opinions': 2720, 've': 2721, 'filthy': 2722, 'films': 2723, '69669': 2724, 'gimme': 2725, 'lip': 2726, 'lf56': 2727, 'jolly': 2728, 'båõday': 2729, 'misbehaved': 2730, '27': 2731, 'goodnoon': 2732, 'renewal': 2733, 'mall': 2734, '630': 2735, 'behave': 2736, 'success': 2737, '5min': 2738, 'idk': 2739, 'parking': 2740, 'falling': 2741, 'smeone': 2742, 'bottle': 2743, 'count': 2744, 'division': 2745, 'push': 2746, 'math': 2747, 'scared': 2748, 'alcohol': 2749, 'stretch': 2750, 'oni': 2751, 'cld': 2752, 'event': 2753, 'trade': 2754, 'nowadays': 2755, 'aah': 2756, '09094646899': 2757, 'vu': 2758, 'bcm1896wc1n3xx': 2759, \"that'll\": 2760, 'gist': 2761, 'crap': 2762, 'loyal': 2763, 'customers': 2764, '09066380611': 2765, 'hockey': 2766, 'premier': 2767, '0578': 2768, 'sells': 2769, '4d': 2770, 'closes': 2771, '2wks': 2772, 'goals': 2773, 'unknown': 2774, 'bbd': 2775, 'pimples': 2776, 'wifi': 2777, 'konw': 2778, 'waht': 2779, 'rael': 2780, 'gving': 2781, 'exmpel': 2782, 'jsut': 2783, 'evrey': 2784, 'splleing': 2785, 'wrnog': 2786, 'sitll': 2787, 'raed': 2788, 'wihtuot': 2789, 'ayn': 2790, 'mitsake': 2791, '09061221061': 2792, '28days': 2793, 'box177': 2794, 'm221bp': 2795, '2yr': 2796, 'warranty': 2797, 'på£3': 2798, '99': 2799, 'lower': 2800, 'display': 2801, 'lousy': 2802, 'loud': 2803, 'poem': 2804, 'exeter': 2805, 'valuable': 2806, '09066358152': 2807, 'prompts': 2808, 'luvs': 2809, 'inch': 2810, '12mths': 2811, 'northampton': 2812, 'convinced': 2813, 'respect': 2814, 'tablets': 2815, 'spider': 2816, 'wallpaper': 2817, 'indicate': 2818, '09061221066': 2819, 'fromm': 2820, 'annie': 2821, 'printed': 2822, 'upstairs': 2823, 'scold': 2824, '08000776320': 2825, 'dorm': 2826, 'xxxxx': 2827, 'soup': 2828, 'sheffield': 2829, 'measure': 2830, 'minor': 2831, 'holy': 2832, 'kidding': 2833, 'jeans': 2834, 'lido': 2835, '930': 2836, 'bros': 2837, 'connections': 2838, 'common': 2839, 'china': 2840, 'cuddle': 2841, 'whether': 2842, \"cann't\": 2843, 'beneath': 2844, 'pale': 2845, 'algarve': 2846, 'dick': 2847, 'amy': 2848, 'selfish': 2849, 'eurodisinc': 2850, 'trav': 2851, 'aco': 2852, 'entry41': 2853, 'morefrmmob': 2854, 'shracomorsglsuplt': 2855, 'ls1': 2856, '3aj': 2857, 'interflora': 2858, '2007': 2859, 'lux': 2860, 'itåõs': 2861, 'unique': 2862, 'tight': 2863, 'chip': 2864, '0845': 2865, '021': 2866, '3680': 2867, 'lotta': 2868, 'cars': 2869, '2005': 2870, 'chosen': 2871, '09066364311': 2872, 'avoiding': 2873, '872': 2874, 'callfreefone': 2875, '08081560665': 2876, 'ofå£2000': 2877, '07786200117': 2878, 'funeral': 2879, 'mess': 2880, 'uks': 2881, 'fights': 2882, 'gain': 2883, 'rights': 2884, 'demand': 2885, 'chest': 2886, 'infections': 2887, 'bone': 2888, 'seemed': 2889, 'oic': 2890, 'odi': 2891, 'series': 2892, 'begging': 2893, 'dough': 2894, 'control': 2895, 'spare': 2896, 'rocks': 2897, 'peace': 2898, 'blessed': 2899, 'several': 2900, 'whenevr': 2901, 'remembr': 2902, 'eggs': 2903, 'necessary': 2904, 'canada': 2905, 'island': 2906, 'å£6': 2907, 'telly': 2908, 'sary': 2909, 'furniture': 2910, 'hm': 2911, 'painting': 2912, 'sue': 2913, 'painful': 2914, 'dai': 2915, 'downloaded': 2916, 'exe': 2917, 'installing': 2918, 'idiot': 2919, '2find': 2920, 'saucy': 2921, 'fair': 2922, 'sarcasm': 2923, 'doubt': 2924, 'ful': 2925, 'celebration': 2926, 'brah': 2927, 'loxahatchee': 2928, 'tree': 2929, 'burning': 2930, 'stars': 2931, 'musthu': 2932, 'wanting': 2933, 'ear': 2934, 'toshiba': 2935, 'lag': 2936, 'boys': 2937, 'chart': 2938, 'treated': 2939, 'hardly': 2940, 'mids': 2941, 'garden': 2942, 'bulbs': 2943, 'seeds': 2944, 'å£33': 2945, 'scotsman': 2946, 'go2': 2947, 'notxt': 2948, 'lecture': 2949, 'removed': 2950, 'banks': 2951, 'differ': 2952, '9t': 2953, 'drivin': 2954, 'shoppin': 2955, 'beauty': 2956, 'foreign': 2957, 'stamps': 2958, 'mmmm': 2959, 'sweets': 2960, 'grow': 2961, 'sarcastic': 2962, 'faggy': 2963, 'restaurant': 2964, 'error': 2965, 'members': 2966, 'bruv': 2967, 'ps': 2968, 'ebay': 2969, 'usb': 2970, 'otside': 2971, 'lions': 2972, 'lionm': 2973, 'lionp': 2974, 'doesn': 2975, 'racing': 2976, 'cm': 2977, 'hospitals': 2978, 'likes': 2979, \"ain't\": 2980, 'sleepy': 2981, '2marrow': 2982, 'successfully': 2983, 'suzy': 2984, '09061209465': 2985, 'suprman': 2986, 'matrix3': 2987, 'starwars3': 2988, 'scores': 2989, 'application': 2990, 'schools': 2991, 'freedom': 2992, 'pod': 2993, '80182': 2994, '08452810073': 2995, 'rice': 2996, 'custom': 2997, 'anniversary': 2998, 'pen': 2999, 'sinco': 3000, 'payee': 3001, 'icicibank': 3002, 'beware': 3003, 'frauds': 3004, 'disclose': 3005, 'pool': 3006, 'blackberry': 3007, 'easily': 3008, 'turning': 3009, 'bristol': 3010, 'drunk': 3011, 'sends': 3012, 'transfr': 3013, '674': 3014, 'joanna': 3015, 'child': 3016, 'caught': 3017, 'gona': 3018, 'planet': 3019, 'officially': 3020, 'confuses': 3021, 'hook': 3022, 'mandan': 3023, 'smith': 3024, 'salam': 3025, 'respectful': 3026, 'base': 3027, 'blu': 3028, 'smsco': 3029, 'moving': 3030, 'caroline': 3031, 'relatives': 3032, 'benefits': 3033, 'favourite': 3034, 'bless': 3035, 'lil': 3036, '40533': 3037, 'score': 3038, 'sharing': 3039, 'cashbin': 3040, 'chase': 3041, 'secretly': 3042, 'fancies': 3043, 'datebox1282essexcm61xn': 3044, 'propose': 3045, 'forgets': 3046, 'tscs': 3047, 'skillgame': 3048, '1winaweek': 3049, '150ppermesssubscription': 3050, 'wkg': 3051, 'beg': 3052, 'tues': 3053, 'sar': 3054, 'topic': 3055, 'anywhere': 3056, 'insha': 3057, 'havenåõt': 3058, 'didnåõt': 3059, 'probs': 3060, 'trains': 3061, 'warning': 3062, 'ee': 3063, 'locations': 3064, 'largest': 3065, '3lp': 3066, 'sathya': 3067, 'realize': 3068, 'cannot': 3069, 'disturbing': 3070, 'silver': 3071, 'unfortunately': 3072, 'necklace': 3073, '440': 3074, 'swoop': 3075, 'skyped': 3076, 'kz': 3077, 'given': 3078, 'ultimatum': 3079, 'countin': 3080, 'aburo': 3081, 'tok': 3082, 'lyfu': 3083, 'lyf': 3084, 'ali': 3085, 'ke': 3086, 'program': 3087, 'meow': 3088, 'madam': 3089, 'box334sk38ch': 3090, 'hamster': 3091, '6months': 3092, 'philosophy': 3093, 'piss': 3094, '09061743806': 3095, 'box326': 3096, 'popcorn': 3097, 'kiosk': 3098, 'administrator': 3099, 'necessarily': 3100, 'lou': 3101, 'depressed': 3102, 'boat': 3103, 'shoving': 3104, 'textbuddy': 3105, 'gaytextbuddy': 3106, '89693': 3107, 'chillin': 3108, 'jen': 3109, 'monkeys': 3110, 'hoped': 3111, 'step': 3112, 'costing': 3113, 'maintain': 3114, 'lounge': 3115, 'dracula': 3116, 'ghost': 3117, 'addamsfa': 3118, 'munsters': 3119, 'exorcist': 3120, 'twilight': 3121, 'jobs': 3122, \"dat's\": 3123, 'environment': 3124, 'terrific': 3125, 'symbol': 3126, 'kent': 3127, 'vale': 3128, 'selling': 3129, 'receivea': 3130, '09061701461': 3131, 'kl341': 3132, 'complaint': 3133, 'yck': 3134, 'avoid': 3135, 'beloved': 3136, 'ganesh': 3137, 'diwali': 3138, 'evenings': 3139, 'raj': 3140, 'bc': 3141, 'pull': 3142, 'gbp': 3143, 'literally': 3144, 'shelf': 3145, 'bird': 3146, 'lovers': 3147, 'forums': 3148, 'hon': 3149, 'tool': 3150, 'drunken': 3151, 'journey': 3152, 'tsunamis': 3153, 'essential': 3154, 'fly': 3155, 'propsd': 3156, 'gv': 3157, 'lv': 3158, 'lttrs': 3159, 'threw': 3160, 'thm': 3161, 'aproach': 3162, 'dt': 3163, 'truck': 3164, 'speeding': 3165, \"'hw\": 3166, 'instantly': 3167, 'thy': 3168, 'lived': 3169, 'happily': 3170, '2gthr': 3171, 'evrydy': 3172, 'condition': 3173, 'bitch': 3174, 'slo': 3175, '86888': 3176, 'subscribe6gbp': 3177, '3hrs': 3178, 'txtstop': 3179, 'market': 3180, '61200': 3181, 'packs': 3182, 'itcould': 3183, '08709222922': 3184, '8p': 3185, 'peak': 3186, 'difference': 3187, 'grace': 3188, 'blessings': 3189, 'conform': 3190, 'keys': 3191, '8am': 3192, \"1000's\": 3193, '4fil': 3194, 'åð': 3195, 'roast': 3196, 'expressoffer': 3197, 'yelling': 3198, 'among': 3199, 'networking': 3200, 'technical': 3201, '84025': 3202, 'soiree': 3203, 'thurs': 3204, 'approx': 3205, 'kegger': 3206, 'nitros': 3207, 'eta': 3208, 'genuine': 3209, '100percent': 3210, 'tooo': 3211, \"'simple'\": 3212, 'reaction': 3213, 'bears': 3214, '08718730666': 3215, 'recharge': 3216, 'speed': 3217, 'speedchat': 3218, \"week's\": 3219, 'hor': 3220, \"weekend's\": 3221, 'rstm': 3222, 'sw7': 3223, '3ss': 3224, 'senthil': 3225, 'hsbc': 3226, '83383': 3227, 'advise': 3228, 'recent': 3229, 'å£1500': 3230, '09066364589': 3231, 'wave': 3232, 'asp': 3233, 'desert': 3234, 'forgotten': 3235, 'ph': 3236, '326': 3237, 'minimum': 3238, 'msging': 3239, 'meal': 3240, 'apps': 3241, 'genius': 3242, 'dial': 3243, 'names': 3244, 'shu': 3245, 'nd': 3246, 'rush': 3247, 'parco': 3248, 'nb': 3249, '9pm': 3250, 'fab': 3251, 'wks': 3252, 'tm': 3253, 'death': 3254, 'tape': 3255, 'convincing': 3256, 'taylor': 3257, 'worst': 3258, '08006344447': 3259, 'vday': 3260, 'invaders': 3261, 'orig': 3262, 'console': 3263, 'hands': 3264, 'legs': 3265, 'pee': 3266, 'burns': 3267, 'jan': 3268, 'whn': 3269, 'ofice': 3270, 'duchess': 3271, '008704050406': 3272, 'pattern': 3273, 'june': 3274, 'prince': 3275, 'correction': 3276, 'dining': 3277, '08718738001': 3278, 'management': 3279, '08712402050': 3280, '10ppm': 3281, 'ag': 3282, 'promo': 3283, 'ela': 3284, 'fightng': 3285, 'dificult': 3286, 'hugs': 3287, 'snogs': 3288, 'makin': 3289, '88600': 3290, 'lately': 3291, 'tahan': 3292, 'anot': 3293, '0871277810810': 3294, 'gold': 3295, 'agalla': 3296, '80608': 3297, 'movietrivia': 3298, '08712405022': 3299, 'donno': 3300, 'taste': 3301, 'curry': 3302, 'siva': 3303, 'select': 3304, '8077': 3305, 'mnths': 3306, 'thangam': 3307, 'allow': 3308, 'spring': 3309, 'commercial': 3310, 'steve': 3311, 'coping': 3312, '300p': 3313, 'effect': 3314, '07742676969': 3315, '08719180248': 3316, 'cust': 3317, '0844': 3318, '861': 3319, 'prepayment': 3320, '07734396839': 3321, 'ibh': 3322, 'nokia6600': 3323, 'nalla': 3324, 'sian': 3325, 'dance': 3326, 'river': 3327, 'responsibility': 3328, 'gamestar': 3329, 'active': 3330, 'å£250k': 3331, 'scoring': 3332, '88088': 3333, 'en': 3334, 'nit': 3335, 'site': 3336, 'woken': 3337, 'randy': 3338, 'netcollex': 3339, '08700621170150p': 3340, 'mega': 3341, '09058094565': 3342, 'oranges': 3343, 'upd8': 3344, '3d': 3345, 'prepared': 3346, 'ba': 3347, 'ibiza': 3348, 'kickoff': 3349, 'euro': 3350, 'indyarocks': 3351, '0207': 3352, '153': 3353, '26th': 3354, 'sachin': 3355, 'standing': 3356, 'kavalan': 3357, 'nat': 3358, 'sac': 3359, 'channel': 3360, 'property': 3361, 'mmm': 3362, 'doggy': 3363, 'pandy': 3364, 'runs': 3365, 'subpoly': 3366, '81618': 3367, '447797706009': 3368, 'careers': 3369, 'bags': 3370, '1030': 3371, 'adore': 3372, 'k52': 3373, 'funk': 3374, 'tones2u': 3375, 'juicy': 3376, 'mcat': 3377, 'unbelievable': 3378, '41685': 3379, '07': 3380, 'å£5': 3381, 'cashto': 3382, '08000407165': 3383, 'getstop': 3384, '88222': 3385, 'php': 3386, 'machan': 3387, '09061702893': 3388, 'premium': 3389, 'steam': 3390, 'sales': 3391, 'honeybee': 3392, 'sweetest': 3393, 'laughed': 3394, 'havnt': 3395, 'crack': 3396, 'sufficient': 3397, 'thx': 3398, 'scrounge': 3399, 'payment': 3400, 'explain': 3401, 'bread': 3402, '85069': 3403, 'usher': 3404, 'britney': 3405, 'building': 3406, 'coat': 3407, 'airtel': 3408, 'processed': 3409, 'everyday': 3410, 'admin': 3411, 'fa': 3412, 'lock': 3413, 'earn': 3414, 'stamped': 3415, '113': 3416, 'bray': 3417, 'wicklow': 3418, 'eire': 3419, 'thread': 3420, 'kadeem': 3421, 'flirting': 3422, 'bloke': 3423, 'zoe': 3424, \"friend's\": 3425, 'drove': 3426, 'infront': 3427, 'petey': 3428, 'nic': 3429, 'call09050000327': 3430, 'pobox45w2tg150p': 3431, 'applebees': 3432, 'helpline': 3433, '08706091795': 3434, 'arts': 3435, 'satisfy': 3436, 'borrow': 3437, 'smashed': 3438, 'driver': 3439, 'screamed': 3440, 'explicit': 3441, 'secs': 3442, '02073162414': 3443, 'dearer': 3444, 'named': 3445, '22': 3446, 'ques': 3447, 'suits': 3448, 'jogging': 3449, 'pt2': 3450, 'faith': 3451, 'welp': 3452, 'panic': 3453, 'tog': 3454, 'def': 3455, 'av': 3456, 'bck': 3457, 'crisis': 3458, 'slice': 3459, 'ground': 3460, '08718726270': 3461, 'suggest': 3462, 'setting': 3463, 'definite': 3464, 'calm': 3465, 'engin': 3466, 'walked': 3467, 'fo': 3468, 'batch': 3469, 'jaya': 3470, 'rcv': 3471, 'bleh': 3472, 'acl03530150pm': 3473, 'worlds': 3474, 'urgnt': 3475, '13': 3476, 'dhoni': 3477, 'halloween': 3478, 'h': 3479, 'arent': 3480, 'cme': 3481, 'thoughts': 3482, 'craziest': 3483, 'singing': 3484, 'clearing': 3485, 'birth': 3486, 'wiskey': 3487, 'brandy': 3488, 'rum': 3489, 'gin': 3490, 'scotch': 3491, 'shampain': 3492, 'kudi': 3493, 'yarasu': 3494, 'dhina': 3495, 'vaazhthukkal': 3496, 'wuld': 3497, \"jay's\": 3498, 'impatient': 3499, 'puttin': 3500, 'art': 3501, 'evry': 3502, 'jolt': 3503, 'hallaq': 3504, 'dancing': 3505, 'tease': 3506, 'birthdate': 3507, 'attached': 3508, '2waxsto': 3509, 'major': 3510, 'replacement': 3511, 'posts': 3512, 'expression': 3513, 'drinkin': 3514, '0776xxxxxxx': 3515, 'aunts': 3516, 'bein': 3517, 'thot': 3518, 'superior': 3519, 'department': 3520, 'fathima': 3521, 'tons': 3522, 'x49': 3523, '09065989182': 3524, 'gr8prizes': 3525, 'supervisor': 3526, '6pm': 3527, 'requests': 3528, 'hip': 3529, 'cares': 3530, 'response': 3531, 'filled': 3532, 'neither': 3533, 'apo': 3534, 'belovd': 3535, 'dot': 3536, 'dressed': 3537, 'dime': 3538, 'snowman': 3539, 'wishin': 3540, 'pours': 3541, 'quiet': 3542, 'piece': 3543, '3650': 3544, '09066382422': 3545, '300603': 3546, 'bcm4284': 3547, 'slide': 3548, 'desires': 3549, 'evr': 3550, 'pending': 3551, 'paperwork': 3552, 'nervous': 3553, 'logos': 3554, 'guilty': 3555, 'sticky': 3556, 'strange': 3557, 'conducts': 3558, 'tomorro': 3559, 'born': 3560, 'eek': 3561, 'juan': 3562, 'finishes': 3563, 'virgin': 3564, 'hol': 3565, 'pouts': 3566, 'stomps': 3567, 'feet': 3568, 'threats': 3569, 'moments': 3570, 'ericsson': 3571, 'considering': 3572, 'licks': 3573, 'pop': 3574, 'window': 3575, 'simpler': 3576, 'stayed': 3577, 'wee': 3578, 'desparate': 3579, 'fake': 3580, 'hahaha': 3581, 'brain': 3582, 'position': 3583, 'esplanade': 3584, 'parent': 3585, 'effects': 3586, '2morro': 3587, 'miserable': 3588, 'silence': 3589, 'violated': 3590, 'privacy': 3591, 'anna': 3592, 'nagar': 3593, 'dumb': 3594, '1hr': 3595, 'delay': 3596, 'jerry': 3597, 'irritates': 3598, 'fails': 3599, \"priscilla's\": 3600, 'vivek': 3601, 'secretary': 3602, 'blessing': 3603, 'pan': 3604, 'perhaps': 3605, '1000': 3606, 'gotten': 3607, 'sam': 3608, 'coast': 3609, 'despite': 3610, '30ish': 3611, 'desperate': 3612, 'railway': 3613, 'yeh': 3614, 'recognise': 3615, 'confused': 3616, 'oil': 3617, 'gender': 3618, 'snake': 3619, 'cheat': 3620, 'waking': 3621, 'nearly': 3622, 'inshah': 3623, 'gpu': 3624, 'jia': 3625, '4txt': 3626, 'langport': 3627, '165': 3628, 'recovery': 3629, 'ummmmmaah': 3630, 'form': 3631, 'clark': 3632, 'utter': 3633, 'noun': 3634, 'pieces': 3635, 'os': 3636, 'repair': 3637, 'onwards': 3638, 'epsilon': 3639, 'bro': 3640, '125gift': 3641, 'toot': 3642, 'in2': 3643, 'slippers': 3644, 'detroit': 3645, 'aunty': 3646, 'horo': 3647, 'star': 3648, 'ow': 3649, 'donate': 3650, 'ordered': 3651, 'curious': 3652, 'frog': 3653, 'kappa': 3654, 'superb': 3655, 'electricity': 3656, 'nokia6650': 3657, 'ctxt': 3658, 'mtmsg': 3659, 'swiss': 3660, 'crore': 3661, 'politicians': 3662, 'purpose': 3663, 'å£75': 3664, 'homeowners': 3665, 'tenants': 3666, 'previously': 3667, 'refused': 3668, '1956669': 3669, \"'help'\": 3670, 'surprised': 3671, 'consider': 3672, 'sleepwell': 3673, 'suite': 3674, 'dippeditinadew': 3675, 'lovingly': 3676, 'itwhichturnedinto': 3677, 'gifted': 3678, 'tomeandsaid': 3679, 'killed': 3680, 'ws': 3681, 'tlk': 3682, 'dr': 3683, 'jd': 3684, 'accounts': 3685, '09058091854': 3686, 'box385': 3687, 'm6': 3688, '6wu': 3689, 'cookies': 3690, 'tacos': 3691, 'hint': 3692, 'east': 3693, '21870000': 3694, 'mailbox': 3695, 'messaging': 3696, '09056242159': 3697, 'retrieve': 3698, 'havin': 3699, 'difficulties': 3700, 'mumtaz': 3701, \"mumtaz's\": 3702, 'vegas': 3703, 'stays': 3704, 'covers': 3705, 'brief': 3706, 'history': 3707, '08712101358': 3708, 'greatest': 3709, 'courage': 3710, 'bear': 3711, 'defeat': 3712, 'capital': 3713, 'tank': 3714, 'housewives': 3715, '0871750': 3716, '77': 3717, 'landlines': 3718, 'blur': 3719, 'coin': 3720, 'henry': 3721, 'moved': 3722, 'okey': 3723, 'txt82228': 3724, 'box97n7qp': 3725, 'delete': 3726, 'laundry': 3727, 'underwear': 3728, 'floor': 3729, 'eighth': 3730, 'twenty': 3731, 'burger': 3732, \"'melle\": 3733, 'melle': 3734, 'oru': 3735, 'minnaminunginte': 3736, 'nurungu': 3737, 'vettam': 3738, '3100': 3739, 'ms': 3740, '09061744553': 3741, 'polyh': 3742, 'properly': 3743, 'bootydelious': 3744, 'santa': 3745, 'unemployed': 3746, 'sup': 3747, 'excuses': 3748, 'wan2': 3749, 'westlife': 3750, 'm8': 3751, 'unbreakable': 3752, 'untamed': 3753, 'unkempt': 3754, '83049': 3755, 'fire': 3756, 'keeps': 3757, 'thursday': 3758, 'sh': 3759, '7250i': 3760, 'w1jhl': 3761, 'waves': 3762, \"1's\": 3763, 'msn': 3764, 'bell': 3765, 'sum': 3766, 'pushes': 3767, 'sptv': 3768, 'picsfree1': 3769, 'reminding': 3770, 'owns': 3771, 'allowed': 3772, 'hyde': 3773, 'follow': 3774, 'str': 3775, '08002986030': 3776, 'shut': 3777, 'kills': 3778, 'lo': 3779, '89070': 3780, 'shock': 3781, 'leona': 3782, 'whatsup': 3783, 'serving': 3784, 'gibbs': 3785, 'storming': 3786, 'phne': 3787, 'wt': 3788, 'margaret': 3789, 'girlfrnd': 3790, 'grahmbell': 3791, 'invnted': 3792, 'telphone': 3793, 'lst': 3794, 'reboot': 3795, 'reg': 3796, \"'ll\": 3797, 'aiya': 3798, 'oreo': 3799, 'truffles': 3800, 'radio': 3801, 'brought': 3802, 'cared': 3803, 'solved': 3804, 'cat': 3805, 'bruce': 3806, 'caring': 3807, 'dealing': 3808, 'favorite': 3809, 'stomach': 3810, 'suntec': 3811, 'castor': 3812, 'heater': 3813, 'aww': 3814, 'cooked': 3815, 'weirdest': 3816, 'boyfriend': 3817, 'lookatme': 3818, 'ability': 3819, 'edison': 3820, 'rightly': 3821, 'viva': 3822, 'tb': 3823, 'nuther': 3824, 'academic': 3825, 'whose': 3826, 'prescription': 3827, 'islands': 3828, 'onion': 3829, 'yunny': 3830, 'heading': 3831, 'temp': 3832, '09058099801': 3833, 'b4190604': 3834, '7876150ppm': 3835, 'mental': 3836, 'cheese': 3837, 'knock': 3838, 'survey': 3839, 'nydc': 3840, 'soo': 3841, '910': 3842, 'å£50': 3843, 'rhythm': 3844, 'vewy': 3845, 'cappuccino': 3846, 'flame': 3847, 'nok': 3848, 'ure': 3849, 'jason': 3850, 'format': 3851, 'mystery': 3852, 'persons': 3853, 'sports': 3854, 'lined': 3855, 'image': 3856, 'sooooo': 3857, 'soooo': 3858, 'provider': 3859, 'tming': 3860, \"wherre's\": 3861, 'absolutely': 3862, 'stuffing': 3863, 'progress': 3864, 'huiming': 3865, 'waqt': 3866, 'pehle': 3867, 'naseeb': 3868, 'zyada': 3869, 'kisi': 3870, 'ko': 3871, 'kuch': 3872, 'milta': 3873, 'hum': 3874, 'sochte': 3875, 'ham': 3876, 'jeetey': 3877, 'thnx': 3878, 'optimistic': 3879, 'habit': 3880, 'bari': 3881, 'hudgi': 3882, 'yorge': 3883, 'pataistha': 3884, 'ertini': 3885, 'southern': 3886, 'telugu': 3887, 'loans': 3888, 'miwa': 3889, 'jiayin': 3890, '08714712388': 3891, '08718738034': 3892, 'footie': 3893, 'phil': 3894, 'neville': 3895, \"'wnevr\": 3896, 'fal': 3897, 'fals': 3898, 'yen': 3899, 'madodu': 3900, 'nav': 3901, 'pretsorginta': 3902, 'nammanna': 3903, 'pretsovru': 3904, 'alwa': 3905, 'explicitly': 3906, 'nora': 3907, 'playin': 3908, 'downstem': 3909, 'thin': 3910, 'arguments': 3911, 'fed': 3912, 'himso': 3913, '2go': 3914, 'watever': 3915, 'built': 3916, 'atlast': 3917, 'lonlines': 3918, 'lotz': 3919, 'memories': 3920, 'axis': 3921, 'cab': 3922, 'steps': 3923, 'evaluation': 3924, 'cl': 3925, \"textin'\": 3926, 'designation': 3927, 'developer': 3928, 'shhhhh': 3929, 'avo': 3930, 'archive': 3931, 'sweater': 3932, 'mango': 3933, 'audiitions': 3934, 'relocate': 3935, '07099833605': 3936, '9280114': 3937, 'romcapspam': 3938, 'presence': 3939, 'outgoing': 3940, \"there're\": 3941, '9061100010': 3942, 'wire3': 3943, '1st4terms': 3944, 'mobcudb': 3945, 'apeshit': 3946, 'crashing': 3947, 'compass': 3948, 'map': 3949, 'gnun': 3950, 'way2sms': 3951, '08448350055': 3952, 'planettalkinstant': 3953, \"how're\": 3954, 'throwing': 3955, 'newquay': 3956, '1im': 3957, 'talkin': 3958, '700': 3959, '900': 3960, 'breakfast': 3961, 'hamper': 3962, 'ofcourse': 3963, 'vomitin': 3964, 'attending': 3965, 'rocking': 3966, 'ashes': 3967, 'vpod': 3968, 'sg': 3969, 'phyhcmk': 3970, 'pc1323': 3971, 'oclock': 3972, 'bash': 3973, 'ringing': 3974, 'houseful': 3975, 'brats': 3976, 'pulling': 3977, 'fifty': 3978, 'stitch': 3979, 'trouser': 3980, 'data': 3981, 'analysis': 3982, '600': 3983, '400': 3984, 'deltomorrow': 3985, 'emigrated': 3986, 'hopeful': 3987, 'dual': 3988, 'ou': 3989, 'tonexs': 3990, 'renewed': 3991, 'clubzed': 3992, 'billing': 3993, 'sculpture': 3994, 'mina': 3995, 'sleeps': 3996, 'xam': 3997, 'hall': 3998, 'hesitation': 3999, 'intha': 4000, 'ponnungale': 4001, 'ipaditan': 4002, 'punto': 4003, 'gong': 4004, 'kaypoh': 4005, 'seventeen': 4006, 'ml': 4007, '09058091870': 4008, '1b6a5ecef91ff9': 4009, '37819': 4010, 'true18': 4011, '0430': 4012, 'jul': 4013, 'andrews': 4014, \"fren's\": 4015, 'sd': 4016, 'pleassssssseeeeee': 4017, 'sportsx': 4018, 'decades': 4019, 'goverment': 4020, 'expects': 4021, 'mentionned': 4022, 'weåõve': 4023, '2geva': 4024, 'mint': 4025, 'feathery': 4026, 'bowa': 4027, 'satsgettin': 4028, '47per': 4029, 'lnly': 4030, 'splash': 4031, \"mine's\": 4032, '07008009200': 4033, 'status': 4034, 'frequently': 4035, 'ridden': 4036, 'finishd': 4037, 'abroad': 4038, 'xxsp': 4039, 'stopcost': 4040, '08712400603': 4041, 'grasp': 4042, 'armenia': 4043, 'swann': 4044, 'dammit': 4045, 'meetins': 4046, 'cumin': 4047, '09099726395': 4048, 'gep': 4049, 'length': 4050, 'pubs': 4051, 'frankie': 4052, 'bennys': 4053, 'theres': 4054, 'clearly': 4055, 'isaiah': 4056, 'posting': 4057, 'byatch': 4058, 'whassup': 4059, 'dehydrated': 4060, 'gsoh': 4061, 'spam': 4062, 'gigolo': 4063, 'mens': 4064, 'oncall': 4065, 'mjzgroup': 4066, '08714342399': 4067, '50rcvd': 4068, 'womdarfull': 4069, 'dabooks': 4070, 'crucial': 4071, \"someone's\": 4072, 'batt': 4073, 'gam': 4074, 'innings': 4075, 'lodge': 4076, 'showers': 4077, 'possessiveness': 4078, 'poured': 4079, 'golden': 4080, '54': 4081, 'resubmit': 4082, 'expiry': 4083, 'repairs': 4084, 'followin': 4085, 'hack': 4086, 'backdoor': 4087, 'fraction': 4088, 'neo69': 4089, '09050280520': 4090, 'subscribe': 4091, 'dps': 4092, 'bcm': 4093, '8027': 4094, 'buttons': 4095, 'slaaaaave': 4096, 'summon': 4097, 'asjesus': 4098, 'chik': 4099, \"100's\": 4100, 'filth': 4101, 'saristar': 4102, 'e14': 4103, '9yt': 4104, '08701752560': 4105, '450p': 4106, 'stop2': 4107, 'caveboy': 4108, 'smoked': 4109, 'inever': 4110, 'freaky': 4111, 'dying': 4112, 'table': 4113, '08714714011': 4114, 'gage': 4115, 'deck': 4116, 'cnupdates': 4117, 'newsletter': 4118, 'alerts': 4119, 'kid': 4120, \"l'm\": 4121, '7250': 4122, 'topped': 4123, 'bubbletext': 4124, 'tgxxrz': 4125, 'dizzamn': 4126, 'suitemates': 4127, 'joy': 4128, 'prescribed': 4129, '09058095107': 4130, 's3xy': 4131, 'randomlly': 4132, 'opening': 4133, 'bognor': 4134, 'splendid': 4135, 'bawling': 4136, 'failure': 4137, 'failing': 4138, 'amused': 4139, 'multiply': 4140, 'independently': 4141, 'showed': 4142, 'mobsi': 4143, '391784': 4144, 'kaiez': 4145, 'hiphop': 4146, 'gifts': 4147, 'cliff': 4148, 'non': 4149, 'cheetos': 4150, \"tantrum's\": 4151, 'bani': 4152, 'crashed': 4153, 'cuddled': 4154, 'nannys': 4155, 'wld': 4156, 'nosh': 4157, 'emailed': 4158, 'yifeng': 4159, \"dip's\": 4160, 'cereals': 4161, 'gari': 4162, 'abeg': 4163, 'sponsors': 4164, 'seperated': 4165, '\\x8eö´\\x89ó': 4166, '\\x8bû¬ud': 4167, 'related': 4168, 'arul': 4169, 'notixiquating': 4170, 'laxinorficated': 4171, 'bambling': 4172, 'entropication': 4173, 'oblisingately': 4174, 'opted': 4175, 'masteriastering': 4176, 'amplikater': 4177, 'fidalfication': 4178, 'champlaxigating': 4179, 'atrocious': 4180, 'wotz': 4181, 'junna': 4182, 'wondar': 4183, 'flim': 4184, 'dreading': 4185, 'thou': 4186, 'li': 4187, 'lecturer': 4188, 'repeating': 4189, 'borin': 4190, 'boggy': 4191, 'biatch': 4192, 'oi': 4193, 'elections': 4194, 'shouldn\\x89û÷t': 4195, 'tunde': 4196, 'villa': 4197, 'stereo': 4198, 'mi': 4199, 'pooja': 4200, 'sweatter': 4201, 'envy': 4202, \"see's\": 4203, 'blanked': 4204, 'crucify': 4205, 'ams': 4206, 'rebtel': 4207, 'firefox': 4208, 'stoners': 4209, 'fiting': 4210, 'load': 4211, 'mj': 4212, 'although': 4213, 'baig': 4214, 'watches': 4215, 'sts': 4216, 'resume': 4217, 'shouting': 4218, 'audrie': 4219, 'autocorrect': 4220, 'bbq': 4221, '6ish': 4222, 'spontaneously': 4223, 'goodevening': 4224, 'jetton': 4225, '08718726971': 4226, 'reserves': 4227, 'misscall': 4228, 'frndz': 4229, '6missed': 4230, 'revision': 4231, 'boyf': 4232, 'interviw': 4233, 'cards': 4234, 'situations': 4235, 'loosing': 4236, 'takin': 4237, '08702490080': 4238, 'predicting': 4239, 'accumulation': 4240, 'pleasant': 4241, 'statements': 4242, 'hero': 4243, 'apt': 4244, \"idea's\": 4245, 'anyplaces': 4246, '400mins': 4247, 'j5q': 4248, 'enc': 4249, '09050000460': 4250, 'j89': 4251, 'box245c2150pm': 4252, 'videos': 4253, 'shsex': 4254, 'netun': 4255, 'fgkslpopw': 4256, 'fgkslpo': 4257, 'conversations': 4258, 'senses': 4259, 'overemphasise': 4260, 'elephant': 4261, 'shove': 4262, 'um': 4263, 'heehee': 4264, 'harri': 4265, 'tix': 4266, 'marvel': 4267, 'ultimate': 4268, '83338': 4269, '8ball': 4270, '3750': 4271, 'beside': 4272, 'league': 4273, 'zhong': 4274, 'qing': 4275, 'act': 4276, 'evo': 4277, 'becausethey': 4278, '09058098002': 4279, 'pobox1': 4280, 'w14rg': 4281, 'phone750': 4282, 'millers': 4283, 'lastest': 4284, 'stereophonics': 4285, 'marley': 4286, 'dizzee': 4287, 'racal': 4288, 'libertines': 4289, 'strokes': 4290, 'nookii': 4291, 'bookmark': 4292, 'wrkin': 4293, 'didn\\x89û÷t': 4294, 'nighters': 4295, 'persevered': 4296, 'subscribers': 4297, 'elvis': 4298, 'presleys': 4299, '08719181259': 4300, 'categories': 4301, 'ethnicity': 4302, 'census': 4303, 'transcribing': 4304, \"basket's\": 4305, 'bowls': 4306, 'command': 4307, \"there'll\": 4308, 'shindig': 4309, 'completing': 4310, \"weren't\": 4311, '5226': 4312, '350': 4313, 'hava': 4314, '1131': 4315, 'taka': 4316, 'diesel': 4317, 'panties': 4318, 'smash': 4319, 'religiously': 4320, 'dialogue': 4321, 'reltnship': 4322, 'asia': 4323, 'nordstrom': 4324, 'baaaaabe': 4325, 'misss': 4326, 'youuuuu': 4327, 'western': 4328, 'accordin': 4329, 'discussed': 4330, 'asa': 4331, 'warned': 4332, 'sprint': 4333, '07781482378': 4334, 'jp': 4335, 'mofo': 4336, \"zaher's\": 4337, 'placement': 4338, 'amrita': 4339, 'restocked': 4340, 'parties': 4341, 'guessing': 4342, 'jb': 4343, \"åòit's\": 4344, 'flowers': 4345, '505060': 4346, 'simpsons': 4347, 'band': 4348, 'eh74rr': 4349, 'deserve': 4350, 'asus': 4351, 'reformat': 4352, 'urgh': 4353, 'coach': 4354, 'smells': 4355, 'duvet': 4356, 'predictive': 4357, 'maggi': 4358, 'mee': 4359, 'amanda': 4360, 'regard': 4361, 'renewing': 4362, 'upgrading': 4363, 'subject': 4364, 'childporn': 4365, 'intrude': 4366, 'print': 4367, 'outs': 4368, 'avatar': 4369, 'nigro': 4370, 'hui': 4371, 'xin': 4372, 'trips': 4373, 'va': 4374, 'watched': 4375, 'synced': 4376, 'shangela': 4377, 'pocked': 4378, 'gudnite': 4379, 'ummifying': 4380, '09065171142': 4381, 'stopsms': 4382, '08718727870150ppm': 4383, 'mary': 4384, 'nudist': 4385, 'themed': 4386, 'dull': 4387, 'install': 4388, 'browse': 4389, 'artists': 4390, 'iron': 4391, 'burden': 4392, 'miiiiiiissssssssss': 4393, '7ish': 4394, 'steal': 4395, 'brolly': 4396, 'franxx': 4397, '07808726822': 4398, '9758': 4399, 'browsin': 4400, 'compulsory': 4401, 'erutupalam': 4402, 'thandiyachu': 4403, 'bull': 4404, 'floating': 4405, 'papa': 4406, '44': 4407, '7732584351': 4408, 'hooked': 4409, 'wrks': 4410, '83021': 4411, 'awww': 4412, 'regular': 4413, \"no's\": 4414, 'w4': 4415, '5wq': 4416, 'comprehensive': 4417, 'watchin': 4418, 'antibiotic': 4419, 'abdomen': 4420, 'gynae': 4421, 'accomodations': 4422, 'cave': 4423, 'offered': 4424, 'embarassing': 4425, '09050001295': 4426, 'a21': 4427, 'agree': 4428, 'gauti': 4429, 'sehwag': 4430, 'ned': 4431, 'attention': 4432, 'goods': 4433, 'spoons': 4434, 'dhanush': 4435, 'fps': 4436, 'coimbatore': 4437, 'gray': 4438, 'listn': 4439, 'watevr': 4440, 'syria': 4441, 'fudge': 4442, 'oreos': 4443, 'stores': 4444, 'rhode': 4445, 'bong': 4446, 'brdget': 4447, 'jones': 4448, 'b4u': 4449, 'marsms': 4450, 'b4utele': 4451, '08717168528': 4452, 'rats': 4453, 'themes': 4454, 'ajith': 4455, 'tim': 4456, 'bollox': 4457, 'tol': 4458, 'efficient': 4459, 'surly': 4460, 'remb': 4461, 'computational': 4462, 'lapdancer': 4463, '89555': 4464, 'textoperator': 4465, 'g2': 4466, '1da': 4467, '150ppmsg': 4468, 'lighters': 4469, \"s'fine\": 4470, 'toughest': 4471, 'vomiting': 4472, 'ukp': 4473, '09061790125': 4474, 'tooth': 4475, 'or2optout': 4476, 'hv9d': 4477, 'kanji': 4478, 'dose': 4479, 'tablet': 4480, 'girlie': 4481, 'offense': 4482, 'justify': 4483, 'ruining': 4484, 'ammae': 4485, 'steering': 4486, 'daytime': 4487, 'busty': 4488, '09099726429': 4489, 'janinexx': 4490, 'noooooooo': 4491, 'corect': 4492, 'speling': 4493, 'hu': 4494, 'navigate': 4495, 'choosing': 4496, 'require': 4497, 'guidance': 4498, '10k': 4499, '5k': 4500, '09064011000': 4501, 'cr01327bt': 4502, 'fixedline': 4503, 'lyrics': 4504, 'loooooool': 4505, 'couch': 4506, 'rents': 4507, 'accordingly': 4508, 'woul': 4509, 'curfew': 4510, 'gibe': 4511, 'getsleep': 4512, 'studdying': 4513, 'wasnåõt': 4514, 'spouse': 4515, 'pmt': 4516, 'sumthin': 4517, '4give': 4518, 'shldxxxx': 4519, 'apart': 4520, 'shijutta': 4521, 'walsall': 4522, 'tue': 4523, 'terry': 4524, 'anand': 4525, 'youi': 4526, 'fujitsu': 4527, 'ibm': 4528, 'hp': 4529, 'ups': 4530, '3days': 4531, 'shipping': 4532, 'usps': 4533, 'bribe': 4534, 'nipost': 4535, 'classmates': 4536, 'predicte': 4537, 'heroes': 4538, 'tips': 4539, 'tunji': 4540, '09066361921': 4541, 'applausestore': 4542, 'monthlysubscription': 4543, 'max6': 4544, 'csc': 4545, 'resizing': 4546, 'honeymoon': 4547, 'outfit': 4548, 'bookedthe': 4549, 'hut': 4550, 'repent': 4551, 'sarasota': 4552, 'chapel': 4553, 'frontierville': 4554, 'enters': 4555, 'transfered': 4556, 'x2': 4557, \"fr'ndship\": 4558, 'needle': 4559, '4few': 4560, 'conected': 4561, 'wendy': 4562, 'ambrith': 4563, 'madurai': 4564, 'dha': 4565, 'marrge': 4566, 'dust': 4567, 'nuerologist': 4568, 'hides': 4569, 'thousands': 4570, 'secrets': 4571, 'n8': 4572, 'pounded': 4573, 'flowing': 4574, 'nevering': 4575, 'sang': 4576, \"'uptown\": 4577, \"girl'\": 4578, \"80's\": 4579, 'invoices': 4580, '4882': 4581, '09064019014': 4582, 'multimedia': 4583, '146tf150p': 4584, 'nauseous': 4585, 'dieting': 4586, 'friendships': 4587, \"nobody's\": 4588, 'mus': 4589, '09050001808': 4590, 'm95': 4591, 'valid12hrs': 4592, 'resend': 4593, 'fires': 4594, 'sitter': 4595, 'kaitlyn': 4596, 'grown': 4597, 'weightloss': 4598, 'supports': 4599, 'srt': 4600, 'ps3': 4601, '08714712379': 4602, 'detailed': 4603, '85233': 4604, 'janx': 4605, 'dads': 4606, 'drivby': 4607, '0quit': 4608, 'edrunk': 4609, 'iff': 4610, 'pthis': 4611, 'senrd': 4612, 'dnot': 4613, 'dancce': 4614, 'drum': 4615, 'basq': 4616, 'ihave': 4617, '2nhite': 4618, 'ros': 4619, 'xxxxxxx': 4620, 'narcotics': 4621, 'playng': 4622, 'hurting': 4623, 'meaningful': 4624, 'compromised': 4625, 'posible': 4626, 'century': 4627, 'frwd': 4628, 'theyre': 4629, 'dislikes': 4630, 'hide': 4631, 'anythiing': 4632, 'tagged': 4633, '09071517866': 4634, '150ppmpobox10183bhamb64xe': 4635, 'answerin': 4636, 'reasonable': 4637, 'loo': 4638, 'ed': 4639, 'affidavit': 4640, 'twiggs': 4641, 'courtroom': 4642, 'gandhipuram': 4643, 'matthew': 4644, '09063440451': 4645, 'ppm150': 4646, 'box334': 4647, 'uploaded': 4648, 'stripes': 4649, 'skirt': 4650, 'ceri': 4651, 'rebel': 4652, 'dreamz': 4653, 'buddy': 4654, 'blokes': 4655, 'refilled': 4656, 'inr': 4657, 'keralacircle': 4658, 'prepaid': 4659, 'kr': 4660, 'shag': 4661, 'sextextuk': 4662, 'xxuk': 4663, '69876': 4664, 'sophas': 4665, 'secondary': 4666, 'applying': 4667, 'ogunrinde': 4668, 'dealer': 4669, 'lunsford': 4670, 'lovly': 4671, 'horse': 4672, 'language': 4673, 'officer': 4674, 'glorious': 4675, 'finds': 4676, 'coaxing': 4677, 'images': 4678, 'fond': 4679, 'souveniers': 4680, 'cougar': 4681, 'shanil': 4682, 'exchanged': 4683, 'uncut': 4684, 'diamond': 4685, 'dino': 4686, 'prem': 4687, 'bunch': 4688, 'lotto': 4689, 'mittelschmertz': 4690, 'paracetamol': 4691, 'bold2': 4692, 'grinder': 4693, 'significance': 4694, 'lengths': 4695, 'behalf': 4696, 'stunning': 4697, 'incredible': 4698, 'o2fwd': 4699, '18p': 4700, 'mirror': 4701, 'youre': 4702, 'les': 4703, 'rudi': 4704, 'snoring': 4705, 'ink': 4706, 'freaking': 4707, 'myspace': 4708, 'logged': 4709, 'apologetic': 4710, 'fallen': 4711, 'actin': 4712, 'spoilt': 4713, 'badly': 4714, 'workout': 4715, 'fats': 4716, 'skint': 4717, 'fancied': 4718, 'bevies': 4719, 'waz': 4720, 'othrs': 4721, 'spoon': 4722, 'watchng': 4723, 'comfey': 4724, 'beach': 4725, 'expected': 4726, 'ashley': 4727, 'philosophical': 4728, 'hole': 4729, 'enufcredeit': 4730, 'tocall': 4731, 'ileave': 4732, 'rayan': 4733, 'macleran': 4734, \"finn's\": 4735, 'ducking': 4736, 'chinchillas': 4737, 'dump': 4738, 'heap': 4739, 'lowes': 4740, 'creepy': 4741, 'bsn': 4742, 'advising': 4743, 'gayle': 4744, 'alaikkum': 4745, 'pride': 4746, 'plm': 4747, 'november': 4748, '09061104276': 4749, 'costå£3': 4750, '75max': 4751, \"it'll\": 4752, 'ranjith': 4753, 'drpd': 4754, 'deeraj': 4755, 'deepak': 4756, 'interest': 4757, 'figuring': 4758, 'hdd': 4759, 'casing': 4760, 'lamp': 4761, 'risks': 4762, 'ooooooh': 4763, 'yoville': 4764, '08715203694': 4765, 'motivating': 4766, 'lambu': 4767, 'ji': 4768, 'batchlor': 4769, 'buzzzz': 4770, 'vibrator': 4771, 'shake': 4772, 'lingo': 4773, 'crossing': 4774, 'waliking': 4775, '09065394973': 4776, 'seing': 4777, 'asssssholeeee': 4778, \"rct'\": 4779, 'thnq': 4780, 'adrian': 4781, 'rgds': 4782, 'vatian': 4783, 'victoria': 4784, 'traffic': 4785, 'audrey': 4786, 'stash': 4787, 'idew': 4788, 'wipro': 4789, 'sc': 4790, 'specialise': 4791, 'wad': 4792, 'brownie': 4793, 'u4': 4794, 'knickers': 4795, '01223585236': 4796, 'nikiyu4': 4797, 'ax': 4798, 'tau': 4799, 'piah': 4800, 'invite': 4801, 'aslamalaikkum': 4802, 'tohar': 4803, 'beeen': 4804, 'muht': 4805, 'albi': 4806, 'mufti': 4807, 'mahfuuz': 4808, 'intend': 4809, 'iwas': 4810, 'marine': 4811, 'itried2tell': 4812, 'urmom': 4813, 'careabout': 4814, 'timin': 4815, 'tscs08714740323': 4816, '1winawk': 4817, '50perweeksub': 4818, '4the': 4819, 'unintentionally': 4820, 'notified': 4821, 'marketing': 4822, '84122': 4823, '08450542832': 4824, 'poortiyagi': 4825, 'odalebeku': 4826, 'hanumanji': 4827, 'hanuman': 4828, 'bajarangabali': 4829, 'maruti': 4830, 'pavanaputra': 4831, 'sankatmochan': 4832, 'ramaduth': 4833, 'mahaveer': 4834, 'janarige': 4835, 'ivatte': 4836, 'kalisidare': 4837, 'olage': 4838, 'ondu': 4839, 'keluviri': 4840, 'maretare': 4841, 'inde': 4842, 'dodda': 4843, 'problum': 4844, 'nalli': 4845, 'siguviri': 4846, 'idu': 4847, 'matra': 4848, 'neglet': 4849, '69696': 4850, 'forwarding': 4851, 'chile': 4852, 'subletting': 4853, 'thinkthis': 4854, 'dangerous': 4855, 'congratulation': 4856, 'qet': 4857, '5pm': 4858, '95': 4859, 'pax': 4860, 'deposit': 4861, 'aaooooright': 4862, 'arrived': 4863, 'beads': 4864, 'token': 4865, 'liking': 4866, 'natalja': 4867, 'nat27081980': 4868, 'hectic': 4869, 'somerset': 4870, 'slices': 4871, 'holby': 4872, 'yalru': 4873, 'astne': 4874, 'innu': 4875, 'mundhe': 4876, 'halla': 4877, 'bilo': 4878, 'edhae': 4879, 'ovr': 4880, 'vargu': 4881, 'someonone': 4882, '09064015307': 4883, 'haiyoh': 4884, 'million': 4885, 'n9dx': 4886, 'realise': 4887, 'backwards': 4888, 'dang': 4889, 'ericson': 4890, 'der': 4891, 'luks': 4892, 'modl': 4893, 'okmail': 4894, '83118': 4895, 'colin': 4896, 'farrell': 4897, 'swat': 4898, 'mre': 4899, 'field': 4900, 'headin': 4901, 'praps': 4902, 'goodo': 4903, 'lancaster': 4904, 'neway': 4905, 'couldnåõt': 4906, 'sittin': 4907, 'wind': 4908, 'drops': 4909, 'scary': 4910, \"weather's\": 4911, 'olympics': 4912, 'khelate': 4913, 'kintu': 4914, 'opponenter': 4915, 'dhorte': 4916, 'lage': 4917, '08700469649': 4918, 'box420': 4919, '08718738002': 4920, '48922': 4921, 'gyno': 4922, 'belong': 4923, 'ignoring': 4924, '08715500022': 4925, 'rpl': 4926, 'cnl': 4927, 'yeesh': 4928, 'flying': 4929, 'regretted': 4930, 'virtual': 4931, 'offering': 4932, 'cr': 4933, 'garage': 4934, 'collapsed': 4935, 'chastity': 4936, 'device': 4937, 'beatings': 4938, 'programs': 4939, 'equally': 4940, 'uneventful': 4941, 'pesky': 4942, 'cyclists': 4943, '09061213237': 4944, '177': 4945, 'm227xy': 4946, 'rejected': 4947, 'main': 4948, 'sources': 4949, 'unhappiness': 4950, 'yupz': 4951, 'slots': 4952, 'hopeing': 4953, 'wasn\\x89û÷t': 4954, 'sisters': 4955, 'alertfrom': 4956, 'jeri': 4957, 'stewartsize': 4958, '2kbsubject': 4959, 'prescripiton': 4960, 'drvgsto': 4961, '123': 4962, 'granite': 4963, 'explosive': 4964, 'nasdaq': 4965, 'cdgt': 4966, 'univ': 4967, 'nearby': 4968, 'cliffs': 4969, 'parkin': 4970, 'treadmill': 4971, 'craigslist': 4972, \"anything's\": 4973, 'sabarish': 4974, 'atten': 4975, 'derp': 4976, 'abusers': 4977, 'nutter': 4978, 'cutter': 4979, 'ctter': 4980, 'cttergg': 4981, 'cttargg': 4982, 'ctargg': 4983, 'ctagg': 4984, 'ie': 4985, 'tonights': 4986, 'missunderstding': 4987, \"one's\": 4988, 'washob': 4989, 'nobbing': 4990, 'nickey': 4991, 'platt': 4992, 'approaching': 4993, 'sankranti': 4994, 'republic': 4995, 'shivratri': 4996, 'ugadi': 4997, 'fools': 4998, 'independence': 4999, 'teachers': 5000, 'childrens': 5001, 'festival': 5002, 'dasara': 5003, 'mornings': 5004, 'afternoons': 5005, 'rememberi': 5006, \"your's\": 5007, 'aunt': 5008, 'flow': 5009, 'developed': 5010, 'ovarian': 5011, 'cysts': 5012, 'shrink': 5013, 'front': 5014, 't91': 5015, '09057039994': 5016, 'misundrstud': 5017, 'elama': 5018, 'mudyadhu': 5019, 'club4mobiles': 5020, '87070': 5021, 'club4': 5022, 'box1146': 5023, 'mk45': 5024, '2wt': 5025, 'jackpot': 5026, '81010': 5027, 'dbuk': 5028, 'lccltd': 5029, '4403ldnw1a7rw18': 5030, 'antelope': 5031, 'toplay': 5032, 'fieldof': 5033, 'selfindependence': 5034, 'contention': 5035, 'steak': 5036, 'possibility': 5037, 'screwd': 5038, \"derek's\": 5039, 'habba': 5040, 'meat': 5041, 'supreme': 5042, 'inpersonation': 5043, 'flea': 5044, 'ball': 5045, 'spin': 5046, 'bat': 5047, 'doinat': 5048, 'opposed': 5049, '420': 5050, '15': 5051, 'starve': 5052, 'hasnt': 5053, 'blastin': 5054, 'occur': 5055, 'rajnikant': 5056, 'ocean': 5057, 'argh': 5058, 'spotty': 5059, 'province': 5060, 'sterling': 5061, 'pisces': 5062, 'aquarius': 5063, 'fried': 5064, 'spares': 5065, 'looovvve': 5066, 'trek': 5067, 'invention': 5068, 'rayman': 5069, 'golf': 5070, 'activ8': 5071, 'termsapply': 5072, 'dvg': 5073, 'vinobanagar': 5074, 'nasty': 5075, 'filthyguys': 5076, 'rude': 5077, '4msgs': 5078, 'gamb': 5079, 'fireplace': 5080, 'icon': 5081, 'slp': 5082, 'muah': 5083, 'witin': 5084, 'eviction': 5085, 'spiral': 5086, 'michael': 5087, 'riddance': 5088, '45pm': 5089, 'absence': 5090, 'bw': 5091, 'spjanuary': 5092, 'creep': 5093, 'wesley': 5094, \"how've\": 5095, 'fwiw': 5096, 'afford': 5097, 'reception': 5098, 'monster': 5099, 'lakhs': 5100, 'versus': 5101, 'limit': 5102, 'boundaries': 5103, 'endless': 5104, 'nottingham': 5105, '63miles': 5106, '40mph': 5107, \"ashley's\": 5108, 'someplace': 5109, 'mca': 5110, 'purse': 5111, 'stressful': 5112, 'melody': 5113, 'attended': 5114, 'ummma': 5115, 'objection': 5116, 'coco': 5117, 'africa': 5118, 'avin': 5119, 'virgins': 5120, 'sexual': 5121, 'theirs': 5122, '69911': 5123, 'uawake': 5124, 'feellikw': 5125, 'justfound': 5126, 'aletter': 5127, 'thatmum': 5128, 'gotmarried': 5129, '4thnov': 5130, 'ourbacks': 5131, 'fuckinnice': 5132, 'tirunelvali': 5133, 'arty': 5134, 'collages': 5135, 'tryin': 5136, 'ne': 5137, 'spelled': 5138, 'caps': 5139, 'bullshit': 5140, 'tellmiss': 5141, 'prix': 5142, 'associate': 5143, 'web2mobile': 5144, 'txt250': 5145, 'box139': 5146, 'la32wu': 5147, 'txtx': 5148, 'xclusive': 5149, 'clubsaisai': 5150, 'speciale': 5151, 'zouk': 5152, 'roses': 5153, '07946746291': 5154, '07880867867': 5155, 'wlcome': 5156, 'lion': 5157, 'nelson': 5158, \"bb's\": 5159, 'fellow': 5160, 'scrumptious': 5161, 'volcanoes': 5162, 'erupt': 5163, 'arise': 5164, 'hurricanes': 5165, 'sway': 5166, 'aroundn': 5167, 'disasters': 5168, 'innocent': 5169, 'peach': 5170, 'tasts': 5171, 'lush': 5172, 'crash': 5173, 'okday': 5174, 'ingredients': 5175, 'i\\x89ûªm': 5176, 'isn\\x89ûªt': 5177, 'nte': 5178, 'accenture': 5179, 'nick': 5180, 'types': 5181, 'fredericksburg': 5182, 'unni': 5183, 'mornin': 5184, 'thanku': 5185, '80155': 5186, 'swap': 5187, 'chatter': 5188, 'chat80155': 5189, 'rcd': 5190, 'hep': 5191, 'immunisation': 5192, 'hundreds': 5193, 'handsomes': 5194, 'beauties': 5195, 'aunties': 5196, 'triple': 5197, 'echo': 5198, '09050000332': 5199, '49': 5200, 'bundle': 5201, 'deals': 5202, 'avble': 5203, 'mf': 5204, 'lodging': 5205, '6230': 5206, 'pobox114': 5207, '14tcr': 5208, 'alto18': 5209, '44345': 5210, 'salad': 5211, 'beers': 5212, 'ignorant': 5213, 'buyers': 5214, 'scratches': 5215, 'seekers': 5216, 'attracts': 5217, 'throws': 5218, 'brothers': 5219, 'guild': 5220, 'practicing': 5221, 'babies': 5222, 'chez': 5223, 'jules': 5224, 'gurl': 5225, 'appropriate': 5226, 'snap': 5227, 'quizclub': 5228, '80122300p': 5229, 'rwm': 5230, '08704050406': 5231, 'operate': 5232, '09061743811': 5233, '3miles': 5234, 'fridge': 5235, 'cps': 5236, 'causing': 5237, 'outages': 5238, 'conserve': 5239, 'british': 5240, 'hotels': 5241, 'bx526': 5242, 'sw73ss': 5243, 'penis': 5244, '09066358361': 5245, 'y87': 5246, 'tall': 5247, 'idc': 5248, 'weaseling': 5249, 'singapore': 5250, 'poo': 5251, 'thkin': 5252, 'digi': 5253, 'coupla': 5254, '09058095201': 5255, 'maturity': 5256, 'apes': 5257, 'ahhh': 5258, 'vaguely': 5259, 'studies': 5260, 'anyones': 5261, 'neglect': 5262, 'assumed': 5263, 'warwick': 5264, 'tmw': 5265, 'canceled': 5266, \"havn't\": 5267, 'hiding': 5268, 'grandma': 5269, 'parade': 5270, 'parachute': 5271, 'btwn': 5272, 'lightly': 5273, 'checkboxes': 5274, 'å£600': 5275, 'landmark': 5276, 'bob': 5277, 'barry': 5278, '83738': 5279, 'duffer': 5280, 'emerging': 5281, 'fiend': 5282, 'impede': 5283, 'hesitant': 5284, 'complain': 5285, 'bettr': 5286, 'bsnl': 5287, 'offc': 5288, 'spaces': 5289, 'embassy': 5290, 'quiteamuzing': 5291, 'thatåõscool': 5292, '09058094599': 5293, 'gower': 5294, 'åômorrow': 5295, 'complacent': 5296, 'sdryb8i': 5297, 'ron': 5298, 'burgundy': 5299, 'captaining': 5300, 'cozy': 5301, 'charming': 5302, 'terrible': 5303, 'admit': 5304, 'experiencehttp': 5305, 'vouch4me': 5306, 'etlp': 5307, '07815296484': 5308, '41782': 5309, 'rt': 5310, 'pro': 5311, '08701237397': 5312, 'redeemable': 5313, 'general': 5314, \"taylor's\": 5315, 'wenever': 5316, 'onum': 5317, 'spice': 5318, 'exorcism': 5319, 'emily': 5320, 'hangin': 5321, 'prominent': 5322, 'cheek': 5323, 'rearrange': 5324, 'dormitory': 5325, 'astronomer': 5326, 'starer': 5327, 'election': 5328, 'recount': 5329, 'hitler': 5330, 'eleven': 5331, 'exp': 5332, '30apr': 5333, 'corvettes': 5334, 'kalainar': 5335, 'thenampet': 5336, 'basketball': 5337, 'outdoors': 5338, 'sos': 5339, 'noncomittal': 5340, 'strongly': 5341, 'sacrifice': 5342, 'creativity': 5343, 'stifled': 5344, 'poet': 5345, 'imagination': 5346, 'floppy': 5347, 'snappy': 5348, 'hogolo': 5349, 'kodstini': 5350, 'madstini': 5351, 'hogli': 5352, 'mutai': 5353, 'eerulli': 5354, 'kodthini': 5355, 'balloon': 5356, \"'an\": 5357, \"quote''\": 5358, 'forgive': 5359, 'genes': 5360, 'wesleys': 5361, 'defer': 5362, 'admission': 5363, 'tats': 5364, 'astrology': 5365, 'shorts': 5366, 'vat': 5367, 'reache': 5368, '0a': 5369, 'companies': 5370, 'responsible': 5371, 'suppliers': 5372, 'shadow': 5373, 'hmph': 5374, 'baller': 5375, 'wtlp': 5376, '88066': 5377, 'å£12': 5378, 'splashmobile': 5379, 'subscrition': 5380, 'aust': 5381, 'bk': 5382, 'flavour': 5383, 'earliest': 5384, 'stone': 5385, '09065174042': 5386, '07821230901': 5387, 'icic': 5388, '2price': 5389, '100txt': 5390, 'mth': 5391, \"b'tooth\": 5392, 'd3wv': 5393, 'bare': 5394, 'loosu': 5395, 'careless': 5396, \"don't4get2text\": 5397, 'baaaaaaaabe': 5398, 'geeeee': 5399, 'famamus': 5400, \"x'mas\": 5401, 'z': 5402, 'complaining': 5403, 'wetherspoons': 5404, 'como': 5405, 'listened2the': 5406, 'plaid': 5407, 'air1': 5408, 'hilarious': 5409, 'boughtåóbraindanceåóa': 5410, 'ofstuff': 5411, 'aphexåõs': 5412, 'abel': 5413, 'court': 5414, 'wasnt': 5415, 'phoned': 5416, 'rules': 5417, 'bend': 5418, 'thia': 5419, 'inlude': 5420, 'previews': 5421, 'nange': 5422, 'bakra': 5423, 'kalstiya': 5424, 'costume': 5425, 'allday': 5426, 'manky': 5427, 'scouse': 5428, 'travelling': 5429, 'inmind': 5430, 'recreation': 5431, 'boye': 5432, 'torrents': 5433, 'particularly': 5434, 'slowing': 5435, 'simulate': 5436, 'readiness': 5437, 'ahhhh': 5438, '0871277810710p': 5439, '820554ad0a1705572711': 5440, 'trueåác': 5441, 'ringtoneåá': 5442, '3mobile': 5443, 'chatlines': 5444, 'inclu': 5445, 'servs': 5446, 'l8er': 5447, 'bailiff': 5448, 'draws': 5449, '2stoptx': 5450, 'pshew': 5451, 'gei': 5452, 'tron': 5453, 'dl': 5454, 'finalise': 5455, 'dao': 5456, 'opener': 5457, '07090298926': 5458, '9307622': 5459, '09066350750': 5460, 'sk3': 5461, '8wp': 5462, 'dub': 5463, 'je': 5464, 'buff': 5465, 'cupboard': 5466, 'restrict': 5467, 'phonebook': 5468, 'upgrdcentre': 5469, '9153': 5470, 'zogtorius': 5471, 'iåõve': 5472, 'staring': 5473, 'invitation': 5474, 'cali': 5475, \"bloke's\": 5476, 'weddin': 5477, 'thinl': 5478, 'dollar': 5479, 'positions': 5480, 'kama': 5481, 'sutra': 5482, 'twinks': 5483, 'scallies': 5484, 'skins': 5485, 'jocks': 5486, '08712466669': 5487, 'port': 5488, '08719839835': 5489, 'mgs': 5490, 'billed': 5491, '89123': 5492, 'youåõre': 5493, 'soc': 5494, 'didntgive': 5495, 'bellearlier': 5496, '0789xxxxxxx': 5497, '330': 5498, '1120': 5499, '1205': 5500, 'irritation': 5501, 'mb': 5502, 'batsman': 5503, 'thus': 5504, 'prayers': 5505, 'rr': 5506, '32000': 5507, 'legitimat': 5508, 'efreefone': 5509, '08707500020': 5510, 'thout': 5511, 'samus': 5512, 'shoulders': 5513, '730': 5514, '4w': 5515, 'technologies': 5516, 'resent': 5517, 'queries': 5518, 'customersqueries': 5519, 'netvision': 5520, '087018728737': 5521, 'toppoly': 5522, 'tune': 5523, 'pole': 5524, 'squishy': 5525, 'mwahs': 5526, 'plaza': 5527, 'printer': 5528, 'groovy': 5529, 'groovying': 5530, '09096102316': 5531, 'minmoremobsemspobox45po139wa': 5532, 'blanket': 5533, 'openings': 5534, 'upcharge': 5535, 'spys': 5536, 'mails': 5537, 'cosign': 5538, 'option': 5539, 'payed': 5540, 'suganya': 5541, 'lips': 5542, 'gent': 5543, '09064012160': 5544, \"joke's\": 5545, 'fees': 5546, 'florida': 5547, 'woodland': 5548, 'avenue': 5549, 'parish': 5550, 'magazine': 5551, 'telephone': 5552, 'lolnice': 5553, 'lul': 5554, 'nurses': 5555, 'shes': 5556, 'obese': 5557, 'oyea': 5558, 'mostly': 5559, 'maaaan': 5560, 'yavnt': 5561, 'misplaced': 5562, 'faglord': 5563, 'specific': 5564, 'pre': 5565, 'trackmarque': 5566, 'vipclub4u': 5567, '08719899230': 5568, 'name1': 5569, 'name2': 5570, 'mobno': 5571, 'adam': 5572, '07123456789': 5573, 'txtno': 5574, 'ads': 5575, 'rg21': 5576, '4jx': 5577, 'meive': 5578, 'gotany': 5579, 'hypertension': 5580, 'adventuring': 5581, 'blowing': 5582, 'raping': 5583, 'dudes': 5584, '2mro': 5585, 'perumbavoor': 5586, 'wisheds': 5587, '88800': 5588, '89034': 5589, '08718711108': 5590, 'rounder': 5591, 'required': 5592, 'bot': 5593, 'notes': 5594, 'gek1510': 5595, 'heaven': 5596, 'okies': 5597, 'teams': 5598, 'garments': 5599, '945': 5600, 'signin': 5601, 'conference': 5602, 'blankets': 5603, 'ay': 5604, 'typical': 5605, 'portal': 5606, 'laready': 5607, 'squeezed': 5608, 'recognises': 5609, 'garbage': 5610, 'jam': 5611, 'hannaford': 5612, 'wheat': 5613, 'chex': 5614, 'canteen': 5615, 'clover': 5616, 'chickened': 5617, 'messaged': 5618, 'woould': 5619, 'totes': 5620, '\\x89ûïharry': 5621, 'potter': 5622, 'phoenix': 5623, 'harry': 5624, 'readers': 5625, \"sms'd\": 5626, 'prone': 5627, 'broadband': 5628, 'installation': 5629, 'poking': 5630, 'taxi': 5631, 'ing': 5632, 'panasonic': 5633, 'bluetoothhdset': 5634, 'doublemins': 5635, 'doubletxt': 5636, 'hassling': 5637, 'andres': 5638, 'haughaighgtujhyguj': 5639, 'gopalettan': 5640, 'participate': 5641, 'wud': 5642, 'annoyin': 5643, 'specify': 5644, 'domain': 5645, 'nusstu': 5646, 'squeeeeeze': 5647, 'frndshp': 5648, 'luvd': 5649, 'thesmszone': 5650, 'anonymous': 5651, 'masked': 5652, 'abuse': 5653, '9996': 5654, '14thmarch': 5655, 'availa': 5656, '21st': 5657, \"08452810075over18's\": 5658, 'swan': 5659, '08715203656': 5660, '42049': 5661, 'keypad': 5662, \"ta's\": 5663, '08712402578': 5664, 'eldest': 5665, 'shoul': 5666, 'fffff': 5667, 'disappeared': 5668, 'farting': 5669, 'tamilnadu': 5670, 'cudnt': 5671, 'ctla': 5672, 'cochin': 5673, 'ente': 5674, 'ishtamayoo': 5675, 'bakrid': 5676, 'ilol': 5677, 'personally': 5678, 'wuldnt': 5679, 'whereare': 5680, 'friendsare': 5681, 'thekingshead': 5682, 'canlove': 5683, 'nri': 5684, '09050000928': 5685, 'wasted': 5686, '82324': 5687, 'passes': 5688, '08704439680': 5689, 'gobi': 5690, 'buffy': 5691, 'qlynnbv': 5692, 'help08700621170150p': 5693, 'alive': 5694, 'plumbers': 5695, 'wrench': 5696, '2u2': 5697, 'dent': 5698, 'converter': 5699, 'puts': 5700, 'perspective': 5701, 'scorable': 5702, \"'maangalyam\": 5703, 'alaipayuthe': 5704, 'cedar': 5705, '98321561': 5706, 'familiar': 5707, 'uses': 5708, 'sez': 5709, 'arab': 5710, 'evry1': 5711, 'eshxxxxxxxxxxx': 5712, 'sq825': 5713, 'arrival': 5714, 'burial': 5715, 'mojibiola': 5716, 'treats': 5717, '1405': 5718, '1680': 5719, '1843': 5720, 'billy': 5721, 'annoncement': 5722, '07046744435': 5723, '08714712412': 5724, \"ny's\": 5725, 'tortilla': 5726, 'yummmm': 5727, 'surrender': 5728, 'appointments': 5729, 'deficient': 5730, 'brisk': 5731, 'walks': 5732, '087123002209am': 5733, 'chloe': 5734, 'stu': 5735, 'truble': 5736, 'evone': 5737, 'hates': 5738, 'dan': 5739, 'barbie': 5740, \"ken's\": 5741, 'rp176781': 5742, 'regalportfolio': 5743, '08717205546': 5744, 'grumpy': 5745, 'lying': 5746, 'proze': 5747, 'norcorp': 5748, 'resolution': 5749, 'frank': 5750, 'annoying': 5751, 'das': 5752, 'iknow': 5753, 'wellda': 5754, 'peril': 5755, 'studentfinancial': 5756, 'shattered': 5757, 'promotion': 5758, '8714714': 5759, 'breadstick': 5760, 'amla': 5761, 'durban': 5762, '09050003091': 5763, 'c52': 5764, 'blame': 5765, 'gods': 5766, 'leading': 5767, '151': 5768, 'pause': 5769, 'greece': 5770, 'msgrcvd': 5771, 'customercare': 5772, 'smartcall': 5773, '68866': 5774, 'subscriptn3gbp': 5775, '08448714184': 5776, 'landlineonly': 5777, 'downon': 5778, 'theacusations': 5779, 'itxt': 5780, 'iwana': 5781, 'wotu': 5782, 'thew': 5783, 'haventcn': 5784, 'up4': 5785, 'nething': 5786, 'weirdo': 5787, 'transport': 5788, 'problematic': 5789, 'nos': 5790, '545': 5791, 'prin': 5792, 'acknowledgement': 5793, 'astoundingly': 5794, 'tactless': 5795, 'oath': 5796, 'stayin': 5797, 'heåõs': 5798, 'sorted': 5799, '2getha': 5800, 'nationwide': 5801, 'newport': 5802, '50s': 5803, 'alot': 5804, 'incomm': 5805, '087147123779am': 5806, \"treatin'\": 5807, 'treacle': 5808, 'hillsborough': 5809, 'plate': 5810, 'leftovers': 5811, 'a30': 5812, 'divert': 5813, 'wadebridge': 5814, 'svc': 5815, '69988': 5816, 'bluray': 5817, 'dolls': 5818, 'patrick': 5819, 'swayze': 5820, 'stuffed': 5821, 'writhing': 5822, 'shoes': 5823, 'que': 5824, 'pases': 5825, 'buen': 5826, 'tiempo': 5827, 'win150ppmx3age16': 5828, 'discreet': 5829, '83110': 5830, 'supplies': 5831, '09050000878': 5832, 'scenery': 5833, 'leo': 5834, \"yetty's\": 5835, 'soz': 5836, 'imat': 5837, 'mums': 5838, 'wating': 5839, 'prakesh': 5840, '08715203685': 5841, '4xx26': 5842, 'smokin': 5843, '08712402779': 5844, 'sppok': 5845, 'sexychat': 5846, 'luton': 5847, '0125698789': 5848, 'cakes': 5849, 'hos': 5850, '09061790126': 5851, 'ipad': 5852, 'steyn': 5853, 'wicket': 5854, 'convenience': 5855, 'attraction': 5856, 'sorrows': 5857, 'proove': 5858, 'praises': 5859, 'makiing': 5860, 'sambar': 5861, '30pm': 5862, 'k718': 5863, '09065069120': 5864, 'rightio': 5865, '48': 5866, 'timi': 5867, 'velusamy': 5868, \"sir's\": 5869, 'facilities': 5870, 'showered': 5871, \"er'ything\": 5872, 'r836': 5873, '09065069154': 5874, 'doesn\\x89û÷t': 5875, 'everyboy': 5876, 'xxxxxxxx': 5877, 'stands': 5878, 'nitz': 5879, 'dedicated': 5880, 'dedicate': 5881, 'å£125': 5882, 'freeentry': 5883, 'xt': 5884, 'belligerent': 5885, 'shitin': 5886, 'defo': 5887, 'hardest': 5888, 'millions': 5889, 'lekdog': 5890, 'voicemail': 5891, '08719181513': 5892, 'spageddies': 5893, 'prasanth': 5894, 'ettans': 5895, 'lennon': 5896, 'spoiled': 5897, '08712400200': 5898, 'openin': 5899, 'formal': 5900, 'studyn': 5901, 'badrith': 5902, 'mising': 5903, 'corporation': 5904, 'afternon': 5905, 'interviews': 5906, 'piggy': 5907, 'emotion': 5908, 'prayrs': 5909, 'othrwise': 5910, '2stoptxt': 5911, 'surya': 5912, 'pokkiri': 5913, 'owned': 5914, 'possessive': 5915, 'swatch': 5916, '116': 5917, '09065394514': 5918, 'alter': 5919, 'thet': 5920, 'skinny': 5921, 'casting': 5922, 'poorly': 5923, 'punishment': 5924, 'brb': 5925, 'kill': 5926, 'ooh': 5927, '4got': 5928, 'moseley': 5929, 'weds': 5930, 'rajini': 5931, 'coulda': 5932, 'devouring': 5933, \"partner's\": 5934, 'method': 5935, 'calculation': 5936, 'sane': 5937, 'helping': 5938, 'claire': 5939, 'alian': 5940, 'hesitate': 5941, 'weakness': 5942, 'notebook': 5943, \"xin's\": 5944, 'inner': 5945, 'tigress': 5946, 'diamonds': 5947, 'gnarls': 5948, 'barkleys': 5949, 'murali': 5950, 'sun0819': 5951, 'cashed': 5952, 'announced': 5953, 'blog': 5954, 'split': 5955, 'speaking': 5956, 'sentiment': 5957, 'rowdy': 5958, 'attitude': 5959, 'attractive': 5960, 'dancin': 5961, 'function': 5962, 'lasting': 5963, 'babyjontet': 5964, 'tarpon': 5965, 'springs': 5966, 'wallet': 5967, 'fondly': 5968, '0825': 5969, 'contacts': 5970, 'purple': 5971, 'lyk': 5972, 'yelow': 5973, 'brown': 5974, 'color': 5975, 'pathaya': 5976, 'enketa': 5977, 'maraikara': 5978, \"pa'\": 5979, 'wall': 5980, 'actual': 5981, 'harder': 5982, 'nbme': 5983, 'ours': 5984, 'waheed': 5985, 'nowhere': 5986, 'ikno': 5987, 'doesdiscount': 5988, 'shitinnit': 5989, 'filling': 5990, 'requirements': 5991, 'el': 5992, 'nino': 5993, 'himself': 5994, 'paypal': 5995, 'voila': 5996, 'pockets': 5997, 'txtstar': 5998, 'gimmi': 5999, 'goss': 6000, 'stagwood': 6001, 'winterstone': 6002, 'victors': 6003, 'pump': 6004, 'upping': 6005, 'grams': 6006, 'dramatic': 6007, 'youdoing': 6008, '8800': 6009, 'psp': 6010, 'w8in': 6011, '4utxt': 6012, 'somewhat': 6013, 'laden': 6014, 'wrecked': 6015, 'olave': 6016, 'mandara': 6017, 'trishul': 6018, 'html': 6019, 'gbp4': 6020, 'mfl': 6021, 'hitter': 6022, 'factory': 6023, 'grave': 6024, 'vill': 6025, 'orc': 6026, 'hearts': 6027, 'powerful': 6028, 'weapon': 6029, 'occupy': 6030, \"'heart'\": 6031, 'bleak': 6032, 'tarot': 6033, '85555': 6034, 'vijaykanth': 6035, 'involve': 6036, 'imposed': 6037, 'the4th': 6038, 'october': 6039, 'perform': 6040, 'sterm': 6041, 'resolved': 6042, 'profile': 6043, 'bpo': 6044, 'mallika': 6045, 'sherawat': 6046, 'rdy': 6047, 'ship': 6048, 'toilet': 6049, 'stolen': 6050, 'cops': 6051, 'hairdressers': 6052, 'beforehand': 6053, '\\rham': 6054, '67441233': 6055, 'irene': 6056, 'ere': 6057, 'bus8': 6058, '65': 6059, '61': 6060, '66': 6061, '382': 6062, 'cres': 6063, 'tech': 6064, '6ph': 6065, '5wkg': 6066, 'ì¬n': 6067, 'lovin': 6068, 'outsider': 6069, 'mobs': 6070, '2u': 6071, 'breathe1': 6072, 'crazyin': 6073, 'sleepingwith': 6074, 'finest': 6075, 'ymca': 6076, 'pobox365o4w45wq': 6077, 'dear1': 6078, 'best1': 6079, 'clos1': 6080, 'lvblefrnd': 6081, 'jstfrnd': 6082, 'cutefrnd': 6083, 'lifpartnr': 6084, 'swtheart': 6085, 'bstfrnd': 6086, 'enemy': 6087, 'entertain': 6088, 'arithmetic': 6089, 'percentages': 6090, 'swollen': 6091, 'glands': 6092, 'such': 6093, 'oooooh': 6094, '2years': 6095, 'strain': 6096, 'practical': 6097, 'build': 6098, 'angels': 6099, 'snowball': 6100, 'shipped': 6101, 'jokin': 6102, '6times': 6103, '09061749602': 6104, '528': 6105, 'hp20': 6106, '1yf': 6107, 'beth': 6108, 'charlie': 6109, 'helen': 6110, 'broth': 6111, 'ramen': 6112, 'ayo': 6113, 'travelled': 6114, 'panther': 6115, 'sugababes': 6116, 'zebra': 6117, 'animation': 6118, 'badass': 6119, 'hoody': 6120, 'appendix': 6121, 'range': 6122, 'darlings': 6123, 'consistently': 6124, 'practicum': 6125, 'links': 6126, 'ears': 6127, '8000930705': 6128, 'muhommad': 6129, 'penny': 6130, 'sparkling': 6131, 'breaks': 6132, '45': 6133, '0121': 6134, '2025050': 6135, 'shortbreaks': 6136, 'org': 6137, 'waited': 6138, '08712103738': 6139, 'ft': 6140, 'combination': 6141, 'boltblue': 6142, 'poly3': 6143, 'jamz': 6144, 'toxic': 6145, 'belongs': 6146, 'fated': 6147, 'shoranur': 6148, 'fuelled': 6149, 'concern': 6150, 'prior': 6151, 'grief': 6152, 'women': 6153, 'liver': 6154, 'managed': 6155, '09090204448': 6156, 'minded': 6157, 'aå£1': 6158, 'minapn': 6159, 'ls278bb': 6160, '85222': 6161, 'winnersclub': 6162, '84': 6163, 'gbp1': 6164, 'shun': 6165, 'bian': 6166, 'glass': 6167, 'exhibition': 6168, 'cutting': 6169, 'suggestion': 6170, 'lands': 6171, 'helps': 6172, 'forgt': 6173, 'puzzeles': 6174, 'fired': 6175, 'professional': 6176, 'tiger': 6177, 'woods': 6178, '87239': 6179, 'velly': 6180, 'billion': 6181, 'videosound': 6182, 'videosounds': 6183, 'musicnews': 6184, '09701213186': 6185, 'resubbing': 6186, 'drama': 6187, 'struggling': 6188, 'ego': 6189, \"'if\": 6190, \"invited'\": 6191, 'necessity': 6192, 'reppurcussions': 6193, 'arr': 6194, 'oscar': 6195, '61610': 6196, '08712400602450p': 6197, 'provided': 6198, 'tones2you': 6199, 'mouth': 6200, 'ploughing': 6201, 'pile': 6202, 'ironing': 6203, 'chinky': 6204, 'strict': 6205, 'pookie': 6206, \"all's\": 6207, 'get4an18th': 6208, 'describe': 6209, 'nhs': 6210, '2b': 6211, 'terminated': 6212, 'inconvenience': 6213, 'presents': 6214, 'nicky': 6215, 'sundayish': 6216, 'sumfing': 6217, 'noiåõm': 6218, 'js': 6219, 'stage': 6220, 'jog': 6221, '2yrs': 6222, '0906346330': 6223, '47': 6224, 'po19': 6225, '2ez': 6226, 'keen': 6227, 'sonetimes': 6228, 'rough': 6229, 'tip': 6230, \"roommate's\": 6231, 'complementary': 6232, 'wa14': 6233, '2px': 6234, 'needy': 6235, 'unnecessarily': 6236, 'hostile': 6237, 'protect': 6238, 'sib': 6239, 'sensitive': 6240, 'passwords': 6241, 'meaningless': 6242, 'elaborating': 6243, 'safety': 6244, 'aspects': 6245, '08708800282': 6246, 'salesman': 6247, 'tootsie': 6248, 'hanks': 6249, 'lotsly': 6250, '09058094454': 6251, 'specialisation': 6252, 'labor': 6253, 'shakara': 6254, 'beggar': 6255, 'kaila': 6256, 'andre': 6257, \"virgil's\": 6258, 'wavering': 6259, 'decisions': 6260, 'heal': 6261, 'nachos': 6262, 'hooch': 6263, 'toaday': 6264, 'splat': 6265, 'grazed': 6266, 'knees': 6267, 'learned': 6268, 'pity': 6269, 'suggestions': 6270, 'dark': 6271, 'teenager': 6272, 'oral': 6273, 'sunoco': 6274, 'flaky': 6275, \"it'snot\": 6276, \"child's\": 6277, 'unintentional': 6278, 'nonetheless': 6279, 'fret': 6280, 'strips': 6281, 'postal': 6282, 'summers': 6283, 'matched': 6284, 'help08714742804': 6285, 'scrappy': 6286, 'hourish': 6287, 'brighten': 6288, 'smaller': 6289, 'capacity': 6290, 'passion': 6291, '09099726481': 6292, 'dena': 6293, 'reassuring': 6294, 'beerage': 6295, 'evaporated': 6296, 'stealing': 6297, \"employer's\": 6298, 'various': 6299, 'yeovil': 6300, 'motor': 6301, 'max': 6302, 'treasure': 6303, 'pleasured': 6304, 'arrow': 6305, 'copies': 6306, 'uniform': 6307, 'grumble': 6308, 'unlike': 6309, 'patients': 6310, 'turkeys': 6311, 'mouse': 6312, 'desk': 6313, 'jacket': 6314, 'easter': 6315, 'decorating': 6316, \"party's\": 6317, 'contribute': 6318, 'greatly': 6319, 'appreciated': 6320, 'olowoyey': 6321, 'argentina': 6322, 'answered': 6323, 'mw': 6324, 'tuth': 6325, '09061701851': 6326, 'k61': 6327, '12hours': 6328, 'macho': 6329, 'pap': 6330, 'nose': 6331, 'essay': 6332, 'yuou': 6333, 'spot': 6334, 'silly': 6335, 'isn\\x89û÷t': 6336, 'bomb': 6337, 'hf8': 6338, 'lark': 6339, 'panren': 6340, 'paru': 6341, 'locks': 6342, 'jenne': 6343, 'breaking': 6344, 'cstore': 6345, 'fring': 6346, 'popping': 6347, 'ibuprofens': 6348, '08717895698': 6349, 'mobstorequiz10ppm': 6350, 'whore': 6351, 'oga': 6352, 'motherfucker': 6353, '645': 6354, 'thirtyeight': 6355, '0089': 6356, 'digits': 6357, '09063442151': 6358, 'youphone': 6359, 'athome': 6360, 'youwanna': 6361, 'honestly': 6362, 'promptly': 6363, 'burnt': 6364, 'lays': 6365, 'canåõt': 6366, 'isnåõt': 6367, 'shite': 6368, 'kip': 6369, 'satanic': 6370, 'imposter': 6371, 'destiny': 6372, \"riley's\": 6373, 'mokka': 6374, 'west': 6375, \"ìï'll\": 6376, 'crowd': 6377, 'dusk': 6378, 'puzzles': 6379, 'headstart': 6380, 'rummer': 6381, 'stubborn': 6382, 'sucker': 6383, 'suckers': 6384, 'kane': 6385, 'shud': 6386, 'cheyyamo': 6387, 'heat': 6388, 'applyed': 6389, 'bhaji': 6390, 'cricketer': 6391, 'ello': 6392, 'clothes': 6393, 'proper': 6394, 'tongued': 6395, 'wither': 6396, '23f': 6397, '23g': 6398, 'arngd': 6399, 'walkin': 6400, 'unfortuntly': 6401, 'bites': 6402, 'frnt': 6403, 'sayin': 6404, 'comingdown': 6405, 'borderline': 6406, 'mmmmm': 6407, 'banned': 6408, 'olol': 6409, 'forum': 6410, 'thasa': 6411, 'messed': 6412, 'memory': 6413, 'humans': 6414, 'radiator': 6415, 'improved': 6416, 'macedonia': 6417, 'ì¼1': 6418, 'poboxox36504w45wq': 6419, 'go2sri': 6420, 'lanka': 6421, '448712404000': 6422, '08712404000': 6423, 'jaykwon': 6424, 'thuglyfe': 6425, 'falconerf': 6426, 'firsg': 6427, 'increase': 6428, 'financial': 6429, 'ecstasy': 6430, 'natalie': 6431, 'natalie2k9': 6432, 'varunnathu': 6433, 'edukkukayee': 6434, 'raksha': 6435, 'ollu': 6436, 'grocers': 6437, 'somewhr': 6438, 'crushes': 6439, 'allo': 6440, 'braved': 6441, 'buses': 6442, 'triumphed': 6443, 'b\\x89û÷ham': 6444, 'escalator': 6445, 'converted': 6446, 'practising': 6447, 'curtsey': 6448, 'classes': 6449, 'dodgey': 6450, 'hasbro': 6451, 'jump': 6452, 'hoops': 6453, 'fatty': 6454, 'woo': 6455, 'hoo': 6456, 'recieve': 6457, '24hrs': 6458, 'teletext': 6459, 'fav': 6460, 'shrek': 6461, 'poyyarikatur': 6462, 'kolathupalayam': 6463, 'unjalur': 6464, 'erode': 6465, 'uncountable': 6466, 'passport': 6467, 'owe': 6468, 'monkey': 6469, 'asshole': 6470, 'ubandu': 6471, 'disk': 6472, 'abbey': 6473, 'begun': 6474, 'registration': 6475, 'permanent': 6476, 'residency': 6477, 'err': 6478, '8pm': 6479, 'nimbomsons': 6480, 'ding': 6481, 'fassyole': 6482, 'blacko': 6483, 'londn': 6484, 'x29': 6485, '09065989180': 6486, 'stil': 6487, 'fucked': 6488, 'tobed': 6489, '430': 6490, 'needa': 6491, 'stories': 6492, 'amongst': 6493, 'breeze': 6494, 'fresh': 6495, 'twittering': 6496, 'naal': 6497, 'eruku': 6498, 'tirunelvai': 6499, 'buffet': 6500, 'goodmate': 6501, 'asusual': 6502, 'cheered': 6503, 'franyxxxxx': 6504, 'macs': 6505, '24th': 6506, 'wining': 6507, '946': 6508, 'gosh': 6509, 'spose': 6510, 'continued': 6511, 'president': 6512, '09090900040': 6513, 'extreme': 6514, 'sic': 6515, '7mp': 6516, '0870753331018': 6517, 'intrepid': 6518, 'duo': 6519, 'cooped': 6520, 'dismay': 6521, '15pm': 6522, 'yoyyooo': 6523, 'permissions': 6524, 'mac': 6525, 'werethe': 6526, 'monkeespeople': 6527, 'monkeyaround': 6528, 'howdy': 6529, '28thfeb': 6530, 'patty': 6531, 'haul': 6532, 'forced': 6533, 'mei': 6534, 'haven': 6535, 'bao': 6536, 'sugardad': 6537, 'missy': 6538, '9755': 6539, 'headset': 6540, 'adp': 6541, 'flyng': 6542, 'aries': 6543, 'cherish': 6544, '60': 6545, '400thousad': 6546, 'waheeda': 6547, 'timings': 6548, 'pose': 6549, 'comb': 6550, 'dryer': 6551, \"unicef's\": 6552, 'asian': 6553, 'tsunami': 6554, 'disaster': 6555, 'fund': 6556, '864233': 6557, 'compensation': 6558, 'guoyang': 6559, 'bangbabes': 6560, 'bangb': 6561, 'flurries': 6562, 'lacking': 6563, 'particular': 6564, \"dramastorm's\": 6565, 'faggot': 6566, 'jjc': 6567, 'tendencies': 6568, 'checkmate': 6569, 'chess': 6570, 'persian': 6571, 'phrase': 6572, 'shah': 6573, 'maat': 6574, 'forgiven': 6575, 'portege': 6576, 'm100': 6577, 'axel': 6578, 'akon': 6579, 'eyed': 6580, 'supose': 6581, 'babysit': 6582, 'christmassy': 6583, 'repeat': 6584, 'yalrigu': 6585, 'heltini': 6586, 'iyo': 6587, 'kothi': 6588, 'shared': 6589, 'uttered': 6590, 'trusting': 6591, 'grateful': 6592, 'happier': 6593, '09095350301': 6594, 'erotic': 6595, 'ecstacy': 6596, 'f4q': 6597, 'rows': 6598, 'directors': 6599, 'lac': 6600, 'deposited': 6601, \"'taxless'\": 6602, 'delhi': 6603, 'lane': 6604, 'suply': 6605, 'projects': 6606, 'imf': 6607, 'blocked': 6608, 'corrupt': 6609, 'itna': 6610, 'karo': 6611, 'ki': 6612, 'pura': 6613, 'padhe': 6614, 'inspection': 6615, 'nursery': 6616, 'mmmmmmm': 6617, 'snuggles': 6618, 'contented': 6619, 'sigh': 6620, 'whispers': 6621, 'configure': 6622, 'ouch': 6623, \"'rencontre'\": 6624, 'mountains': 6625, '09061743386': 6626, 'drugdealer': 6627, 'julianaland': 6628, 'oblivious': 6629, 'testing': 6630, 'rounds': 6631, 'excused': 6632, 'accessible': 6633, '08709501522': 6634, '139': 6635, 'la3': 6636, '2wu': 6637, 'walkabout': 6638, 'drizzling': 6639, 'polo': 6640, '373': 6641, 'w1j': 6642, '6hl': 6643, 'clarify': 6644, 'preponed': 6645, 'pei': 6646, 'dine': 6647, 'dobby': 6648, 'unsubscribed': 6649, 'hunks': 6650, 'gotbabes': 6651, 'subscriptions': 6652, 'cutie': 6653, 'hills': 6654, 'gonnamissu': 6655, 'buttheres': 6656, 'aboutas': 6657, 'merememberin': 6658, 'asthere': 6659, 'ofsi': 6660, 'breakin': 6661, 'yaxx': 6662, 'priya': 6663, 'engagement': 6664, 'fixd': 6665, 'shocking': 6666, 'njan': 6667, 'vilikkam': 6668, 'sudn': 6669, 'safely': 6670, 'jontin': 6671, 'tap': 6672, 'spile': 6673, 'broad': 6674, 'canal': 6675, 'signal': 6676, 'unusual': 6677, 'impressively': 6678, 'sensible': 6679, 'watts': 6680, 'prsn': 6681, 'somtimes': 6682, 'saves': 6683, 'nothin': 6684, 'jerk': 6685, '3000': 6686, 'massive': 6687, 'gut': 6688, 'wrenching': 6689, 'hhahhaahahah': 6690, 'nig': 6691, 'leonardo': 6692, 'ortxt': 6693, '1pm': 6694, 'weirdy': 6695, 'brownies': 6696, 'asthma': 6697, 'attack': 6698, 'worrying': 6699, 'quizzes': 6700, 'brother\\x89û÷s': 6701, 'scraped': 6702, 'barrel': 6703, 'misfits': 6704, 'gentleman': 6705, 'dignity': 6706, 'rajas': 6707, 'burrito': 6708, 'costumes': 6709, 'yowifes': 6710, 'mumhas': 6711, 'beendropping': 6712, 'theplace': 6713, 'adress': 6714, 'owl': 6715, 'teresa': 6716, 'dec': 6717, \"you'ld\": 6718, 'bam': 6719, 'aid': 6720, 'usmle': 6721, 'everyso': 6722, 'panicks': 6723, 'ahold': 6724, 'aldrine': 6725, 'rtm': 6726, 'jack': 6727, 'helpful': 6728, 'pretend': 6729, 'hypotheticalhuagauahahuagahyuhagga': 6730, 'gua': 6731, 'faber': 6732, 'massages': 6733, '40': 6734, 'cc100p': 6735, 'withdraw': 6736, 'anyhow': 6737, 'cultures': 6738, 'module': 6739, '83370': 6740, 'trivia': 6741, '62220cncl': 6742, 'stopcs': 6743, '08717890890å£1': 6744, 'figures': 6745, 'goin2bed': 6746, 'only1more': 6747, 'paining': 6748, 'hearing': 6749, 'opposite': 6750, 'ijust': 6751, 'talked': 6752, 'ninish': 6753, 'icky': 6754, 'freek': 6755, 'identification': 6756, 'errors': 6757, 'arestaurant': 6758, 'squid': 6759, 'dosomething': 6760, 'plural': 6761, 'onluy': 6762, 'matters': 6763, 'offcampus': 6764, 'healthy': 6765, 'rd': 6766, 'unclaimed': 6767, '09066368327': 6768, 'closingdate04': 6769, 'claimcode': 6770, 'm39m51': 6771, '50pmmorefrommobile2bremoved': 6772, 'mobypobox734ls27yf': 6773, 'taj': 6774, 'mahal': 6775, 'lesser': 6776, 'known': 6777, 'facts': 6778, \"shahjahan's\": 6779, 'wifes': 6780, 'shahjahan': 6781, 'arises': 6782, 'hari': 6783, 'zac': 6784, 'combine': 6785, \"i'ma\": 6786, 'minus': 6787, 'paragraphs': 6788, 'macha': 6789, 'mindset': 6790, 'engalnd': 6791, 'mia': 6792, 'elliot': 6793, 'kissing': 6794, 'spun': 6795, 'wrld': 6796, 'retired': 6797, 'anal': 6798, 'bang': 6799, 'trends': 6800, 'pros': 6801, 'cons': 6802, 'description': 6803, 'nuclear': 6804, 'fusion': 6805, 'iter': 6806, 'jet': 6807, 'pages': 6808, 'returning': 6809, 'slacking': 6810, 'tonght': 6811, 'cutest': 6812, 'lipo': 6813, '08712402902': 6814, 'praveesh': 6815, 'delicious': 6816, 'recorder': 6817, 'canname': 6818, 'australia': 6819, 'mquiz': 6820, '2bold': 6821, 'level': 6822, 'record': 6823, 'diddy': 6824, 'neighbor': 6825, 'toothpaste': 6826, 'magic': 6827, 'mentor': 6828, 'percent': 6829, 'consent': 6830, 'forms': 6831, 'ree': 6832, 'choices': 6833, 'toss': 6834, 'gudni8': 6835, 'yards': 6836, 'bergkamp': 6837, 'margin': 6838, '78': 6839, '09058094455': 6840, 'dokey': 6841, 'cheesy': 6842, 'frosty': 6843, 'gsex': 6844, '2667': 6845, 'wc1n': 6846, '3xx': 6847, 'mailed': 6848, 'varma': 6849, 'sorta': 6850, 'blown': 6851, 'text82228': 6852, '1mega': 6853, 'pixels': 6854, '3optical': 6855, '5digital': 6856, 'dooms': 6857, 'expired': 6858, 'monoc': 6859, 'monos': 6860, 'polyc': 6861, 'stream': 6862, '0871212025016': 6863, 'tag': 6864, 'messy': 6865, 'bras': 6866, 'strewn': 6867, 'pillows': 6868, 'styles': 6869, 'meg': 6870, 'pouch': 6871, 'maps': 6872, 'printing': 6873, 'handing': 6874, '09066368753': 6875, '97n7qp': 6876, 'guides': 6877, 'past': 6878, 'durham': 6879, 'reserved': 6880, 'lifting': 6881, \"world's\": 6882, 'happiest': 6883, 'characters': 6884, 'differences': 6885, 'footy': 6886, 'stadium': 6887, 'large': 6888, 'coca': 6889, 'cola': 6890, 'bhaskar': 6891, 'creative': 6892, '1225': 6893, 'å£50award': 6894, 'hire': 6895, 'hitman': 6896, 'hcl': 6897, 'requires': 6898, 'freshers': 6899, 'needed': 6900, 'suman': 6901, 'telephonic': 6902, 'brainless': 6903, 'doll': 6904, 'vehicle': 6905, 'sariyag': 6906, 'madoke': 6907, 'barolla': 6908, 'recycling': 6909, 'earning': 6910, 'senor': 6911, 'smarter': 6912, 'sozi': 6913, 'culdnt': 6914, 'talkbut': 6915, 'wannatell': 6916, 'wenwecan': 6917, '32': 6918, 'relieved': 6919, 'westonzoyland': 6920, 'poop': 6921, 'reffering': 6922, 'getiing': 6923, '09077818151': 6924, 'calls1': 6925, '50ppm': 6926, '30s': 6927, 'santacalling': 6928, \"month's\": 6929, 'jos': 6930, \"aunty's\": 6931, 'adsense': 6932, 'approved': 6933, 'fuuuuck': 6934, 'sleepin': 6935, 'approve': 6936, 'panalam': 6937, 'neighbors': 6938, '08715203652': 6939, '42810': 6940, '29': 6941, 'offline': 6942, \"anjola's\": 6943, 'ambitious': 6944, 'arnt': 6945, 'xxxxxxxxxxxxxx': 6946, 'lit': 6947, 'skyving': 6948, 'logging': 6949, 'geoenvironmental': 6950, 'implications': 6951, \"mummy's\": 6952, 'positive': 6953, 'negative': 6954, 'hmmmm': 6955, 'telediscount': 6956, 'compliments': 6957, \"station's\": 6958, 'desparately': 6959, 'priority': 6960, 'windy': 6961, 'ripped': 6962, 'clubmoby': 6963, '08717509990': 6964, 'clash': 6965, 'guai': 6966, 'handsome': 6967, 'finding': 6968, 'grandmas': 6969, 'hungover': 6970, 'kitty': 6971, 'shaved': 6972, 'tescos': 6973, 'bridgwater': 6974, 'banter': 6975, 'biro': 6976, 'restock': 6977, 'matric': 6978, 'manageable': 6979, 'doit': 6980, 'mymoby': 6981, 'gailxx': 6982, 'resuming': 6983, 'reapply': 6984, 'rgent': 6985, 'å£1250': 6986, '09071512433': 6987, '050703': 6988, 'csbcm4235wc1n3xx': 6989, 'callcost': 6990, 'mobilesvary': 6991, 'maxå£7': 6992, 'shore': 6993, 'fox': 6994, 'frndsship': 6995, 'dwn': 6996, '4eva': 6997, 'memorable': 6998, 'lasagna': 6999, '08718726978': 7000, 'fundamentals': 7001, 'qi': 7002, 'suddenly': 7003, 'view': 7004, 'gays': 7005, 'punish': 7006, 'goigng': 7007, 'perfume': 7008, 'firmware': 7009, 'lucyxx': 7010, 'weaknesses': 7011, \"knee's\": 7012, 'exposes': 7013, 'pulls': 7014, 'wicked': 7015, 'purchases': 7016, \"biola's\": 7017, 'fne': 7018, 'lim': 7019, 'jelly': 7020, 'hvae': 7021, '09061701444': 7022, 'jersey': 7023, 'devils': 7024, 'wings': 7025, 'incorrect': 7026, 'keyword': 7027, 'can\\x89û÷t': 7028, 'uncomfortable': 7029, 'ultimately': 7030, 'tor': 7031, 'motive': 7032, 'tui': 7033, 'achieve': 7034, 'korli': 7035, 'arabian': 7036, 'steed': 7037, 'mmmmmm': 7038, 'sink': 7039, 'paces': 7040, 'cage': 7041, 'surrounded': 7042, 'cuck': 7043, 'juswoke': 7044, 'boatin': 7045, 'docks': 7046, 'spinout': 7047, 'fones': 7048, 'wild': 7049, 'stop2stop': 7050, 'flirtparty': 7051, 'replys150': 7052, '30th': 7053, 'areyouunique': 7054, 'mel': 7055, 'opps': 7056, \"tt's\": 7057, 'smsservices': 7058, 'yourinclusive': 7059, 'horniest': 7060, '69888': 7061, 'bffs': 7062, 'carly': 7063, 'antha': 7064, 'corrct': 7065, 'dane': 7066, 'free2day': 7067, \"george's\": 7068, '89080': 7069, 'celeb': 7070, 'pocketbabe': 7071, '0870241182716': 7072, 'intention': 7073, 'visitors': 7074, '07801543489': 7075, 'latests': 7076, 'llc': 7077, 'ny': 7078, 'usa': 7079, 'msgrcvd18': 7080, 'photoshop': 7081, 'glo': 7082, 'sexiest': 7083, 'dirtiest': 7084, '09066660100': 7085, '2309': 7086, 'bathroom': 7087, '850': 7088, '650': 7089, 'snickering': 7090, 'chords': 7091, 'tbs': 7092, 'persolvo': 7093, 'forå£38': 7094, 'kath': 7095, 'manchester': 7096, '08718723815': 7097, 'tallent': 7098, 'wasting': 7099, \"when're\": 7100, 'mcr': 7101, 'flew': 7102, 'toyota': 7103, 'camry': 7104, \"olayiwola's\": 7105, 'mileage': 7106, 'landing': 7107, 'spiritual': 7108, \"everybody's\": 7109, 'shell': 7110, 'unconsciously': 7111, 'unhappy': 7112, 'spoil': 7113, 'abj': 7114, 'placed': 7115, \"prashanthettan's\": 7116, 'dats': 7117, 'dogg': 7118, 'squatting': 7119, 'referin': 7120, \"mei's\": 7121, 'tp': 7122, 'fainting': 7123, 'housework': 7124, 'cuppa': 7125, 'bike': 7126, 'mike': 7127, 'hussey': 7128, 'ore': 7129, 'owo': 7130, 'fro': 7131, 'leads': 7132, 'claims': 7133, 'dept': 7134, '08717507382': 7135, 'quitting': 7136, 'least5times': 7137, \"wudn't\": 7138, 'machines': 7139, 'fan': 7140, 'iraq': 7141, 'afghanistan': 7142, 'stable': 7143, 'honest': 7144, 'traveling': 7145, 'foned': 7146, 'chuck': 7147, \"shit's\": 7148, '69200': 7149, 'chrgd': 7150, '2exit': 7151, 'adi': 7152, 'entey': 7153, 'nattil': 7154, 'kittum': 7155, 'sooo': 7156, 'daaaaa': 7157, '08': 7158, '4719': 7159, '523': 7160, 'pract': 7161, 'flung': 7162, 'kotees': 7163, 'hellogorgeous': 7164, 'nitw': 7165, 'texd': 7166, 'hopeu': 7167, '4ward': 7168, 'jaz': 7169, 'clever': 7170, 'pears': 7171, '07808247860': 7172, '08719899229': 7173, '40411': 7174, '7634': 7175, '7684': 7176, 'raviyog': 7177, 'peripherals': 7178, 'bhayandar': 7179, '09064012103': 7180, 'recpt': 7181, 'checkin': 7182, 'stressed': 7183, 'concentration': 7184, \"blake's\": 7185, 'dartboard': 7186, 'doubles': 7187, 'trebles': 7188, 'weigh': 7189, 'breathe': 7190, 'arguing': 7191, 'shifad': 7192, 'raised': 7193, 'rajitha': 7194, 'ranju': 7195, 'barring': 7196, 'sudden': 7197, 'influx': 7198, 'å£s': 7199, 'orno': 7200, 'pants': 7201, 'depression': 7202, 'sapna': 7203, 'manege': 7204, \"y'day\": 7205, 'hogidhe': 7206, 'chinnu': 7207, 'swalpa': 7208, 'agidhane': 7209, \"cali's\": 7210, 'complexities': 7211, 'freely': 7212, 'taxes': 7213, 'outrageous': 7214, 'mad1': 7215, 'mad2': 7216, '88888': 7217, 'everyones': 7218, 'babysitting': 7219, '08712402972': 7220, 'someday': 7221, 'swimsuit': 7222, 'shiny': 7223, 'warming': 7224, 'constant': 7225, 'investigate': 7226, 'forfeit': 7227, \"'xam\": 7228, '1thing': 7229, 'answr': 7230, 'nooooooo': 7231, 'cable': 7232, 'outage': 7233, '09066362220': 7234, 'fowler': 7235, 'å£1450': 7236, '09053750005': 7237, '310303': 7238, '08718725756': 7239, '140ppm': 7240, 'lanre': 7241, \"fakeye's\": 7242, 'eckankar': 7243, 'breathing': 7244, 'neck': 7245, '24m': 7246, 'rewarding': 7247, 'ger': 7248, 'toking': 7249, 'syd': 7250, 'tke': 7251, \"'hex'\": 7252, \"valentine's\": 7253, '69101': 7254, 'rtf': 7255, 'sphosting': 7256, 'shb': 7257, 'amk': 7258, 'skateboarding': 7259, 'thrown': 7260, 'winds': 7261, 'bandages': 7262, 'sized': 7263, 'fucks': 7264, 'sake': 7265, 'balls': 7266, 'jacuzzi': 7267, 'cloud': 7268, 'fixes': 7269, 'spelling': 7270, 'stairs': 7271, 'phews': 7272, 'reunion': 7273, 'oyster': 7274, 'sashimi': 7275, 'rumbling': 7276, 'adewale': 7277, 'aka': 7278, 'egbon': 7279, 'natwest': 7280, 'limited': 7281, 'iphone': 7282, 'phasing': 7283, 'fourth': 7284, 'dimension': 7285, 'eastenders': 7286, 'compare': 7287, 'herself': 7288, 'violet': 7289, 'tulip': 7290, 'lily': 7291, 'wkent': 7292, '150p16': 7293, 'bits': 7294, 'dessert': 7295, 'brin': 7296, 'sheet': 7297, 'infact': 7298, 'orh': 7299, 'ors': 7300, 'stool': 7301, 'apples': 7302, 'pairs': 7303, 'malarky': 7304, 'saeed': 7305, '3230': 7306, 'textbook': 7307, 'algorithms': 7308, 'edition': 7309, 'punj': 7310, 'tiwary': 7311, 'aeronautics': 7312, 'professors': 7313, 'calld': 7314, 'aeroplane': 7315, 'hurried': 7316, 'hidden': 7317, 'aids': 7318, 'patent': 7319, 'wtc': 7320, 'weiyi': 7321, 'haircut': 7322, 'breezy': 7323, 'community': 7324, '100p': 7325, 'initiate': 7326, 'outbid': 7327, 'simonwatson5120': 7328, 'shinco': 7329, 'plyr': 7330, 'smsrewards': 7331, 'notifications': 7332, 'degrees': 7333, 'secure': 7334, '49557': 7335, 'veggie': 7336, 'kvb': 7337, 'intentions': 7338, 'auntie': 7339, 'huai': 7340, 'props': 7341, '2hrs': 7342, 'vague': 7343, 'accounting': 7344, 'delayed': 7345, 'housing': 7346, 'agency': 7347, 'renting': 7348, 'lap': 7349, 'jez': 7350, 'iscoming': 7351, 'todo': 7352, 'workand': 7353, 'whilltake': 7354, 'luckily': 7355, 'starring': 7356, 'i\\x89û÷ve': 7357, 'salt': 7358, 'rub': 7359, 'wounds': 7360, 'whr': 7361, '84484': 7362, 'hang': 7363, 'starving': 7364, 'surgical': 7365, 'emergency': 7366, 'unfolds': 7367, 'cmon': 7368, 'replies': 7369, 'sorts': 7370, '08452810071': 7371, '07973788240': 7372, '08715203649': 7373, 'kicks': 7374, 'inperialmusic': 7375, 'listening2the': 7376, 'byåóleafcutter': 7377, 'johnåó': 7378, 'insects': 7379, 'molested': 7380, 'plumbing': 7381, 'remixed': 7382, 'evil': 7383, 'acid': 7384, 'rv': 7385, 'rvx': 7386, 'srsly': 7387, 'yi': 7388, 'chk': 7389, 'dict': 7390, 'brainy': 7391, 'adjustable': 7392, 'cooperative': 7393, 'allows': 7394, 'slippery': 7395, 'jot': 7396, 'companion': 7397, 'chef': 7398, 'listener': 7399, 'organizer': 7400, 'sympathetic': 7401, 'athletic': 7402, 'courageous': 7403, 'determined': 7404, 'dependable': 7405, 'psychologist': 7406, 'pest': 7407, 'exterminator': 7408, 'psychiatrist': 7409, 'healer': 7410, 'stylist': 7411, 'aaniye': 7412, 'pudunga': 7413, 'venaam': 7414, 'clip': 7415, '35p': 7416, 'mmsto': 7417, '32323': 7418, 'authorise': 7419, 'salmon': 7420, 'mention': 7421, 'served': 7422, 'surname': 7423, 'clue': 7424, 'begins': 7425, 'åè10': 7426, 'evey': 7427, 'cthen': 7428, 'conclusion': 7429, 'references': 7430, 'tex': 7431, 'mecause': 7432, 'werebored': 7433, 'okden': 7434, 'uin': 7435, 'soundåõs': 7436, 'likeyour': 7437, 'gr8fun': 7438, 'updat': 7439, 'countinlots': 7440, 'loveme': 7441, 'neft': 7442, 'beneficiary': 7443, 'stuffs': 7444, '09061701939': 7445, 's89': 7446, '09061743810': 7447, 'grooved': 7448, 'famous': 7449, 'develop': 7450, \"'anything'\": 7451, 'unconditionally': 7452, 'temper': 7453, \"'married'\": 7454, 'ashwini': 7455, 'performance': 7456, 'calculated': 7457, 'cried': 7458, 'stated': 7459, 'real1': 7460, 'pushbutton': 7461, 'dontcha': 7462, 'babygoodbye': 7463, 'golddigger': 7464, 'webeburnin': 7465, 'agent': 7466, 'goodies': 7467, 'mat': 7468, 'prices': 7469, 'posh': 7470, 'chaps': 7471, 'trial': 7472, 'prods': 7473, 'champneys': 7474, 'dob': 7475, 'showrooms': 7476, 'shaping': 7477, 'thanx4': 7478, 'cer': 7479, 'hont': 7480, 'afterwards': 7481, 'immed': 7482, 'chgs': 7483, 'disagreeable': 7484, 'shola': 7485, 'sagamu': 7486, 'lautech': 7487, 'vital': 7488, 'completes': 7489, 'education': 7490, 'zealand': 7491, 'submitting': 7492, \"carlos'll\": 7493, 'north': 7494, 'carolina': 7495, 'texas': 7496, 'gre': 7497, 'noice': 7498, 'spreadsheet': 7499, 'determine': 7500, 'entire': 7501, 'scratching': 7502, 'gf': 7503, 'certificate': 7504, 'publish': 7505, 'conveying': 7506, 'suffering': 7507, 'dysentry': 7508, 'jenny': 7509, 'leanne': 7510, 'korean': 7511, \"leona's\": 7512, '0721072': 7513, \"'need'\": 7514, \"'comfort'\": 7515, \"'luxury'\": 7516, 'sold': 7517, 'tmorrow': 7518, 'accomodate': 7519, 'payments': 7520, 'fedex': 7521, '09064017295': 7522, 'animal': 7523, 'adoring': 7524, 'doke': 7525, 'laying': 7526, 'payback': 7527, 'stink': 7528, 'stressfull': 7529, 'adds': 7530, 'edge': 7531, 'underdtand': 7532, 'citylink': 7533, 'prediction': 7534, 'tensed': 7535, 'vco': 7536, 'browser': 7537, 'surf': 7538, '515': 7539, 'ciao': 7540, 'ktv': 7541, 'unmits': 7542, 'saibaba': 7543, 'colany': 7544, 'shant': 7545, 'entrepreneurs': 7546, 'ana': 7547, 'sathy': 7548, 'rto': 7549, 'achan': 7550, 'amma': 7551, 'craving': 7552, 'mys': 7553, \"'its\": 7554, 'celebrations': 7555, '69888nyt': 7556, '31p': 7557, 'imin': 7558, 'dontmatter': 7559, 'urgoin': 7560, 'outl8r': 7561, 'sday': 7562, 'drunkard': 7563, 'wildlife': 7564, 'want2come': 7565, 'that2worzels': 7566, 'wizzle': 7567, 'å£1million': 7568, 'ppt150x3': 7569, 'box403': 7570, 'w1t1jy': 7571, 'worms': 7572, 'sometme': 7573, \"dad's\": 7574, 'host': 7575, 'based': 7576, 'idps': 7577, 'linux': 7578, 'systems': 7579, 'unconvinced': 7580, 'elaborate': 7581, 'willpower': 7582, '08701417012150p': 7583, 'tkls': 7584, 'stoptxtstopå£1': 7585, '1apple': 7586, '1tulsi': 7587, 'leaf': 7588, '1lemon': 7589, '1cup': 7590, 'problms': 7591, 'litres': 7592, 'watr': 7593, 'diseases': 7594, 'snd': 7595, 'swell': 7596, '0796xxxxxx': 7597, 'prizeawaiting': 7598, 'sporadically': 7599, '80160': 7600, 'txt43': 7601, 'relaxing': 7602, '7am': 7603, '5ish': 7604, 'remembrs': 7605, 'remembered': 7606, 'everytime': 7607, '07732584351': 7608, 'rodger': 7609, 'importantly': 7610, \"g's\": 7611, 'ammo': 7612, 'ak': 7613, 'gail': 7614, 'l8tr': 7615, 'yaxxx': 7616, 'formatting': 7617, 'neshanth': 7618, \"shade's\": 7619, 'sef': 7620, 'anjie': 7621, 'french': 7622, 'fooled': 7623, 'mcfly': 7624, 'ab': 7625, 'sara': 7626, 'jorge': 7627, 'computers': 7628, 'gran': 7629, 'onlyfound': 7630, 'afew': 7631, 'cusoon': 7632, 'honi': 7633, 'wheellock': 7634, 'muchxxlove': 7635, 'locaxx': 7636, \"gumby's\": 7637, 'jon': 7638, 'spain': 7639, 'dinero': 7640, 'åôrents': 7641, '000pes': 7642, 'å£48': 7643, 'christ': 7644, 'occasion': 7645, 'celebrated': 7646, 'reflection': 7647, 'values': 7648, 'affections': 7649, 'traditions': 7650, 'ideal': 7651, 'luxury': 7652, 'canary': 7653, '20m12aq': 7654, '\\x89ûï': 7655, \"account's\": 7656, 'howda': 7657, 'mathe': 7658, 'samachara': 7659, 'steamboat': 7660, 'becz': 7661, 'undrstndng': 7662, 'avoids': 7663, 'suffer': 7664, 'lyricalladie': 7665, 'hmmross': 7666, 'worc': 7667, 'foregate': 7668, 'shrub': 7669, 'slob': 7670, 'ryder': 7671, 'jade': 7672, 'paul': 7673, 'barmed': 7674, 'detail': 7675, 'bunkers': 7676, 'peaceful': 7677, 'betta': 7678, 'invest': 7679, 'aging': 7680, 'products': 7681, 'slightly': 7682, 'snowboarding': 7683, 'affair': 7684, 'u\\x89ûªve': 7685, 'instant': 7686, '08715203028': 7687, '9th': 7688, 'onwords': 7689, 'mtnl': 7690, 'mumbai': 7691, 'gota': 7692, 'stalking': 7693, 'gprs': 7694, 'completed': 7695, 'ew': 7696, 'europe': 7697, '10th': 7698, '09050000555': 7699, 'ba128nnfwfly150ppm': 7700, '07808': 7701, 'xxxxxx': 7702, '08719899217': 7703, 'significant': 7704, 'sth': 7705, 'specs': 7706, 'px3748': 7707, 'netflix': 7708, 'computerless': 7709, 'lists': 7710, 'lunchtime': 7711, 'organise': 7712, 'sao': 7713, 'suffers': 7714, 'rebooting': 7715, 'shaking': 7716, 'royal': 7717, 'commit': 7718, 'postponed': 7719, 'stocked': 7720, 'blimey': 7721, 'exercise': 7722, 'chit': 7723, 'logon': 7724, '8883': 7725, '4217': 7726, 'w1a': 7727, '6zf': 7728, '118p': 7729, 'sweetheart': 7730, 'plum': 7731, 'smacks': 7732, 'establish': 7733, 'crickiting': 7734, 'lubly': 7735, 'grab': 7736, 'joining': 7737, 'formally': 7738, 'brum': 7739, 'revealing': 7740, '09066364349': 7741, 'box434sk38wp150ppm18': 7742, 'colours': 7743, 'darker': 7744, 'styling': 7745, '078': 7746, 'papers': 7747, 'clas': 7748, 'mc': 7749, 'sip': 7750, 'atleast': 7751, 'shakespeare': 7752, 'infra': 7753, 'spark': 7754, 'rawring': 7755, 'xoxo': 7756, 'hrishi': 7757, 'ruin': 7758, 'payasam': 7759, 'rinu': 7760, '09058094507': 7761, 'asda': 7762, 'counts': 7763, '2nights': 7764, 'uve': 7765, 'wildest': 7766, 'jumpers': 7767, 'hat': 7768, 'belt': 7769, 'cribbs': 7770, 'bridge': 7771, 'lager': 7772, 'turned': 7773, 'we\\x89û÷ll': 7774, 'young': 7775, 'downs': 7776, 'fletcher': 7777, '87131': 7778, 'pobox202': 7779, 'nr31': 7780, '7zs': 7781, '450pw': 7782, \"harish's\": 7783, 'transfred': 7784, 'acnt': 7785, 'gastroenteritis': 7786, 'replace': 7787, 'reduce': 7788, 'limiting': 7789, 'illness': 7790, 'chachi': 7791, 'pl': 7792, 'tiz': 7793, 'kanagu': 7794, 'coherently': 7795, 'breather': 7796, 'granted': 7797, 'fulfil': 7798, 'hmv1': 7799, 'board': 7800, 'overheating': 7801, 'reslove': 7802, 'inst': 7803, \"8'o\": 7804, 'vitamin': 7805, 'aptitude': 7806, 'fortune': 7807, 'casualty': 7808, 'stuff42moro': 7809, 'includes': 7810, 'fetching': 7811, 'acted': 7812, 'upon': 7813, 'lindsay': 7814, 'bars': 7815, 'heron': 7816, 'wahleykkum': 7817, 'tayseer': 7818, 'tissco': 7819, 'visitor': 7820, 'wishlist': 7821, 'section': 7822, 'nitro': 7823, 'breaker': 7824, 'deluxe': 7825, 'features': 7826, 'graphics': 7827, 'bbdeluxe': 7828, 'moves': 7829, \"phone's\": 7830, 'vibrate': 7831, 'acting': 7832, 'nanny': 7833, 'disc': 7834, 'tiring': 7835, 'modules': 7836, 'concentrating': 7837, 'lifted': 7838, 'hopes': 7839, 'approaches': 7840, 'prometazine': 7841, 'syrup': 7842, '5mls': 7843, 'feed': 7844, 'hen': 7845, 'samantha': 7846, 'guitar': 7847, 'impress': 7848, 'doug': 7849, 'realizes': 7850, \"hubby's\": 7851, '89938': 7852, 'strings': 7853, 'rec': 7854, '50ea': 7855, 'otbox': 7856, '731': 7857, 'la1': 7858, '7ws': 7859, 'aluable': 7860, 'ffectionate': 7861, 'oveable': 7862, 'ternal': 7863, 'oble': 7864, 'ruthful': 7865, 'ntimate': 7866, 'atural': 7867, 'namous': 7868, 'esaplanade': 7869, 'opened': 7870, 'sweetie': 7871, 'lov': 7872, 'prestige': 7873, 'westshore': 7874, 'bluff': 7875, '80086': 7876, 'txttowin': 7877, 'risk': 7878, 'awkward': 7879, 'chinatown': 7880, 'porridge': 7881, 'claypot': 7882, 'yam': 7883, 'fishhead': 7884, 'beehoon': 7885, 'reassurance': 7886, 'internal': 7887, 'extract': 7888, 'entirely': 7889, 'chillaxin': 7890, 'nearer': 7891, 'recharged': 7892, '078498': 7893, '08719180219': 7894, 'rupaul': 7895, 'flippin': 7896, 'endowed': 7897, 'disappointment': 7898, 'toledo': 7899, 'rimac': 7900, 'pocy': 7901, 'symptoms': 7902, 'agents': 7903, 'experiment': 7904, 'kay': 7905, 'mapquest': 7906, 'dogwood': 7907, 'starshine': 7908, 'sips': 7909, 'velachery': 7910, 'fifth': 7911, 'woozles': 7912, 'weasels': 7913, 'confirmed': 7914, 'scarcasim': 7915, 'ccna': 7916, 'destination': 7917, 'wright': 7918, 'ritten': 7919, 'fold': 7920, 'fans': 7921, '0870141701216': 7922, '120p': 7923, 'windows': 7924, 'logoff': 7925, 'sunroof': 7926, 'sux': 7927, 'liquor': 7928, 'loko': 7929, 'urfeeling': 7930, 'bettersn': 7931, 'probthat': 7932, 'overdose': 7933, 'lovejen': 7934, 'adding': 7935, 'zeros': 7936, 'savings': 7937, 'jas': 7938, 'follows': 7939, 'subsequent': 7940, '84128': 7941, 'alternative': 7942, \"term's\": 7943, '09064017305': 7944, 'pobox75ldns7': 7945, 'foley': 7946, 'prizes': 7947, 'eye': 7948, '82050': 7949, 'september': 7950, 'puppy': 7951, 'noise': 7952, 'textand': 7953, '08002988890': 7954, 'lingerie': 7955, 'bridal': 7956, 'petticoatdreams': 7957, 'weddingfriend': 7958, 'howz': 7959, 'rang': 7960, 'newspapers': 7961, 'smoothly': 7962, 'bills': 7963, 'challenging': 7964, 'butting': 7965, 'heads': 7966, 'vs': 7967, 'salon': 7968, 'broken': 7969, 'lord': 7970, 'rings': 7971, 'soundtrack': 7972, 'stdtxtrate': 7973, '09064019788': 7974, 'box42wr29c': 7975, \"they'll\": 7976, 'slurp': 7977, 'srs': 7978, '09061104283': 7979, '50pm': 7980, 'joys': 7981, 'lifeis': 7982, 'daywith': 7983, 'somewheresomeone': 7984, 'tosend': 7985, 'greeting': 7986, 'receipts\\x89ûówell': 7987, 'what\\x89û÷s': 7988, 'perpetual': 7989, 'dd': 7990, 'trained': 7991, 'advisors': 7992, 'dialling': 7993, '402': 7994, \"dealer's\": 7995, 'phony': 7996, 'å£79': 7997, '08704439680ts': 7998, \"hadn't\": 7999, 'clocks': 8000, 'realised': 8001, 'wahay': 8002, 'highest': 8003, 'å£54': 8004, 'maximum': 8005, 'å£71': 8006, 'bids': 8007, '83435': 8008, 'hotmail': 8009, 'sindu': 8010, 'necesity': 8011, 'witout': 8012, \"hw'd\": 8013, 'colleg': 8014, \"wat'll\": 8015, 'wth': 8016, 'functions': 8017, 'events': 8018, \"espe'll\": 8019, 'irritated': 8020, '4wrd': 8021, 'wthout': 8022, 'takecare': 8023, 'seeking': 8024, 'grr': 8025, 'pharmacy': 8026, \"anybody's\": 8027, 'tactful': 8028, 'needing': 8029, \"tyler's\": 8030, 'lavender': 8031, 'route': 8032, 'restrictions': 8033, 'buddys': 8034, 'shitstorm': 8035, 'attributed': 8036, 'weekdays': 8037, 'nails': 8038, 'recorded': 8039}\n"
          ],
          "name": "stdout"
        }
      ]
    },
    {
      "cell_type": "code",
      "metadata": {
        "id": "HisgQv4NhID6"
      },
      "source": [
        "#Add padding to the train set\n",
        "X_train = pad_sequences(X_train, padding='pre')\n",
        "\n",
        "#Get lenght of the longest sequence in the train set\n",
        "maxlen = max(len(message) for message in X_train)\n",
        "\n",
        "#Add padding to the test set\n",
        "X_test = pad_sequences(X_test, padding='pre', maxlen = maxlen)"
      ],
      "execution_count": null,
      "outputs": []
    },
    {
      "cell_type": "code",
      "metadata": {
        "id": "K4HH3Hxgh-8n",
        "outputId": "f0d01e23-36fc-4cdc-9ea7-477da462afdb",
        "colab": {
          "base_uri": "https://localhost:8080/",
          "height": 104
        }
      },
      "source": [
        "#Check data before creating the model\n",
        "#Messages\n",
        "print(\"X train shape and data type:\", X_train.shape, type(X_train))\n",
        "print(\"X test shape and data type:\", X_test.shape, type(X_test))\n",
        "\n",
        "#Targets\n",
        "print(\"\\ny train shape and data type:\", y_train.shape, type(y_train))\n",
        "print(\"y test shape and data type:\", y_test.shape, type(y_test))"
      ],
      "execution_count": null,
      "outputs": [
        {
          "output_type": "stream",
          "text": [
            "X train shape and data type: (4457, 189) <class 'numpy.ndarray'>\n",
            "X test shape and data type: (1115, 189) <class 'numpy.ndarray'>\n",
            "\n",
            "y train shape and data type: (4457,) <class 'pandas.core.series.Series'>\n",
            "y test shape and data type: (1115,) <class 'pandas.core.series.Series'>\n"
          ],
          "name": "stdout"
        }
      ]
    },
    {
      "cell_type": "code",
      "metadata": {
        "id": "G_HxFCK6ymnz",
        "outputId": "8492da78-9c15-4ff4-c00c-94037c4e0ca4",
        "colab": {
          "base_uri": "https://localhost:8080/",
          "height": 52
        }
      },
      "source": [
        "#Convert targets to numpy array to match the message data type\n",
        "\n",
        "y_train = y_train.to_numpy()\n",
        "print(\"y train data type:\",type(y_train))\n",
        "\n",
        "y_test = y_test.to_numpy()\n",
        "print(\"y test data type:\", type(y_test))"
      ],
      "execution_count": null,
      "outputs": [
        {
          "output_type": "stream",
          "text": [
            "y train data type: <class 'numpy.ndarray'>\n",
            "y test data type: <class 'numpy.ndarray'>\n"
          ],
          "name": "stdout"
        }
      ]
    },
    {
      "cell_type": "markdown",
      "metadata": {
        "id": "52Tdie5VyPV9"
      },
      "source": [
        "## Create model"
      ]
    },
    {
      "cell_type": "code",
      "metadata": {
        "id": "902uyLSODERi"
      },
      "source": [
        "#Create model\n",
        "\n",
        "D = 15\n",
        "\n",
        "i = Input(shape = (maxlen,))\n",
        "x = Embedding(input_dim = (vocabulary_size + 1), output_dim = D, input_length = maxlen)(i)\n",
        "x = LSTM(25, return_sequences = True)(x)\n",
        "x = GlobalMaxPooling1D()(x)\n",
        "x = Dense(100, activation = 'relu')(x)\n",
        "x = Dropout(0.2)(x)\n",
        "output = Dense(1, activation = 'sigmoid')(x)\n",
        "\n",
        "#Model\n",
        "model = Model(i, output)"
      ],
      "execution_count": null,
      "outputs": []
    },
    {
      "cell_type": "code",
      "metadata": {
        "id": "uOgUFXSLyHcJ",
        "outputId": "2bd149cf-e51e-4d63-c9ef-a01ae5761a1f",
        "colab": {
          "base_uri": "https://localhost:8080/",
          "height": 399
        }
      },
      "source": [
        "#Check summary\n",
        "model.summary()"
      ],
      "execution_count": null,
      "outputs": [
        {
          "output_type": "stream",
          "text": [
            "Model: \"functional_1\"\n",
            "_________________________________________________________________\n",
            "Layer (type)                 Output Shape              Param #   \n",
            "=================================================================\n",
            "input_1 (InputLayer)         [(None, 189)]             0         \n",
            "_________________________________________________________________\n",
            "embedding (Embedding)        (None, 189, 15)           120600    \n",
            "_________________________________________________________________\n",
            "lstm (LSTM)                  (None, 189, 25)           4100      \n",
            "_________________________________________________________________\n",
            "global_max_pooling1d (Global (None, 25)                0         \n",
            "_________________________________________________________________\n",
            "dense (Dense)                (None, 100)               2600      \n",
            "_________________________________________________________________\n",
            "dropout (Dropout)            (None, 100)               0         \n",
            "_________________________________________________________________\n",
            "dense_1 (Dense)              (None, 1)                 101       \n",
            "=================================================================\n",
            "Total params: 127,401\n",
            "Trainable params: 127,401\n",
            "Non-trainable params: 0\n",
            "_________________________________________________________________\n"
          ],
          "name": "stdout"
        }
      ]
    },
    {
      "cell_type": "code",
      "metadata": {
        "id": "0fUpnLu7GC-o"
      },
      "source": [
        "#Compile model\n",
        "model.compile(optimizer = 'adam', loss = 'binary_crossentropy', metrics = ['accuracy'])"
      ],
      "execution_count": null,
      "outputs": []
    },
    {
      "cell_type": "code",
      "metadata": {
        "id": "YQ3E_eneP6EK"
      },
      "source": [
        "#Create a validation set\n",
        "X_train, X_val, y_train, y_val = train_test_split(X_train, y_train, test_size = 0.15, random_state = 666, stratify = y_train)"
      ],
      "execution_count": null,
      "outputs": []
    },
    {
      "cell_type": "markdown",
      "metadata": {
        "id": "e3X-4YWSyXdG"
      },
      "source": [
        "## Train model"
      ]
    },
    {
      "cell_type": "code",
      "metadata": {
        "id": "_mCPge-gGVGt",
        "outputId": "77ce9d05-d0fb-45ec-d485-127409cde892",
        "colab": {
          "base_uri": "https://localhost:8080/",
          "height": 260
        }
      },
      "source": [
        "#Train model\n",
        "history = model.fit(X_train, y_train, epochs = 7, validation_data = (X_val, y_val))"
      ],
      "execution_count": null,
      "outputs": [
        {
          "output_type": "stream",
          "text": [
            "Epoch 1/7\n",
            "119/119 [==============================] - 10s 81ms/step - loss: 0.4327 - accuracy: 0.8646 - val_loss: 0.3751 - val_accuracy: 0.8655\n",
            "Epoch 2/7\n",
            "119/119 [==============================] - 9s 77ms/step - loss: 0.1915 - accuracy: 0.9269 - val_loss: 0.0980 - val_accuracy: 0.9761\n",
            "Epoch 3/7\n",
            "119/119 [==============================] - 9s 78ms/step - loss: 0.0377 - accuracy: 0.9923 - val_loss: 0.0791 - val_accuracy: 0.9821\n",
            "Epoch 4/7\n",
            "119/119 [==============================] - 9s 77ms/step - loss: 0.0144 - accuracy: 0.9966 - val_loss: 0.0902 - val_accuracy: 0.9821\n",
            "Epoch 5/7\n",
            "119/119 [==============================] - 9s 77ms/step - loss: 0.0088 - accuracy: 0.9976 - val_loss: 0.0758 - val_accuracy: 0.9776\n",
            "Epoch 6/7\n",
            "119/119 [==============================] - 9s 77ms/step - loss: 0.0051 - accuracy: 0.9992 - val_loss: 0.0793 - val_accuracy: 0.9806\n",
            "Epoch 7/7\n",
            "119/119 [==============================] - 9s 77ms/step - loss: 0.0026 - accuracy: 0.9995 - val_loss: 0.1009 - val_accuracy: 0.9806\n"
          ],
          "name": "stdout"
        }
      ]
    },
    {
      "cell_type": "code",
      "metadata": {
        "id": "HQitwUTKGkic",
        "outputId": "05dbd59c-c614-4452-c074-80603256a49b",
        "colab": {
          "base_uri": "https://localhost:8080/",
          "height": 296
        }
      },
      "source": [
        "#Plot accuracy\n",
        "plt.plot(history.history['accuracy'], label = 'train accuracy')\n",
        "plt.plot(history.history['val_accuracy'], label = 'validation accuracy')\n",
        "plt.ylabel(\"Accuracy\")\n",
        "plt.xlabel(\"Epochs\")\n",
        "plt.legend(loc = 'lower right')"
      ],
      "execution_count": null,
      "outputs": [
        {
          "output_type": "execute_result",
          "data": {
            "text/plain": [
              "<matplotlib.legend.Legend at 0x7fc86585e470>"
            ]
          },
          "metadata": {
            "tags": []
          },
          "execution_count": 26
        },
        {
          "output_type": "display_data",
          "data": {
            "image/png": "[encoded data removed]",
            "text/plain": [
              "<Figure size 432x288 with 1 Axes>"
            ]
          },
          "metadata": {
            "tags": [],
            "needs_background": "light"
          }
        }
      ]
    },
    {
      "cell_type": "code",
      "metadata": {
        "id": "EnxQgOt_Sq-C",
        "outputId": "021eab53-3961-44cc-ee77-6e9ef886944a",
        "colab": {
          "base_uri": "https://localhost:8080/",
          "height": 296
        }
      },
      "source": [
        "#Plot loss\n",
        "plt.plot(history.history['loss'], label = 'train loss')\n",
        "plt.plot(history.history['val_loss'], label = 'validation loss')\n",
        "plt.ylabel(\"Loss\")\n",
        "plt.xlabel(\"Epochs\")\n",
        "plt.legend(loc = 'upper left')"
      ],
      "execution_count": null,
      "outputs": [
        {
          "output_type": "execute_result",
          "data": {
            "text/plain": [
              "<matplotlib.legend.Legend at 0x7fc865344438>"
            ]
          },
          "metadata": {
            "tags": []
          },
          "execution_count": 27
        },
        {
          "output_type": "display_data",
          "data": {
            "image/png": "[encoded data removed]",
            "text/plain": [
              "<Figure size 432x288 with 1 Axes>"
            ]
          },
          "metadata": {
            "tags": [],
            "needs_background": "light"
          }
        }
      ]
    },
    {
      "cell_type": "markdown",
      "metadata": {
        "id": "WJwkoGLYybiy"
      },
      "source": [
        "## Prediction"
      ]
    },
    {
      "cell_type": "code",
      "metadata": {
        "id": "zBT560G_SvhM"
      },
      "source": [
        "predictions = model.predict(X_test)"
      ],
      "execution_count": null,
      "outputs": []
    },
    {
      "cell_type": "markdown",
      "metadata": {
        "id": "PmFbgOSLygNN"
      },
      "source": [
        "## Check performance"
      ]
    },
    {
      "cell_type": "code",
      "metadata": {
        "id": "Sas0USQIS5Th",
        "outputId": "589e5b5c-0d57-4d7b-a74e-182a653a7440",
        "colab": {
          "base_uri": "https://localhost:8080/",
          "height": 52
        }
      },
      "source": [
        "model.evaluate(X_test, y_test)"
      ],
      "execution_count": null,
      "outputs": [
        {
          "output_type": "stream",
          "text": [
            "35/35 [==============================] - 1s 15ms/step - loss: 0.0681 - accuracy: 0.9883\n"
          ],
          "name": "stdout"
        },
        {
          "output_type": "execute_result",
          "data": {
            "text/plain": [
              "[0.0681028664112091, 0.9883407950401306]"
            ]
          },
          "metadata": {
            "tags": []
          },
          "execution_count": 29
        }
      ]
    },
    {
      "cell_type": "code",
      "metadata": {
        "id": "dEDRMIZwWYSL"
      },
      "source": [
        "#Convert prediction probabilities to labels using a 0.5 threshold\n",
        "prediction_labels = [0 if x < 0.5 else 1 for x in predictions]"
      ],
      "execution_count": null,
      "outputs": []
    },
    {
      "cell_type": "code",
      "metadata": {
        "id": "DCyV5r9sTPrY",
        "outputId": "008356d9-ec99-4f11-b8ac-260a283175dc",
        "colab": {
          "base_uri": "https://localhost:8080/",
          "height": 552
        }
      },
      "source": [
        "#Create a confusion matrix with the results from the predictions\n",
        "target_labels = ['ham', 'spam']\n",
        "\n",
        "print(\"\\nConfusion matrix:\\n\")\n",
        "plt.figure(figsize = (8,8))\n",
        "sns.heatmap(confusion_matrix(y_test, prediction_labels), annot = True, fmt='d', cmap = 'magma', xticklabels = target_labels, yticklabels = target_labels)\n",
        "plt.yticks(rotation = 0) "
      ],
      "execution_count": null,
      "outputs": [
        {
          "output_type": "stream",
          "text": [
            "\n",
            "Confusion matrix:\n",
            "\n"
          ],
          "name": "stdout"
        },
        {
          "output_type": "execute_result",
          "data": {
            "text/plain": [
              "(array([0.5, 1.5]), <a list of 2 Text major ticklabel objects>)"
            ]
          },
          "metadata": {
            "tags": []
          },
          "execution_count": 31
        },
        {
          "output_type": "display_data",
          "data": {
            "image/png": "[encoded data removed]",
            "text/plain": [
              "<Figure size 576x576 with 2 Axes>"
            ]
          },
          "metadata": {
            "tags": [],
            "needs_background": "light"
          }
        }
      ]
    },
    {
      "cell_type": "code",
      "metadata": {
        "id": "wJT99FONdLrO",
        "outputId": "5b6f7826-fde4-41fd-f671-647b5165976c",
        "colab": {
          "base_uri": "https://localhost:8080/",
          "height": 173
        }
      },
      "source": [
        "#Classification report\n",
        "print(classification_report(y_test, prediction_labels, target_names = target_labels, digits = 3))"
      ],
      "execution_count": null,
      "outputs": [
        {
          "output_type": "stream",
          "text": [
            "              precision    recall  f1-score   support\n",
            "\n",
            "         ham      0.989     0.998     0.993       966\n",
            "        spam      0.986     0.926     0.955       149\n",
            "\n",
            "    accuracy                          0.988      1115\n",
            "   macro avg      0.987     0.962     0.974      1115\n",
            "weighted avg      0.988     0.988     0.988      1115\n",
            "\n"
          ],
          "name": "stdout"
        }
      ]
    },
    {
      "cell_type": "markdown",
      "metadata": {
        "id": "nJ_v9TCOynAX"
      },
      "source": [
        "## Improve performance"
      ]
    },
    {
      "cell_type": "markdown",
      "metadata": {
        "id": "Mi8vPGw8bzJK"
      },
      "source": [
        "With a 0.5 threshold, the model classified 16 spam messages as ham. Also, the model classified 3 ham messages as spam. But for a spam detector, I think it is better to have less spams classified as ham and only a few ham messages classified as spam. \n",
        "\n",
        "To improve the classification, I will find explore F1 scores using different thresholds to decrease the number of spam messages classified as ham. I think having less spam classified as ham is better for a spam detector"
      ]
    },
    {
      "cell_type": "code",
      "metadata": {
        "id": "0pRuLWSs4kuz",
        "outputId": "fb206d1a-b020-41ce-b0d0-25412eadec0e",
        "colab": {
          "base_uri": "https://localhost:8080/",
          "height": 52
        }
      },
      "source": [
        "#Find the best threshold given the best F1 score\n",
        "thresholds = []\n",
        "scores = []\n",
        "\n",
        "#Loop to get the scores\n",
        "for threshold in range(0, 101, 1):\n",
        "  thresholds.append(threshold/100)\n",
        "  prediction_labels = [0 if x < (threshold/100) else 1 for x in predictions]\n",
        "  scores.append(f1_score(y_test, prediction_labels))\n",
        "\n",
        "#Get best threshold\n",
        "best_threshold = thresholds[scores.index(max(scores))]\n",
        "print(\"A threshold of\", best_threshold, \" gives the best F1 score:\", max(scores), \"\\n\")"
      ],
      "execution_count": null,
      "outputs": [
        {
          "output_type": "stream",
          "text": [
            "A threshold of 0.07  gives the best F1 score: 0.9621993127147765 \n",
            "\n"
          ],
          "name": "stdout"
        }
      ]
    },
    {
      "cell_type": "code",
      "metadata": {
        "id": "n9eegke6YU69",
        "outputId": "70a3b70d-ca57-412d-e9e6-5e771b6127df",
        "colab": {
          "base_uri": "https://localhost:8080/",
          "height": 312
        }
      },
      "source": [
        "#Plot thresholds vs F1 Score\n",
        "\n",
        "plt.title(\"Thresholds vs F1 Score\")\n",
        "plt.xlabel(\"Thresholds\")\n",
        "plt.ylabel(\"F1 score\")\n",
        "plt.plot(thresholds, scores,  label = 'Scores')\n",
        "plt.plot(best_threshold, max(scores), 'ro', label = 'Best Score')\n",
        "plt.legend(loc = 'lower center')"
      ],
      "execution_count": null,
      "outputs": [
        {
          "output_type": "execute_result",
          "data": {
            "text/plain": [
              "<matplotlib.legend.Legend at 0x7fc868b5c6d8>"
            ]
          },
          "metadata": {
            "tags": []
          },
          "execution_count": 34
        },
        {
          "output_type": "display_data",
          "data": {
            "image/png": "[encoded data removed]",
            "text/plain": [
              "<Figure size 432x288 with 1 Axes>"
            ]
          },
          "metadata": {
            "tags": [],
            "needs_background": "light"
          }
        }
      ]
    },
    {
      "cell_type": "code",
      "metadata": {
        "id": "jCel9zooXcn6"
      },
      "source": [
        "#Convert prediction probabilities to labels with the best threshold\n",
        "prediction_labels = [0 if x < best_threshold else 1 for x in predictions]"
      ],
      "execution_count": null,
      "outputs": []
    },
    {
      "cell_type": "code",
      "metadata": {
        "id": "L3YtO92pXsfU",
        "outputId": "7f9802c9-0916-44b0-d4e9-6b767defcfee",
        "colab": {
          "base_uri": "https://localhost:8080/",
          "height": 552
        }
      },
      "source": [
        "#Create a confusion matrix with the results from the predictions\n",
        "target_labels = ['ham', 'spam']\n",
        "\n",
        "print(\"\\nConfusion matrix:\\n\")\n",
        "plt.figure(figsize = (8,8))\n",
        "sns.heatmap(confusion_matrix(y_test, prediction_labels), annot = True, fmt='d', cmap = 'magma', xticklabels = target_labels, yticklabels = target_labels)\n",
        "plt.yticks(rotation = 0) "
      ],
      "execution_count": null,
      "outputs": [
        {
          "output_type": "stream",
          "text": [
            "\n",
            "Confusion matrix:\n",
            "\n"
          ],
          "name": "stdout"
        },
        {
          "output_type": "execute_result",
          "data": {
            "text/plain": [
              "(array([0.5, 1.5]), <a list of 2 Text major ticklabel objects>)"
            ]
          },
          "metadata": {
            "tags": []
          },
          "execution_count": 36
        },
        {
          "output_type": "display_data",
          "data": {
            "image/png": "[encoded data removed]",
            "text/plain": [
              "<Figure size 576x576 with 2 Axes>"
            ]
          },
          "metadata": {
            "tags": [],
            "needs_background": "light"
          }
        }
      ]
    },
    {
      "cell_type": "code",
      "metadata": {
        "id": "vZLuEuD2Xxcp",
        "outputId": "c64fbfa8-e6b8-4202-b3cb-7f3ddea77c4a",
        "colab": {
          "base_uri": "https://localhost:8080/",
          "height": 173
        }
      },
      "source": [
        "#Classification report\n",
        "print(classification_report(y_test, prediction_labels, target_names = target_labels, digits = 3))"
      ],
      "execution_count": null,
      "outputs": [
        {
          "output_type": "stream",
          "text": [
            "              precision    recall  f1-score   support\n",
            "\n",
            "         ham      0.991     0.998     0.994       966\n",
            "        spam      0.986     0.940     0.962       149\n",
            "\n",
            "    accuracy                          0.990      1115\n",
            "   macro avg      0.988     0.969     0.978      1115\n",
            "weighted avg      0.990     0.990     0.990      1115\n",
            "\n"
          ],
          "name": "stdout"
        }
      ]
    }
  ]
}